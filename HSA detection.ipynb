{
 "cells": [
  {
   "cell_type": "code",
   "execution_count": 11,
   "id": "b4c84b59",
   "metadata": {},
   "outputs": [],
   "source": [
    "\n",
    "from functions import *\n",
    "\n",
    "warnings.filterwarnings(\"ignore\")\n",
    "\n",
    "\n"
   ]
  },
  {
   "cell_type": "code",
   "execution_count": 12,
   "id": "62cb81c8",
   "metadata": {},
   "outputs": [
    {
     "name": "stdout",
     "output_type": "stream",
     "text": [
      "1.2.4\n",
      "1.20.1\n",
      "0.11.1\n",
      "0.24.1\n",
      "5.3.1\n",
      "1.8.1\n"
     ]
    }
   ],
   "source": [
    "print(pd.__version__)\n",
    "print(np.__version__)\n",
    "print(sn.__version__)\n",
    "print(sklearn.__version__)\n",
    "print(plotly.__version__)\n",
    "print(scipy.__version__)\n",
    "\n"
   ]
  },
  {
   "cell_type": "code",
   "execution_count": 13,
   "id": "95ba4468",
   "metadata": {},
   "outputs": [],
   "source": [
    "\n",
    "x_axis = (np.array(pd.read_csv('data\\\\x_axis.csv').x))\n",
    "data = pd.read_csv('data\\\\data.csv')\n"
   ]
  },
  {
   "cell_type": "code",
   "execution_count": 14,
   "id": "04869396",
   "metadata": {},
   "outputs": [],
   "source": [
    "\n",
    "\n",
    "Smooth, Standartization, Baselin_corr, median_filter_parameter, first_diff, cut_range_from = True, True, False, False, False, 220\n",
    "\n",
    "data = preprocess_data(data, Smooth, Standartization, Baselin_corr, median_filter_parameter, first_diff, cut_range_from)[0] \n",
    "    \n",
    "\n",
    "val_set = data.query('concentr == 8 or concentr== 11')\n",
    "\n",
    "data = data[~((data['concentr'] ==100) | (data['concentr'] ==8) | (data['concentr'] ==11))]        # убираю ненужные объекты\n"
   ]
  },
  {
   "cell_type": "code",
   "execution_count": 15,
   "id": "66d7fc07",
   "metadata": {},
   "outputs": [
    {
     "name": "stderr",
     "output_type": "stream",
     "text": [
      "  3%|██▊                                                                                | 1/30 [00:01<00:48,  1.67s/it]"
     ]
    },
    {
     "name": "stdout",
     "output_type": "stream",
     "text": [
      "l1_alpha: 1e-06 ,   l2_alpha:  0.09236708571873865\n",
      "train r^2:  0.9651068948634697\n",
      "test r^2 :  0.9428198267406234 ,     test RMSE:  1.8826611089167116\n"
     ]
    },
    {
     "name": "stderr",
     "output_type": "stream",
     "text": [
      "\r",
      "  7%|█████▌                                                                             | 2/30 [00:03<00:46,  1.66s/it]"
     ]
    },
    {
     "name": "stdout",
     "output_type": "stream",
     "text": [
      "l1_alpha: 2.592943797404667e-06 ,   l2_alpha:  0.09236708571873865\n",
      "train r^2:  0.9651068948634697\n",
      "test r^2 :  0.9428198267406234 ,     test RMSE:  1.8826611089167116\n"
     ]
    },
    {
     "name": "stderr",
     "output_type": "stream",
     "text": [
      "\r",
      " 10%|████████▎                                                                          | 3/30 [00:04<00:44,  1.64s/it]"
     ]
    },
    {
     "name": "stdout",
     "output_type": "stream",
     "text": [
      "l1_alpha: 6.723357536499335e-06 ,   l2_alpha:  0.09236708571873865\n",
      "train r^2:  0.9651068948634697\n",
      "test r^2 :  0.9428198267406234 ,     test RMSE:  1.8826611089167116\n"
     ]
    },
    {
     "name": "stderr",
     "output_type": "stream",
     "text": [
      "\r",
      " 13%|███████████                                                                        | 4/30 [00:06<00:42,  1.64s/it]"
     ]
    },
    {
     "name": "stdout",
     "output_type": "stream",
     "text": [
      "l1_alpha: 1.7433288221999873e-05 ,   l2_alpha:  0.09236708571873865\n",
      "train r^2:  0.965243329428786\n",
      "test r^2 :  0.9433043238107547 ,     test RMSE:  1.8746680918006977\n"
     ]
    },
    {
     "name": "stderr",
     "output_type": "stream",
     "text": [
      " 20%|████████████████▌                                                                  | 6/30 [00:09<00:38,  1.61s/it]"
     ]
    },
    {
     "name": "stdout",
     "output_type": "stream",
     "text": [
      "l1_alpha: 0.00011721022975334806 ,   l2_alpha:  0.09236708571873865\n",
      "train r^2:  0.9678756430611648\n",
      "test r^2 :  0.9443519250060876 ,     test RMSE:  1.8572676343677532\n"
     ]
    },
    {
     "name": "stderr",
     "output_type": "stream",
     "text": [
      " 30%|████████████████████████▉                                                          | 9/30 [00:12<00:23,  1.11s/it]"
     ]
    },
    {
     "name": "stdout",
     "output_type": "stream",
     "text": [
      "l1_alpha: 0.0020433597178569417 ,   l2_alpha:  0.09236708571873865\n",
      "train r^2:  0.9764012120966491\n",
      "test r^2 :  0.9482779556608516 ,     test RMSE:  1.7905533229714239\n"
     ]
    },
    {
     "name": "stderr",
     "output_type": "stream",
     "text": [
      "100%|██████████████████████████████████████████████████████████████████████████████████| 30/30 [00:14<00:00,  2.05it/s]\n"
     ]
    }
   ],
   "source": [
    "X_train, X_test,y_train,y_test=train_test_split(data[data.columns[:-3]],  data.concentr,\n",
    "                                      test_size = 0.2, stratify = data.concentr, random_state = 42 )\n",
    "min_error_test = 2\n",
    "\n",
    "X_train, y_train = add_noise(X_train, y_train)\n",
    "  \n",
    "for alpha in tqdm(np.logspace(-6,6,30)):       \n",
    "                model_lasso = SelectFromModel(Lasso(alpha = alpha).fit(X_train, y_train), prefit=True)\n",
    "                X_train_1 = model_lasso.transform(X_train)\n",
    "                if X_train_1.shape[1]==0:\n",
    "                    continue\n",
    "                X_test_1 = model_lasso.transform(X_test)\n",
    "                clf = RidgeCV(alphas=np.logspace(-6,6,30), cv = 5).fit(X_train_1, y_train)\n",
    "                clf.score(X_train_1, y_train)\n",
    "                y_pred = clf.predict(X_test_1)\n",
    "                error_test = mean_squared_error(y_test, y_pred, squared = False)\n",
    "                if error_test<min_error_test:\n",
    "                    min_error_test = error_test\n",
    "                if clf.best_score_>0.9 and error_test <= min_error_test:\n",
    "\n",
    "                    print('l1_alpha:',alpha, ',   l2_alpha: ', clf.alpha_)\n",
    "                    print(\"train r^2: \" ,clf.best_score_)\n",
    "                    print ('test r^2 : ',r2_score(y_test, y_pred),',     test RMSE: ', error_test )\n",
    "\n",
    "                    "
   ]
  },
  {
   "cell_type": "code",
   "execution_count": 30,
   "id": "3c7a684b",
   "metadata": {},
   "outputs": [
    {
     "data": {
      "image/png": "[encoded data removed]",
      "text/plain": [
       "<Figure size 432x288 with 1 Axes>"
      ]
     },
     "metadata": {},
     "output_type": "display_data"
    },
    {
     "name": "stdout",
     "output_type": "stream",
     "text": [
      "MSE 8.205934027340293 2.2642713805306074\n",
      "R^2 : 0.9634716847933064\n"
     ]
    }
   ],
   "source": [
    "\n",
    "\n",
    "X_train, X_test,y_train,y_test=train_test_split(data[data.columns[:-3]],  data.concentr,\n",
    "                                      test_size = 0.2, stratify = data.concentr, random_state = 38)\n",
    "\n",
    "X_train, y_train = add_noise(X_train, y_train)\n",
    "\n",
    "\n",
    "model_lasso = SelectFromModel(Lasso(alpha = 1e-06).fit(X_train, y_train), prefit=True)\n",
    "reg = Ridge(alpha=0.09, random_state = 31).fit(model_lasso.transform(X_train), y_train)\n",
    "y_pred = reg.predict(model_lasso.transform(X_test))\n",
    "y_pred_val = reg.predict(model_lasso.transform((np.array(val_set)[:,:-3])))\n",
    "plt.scatter(y_test, y_pred)\n",
    "plt.scatter(val_set.concentr,y_pred_val )\n",
    "plt.show()\n",
    "\n",
    "print ('MSE', mean_squared_error(val_set.concentr, y_pred_val),mean_squared_error(y_test, y_pred))\n",
    "print ('R^2 :', r2_score(y_test, y_pred))"
   ]
  },
  {
   "cell_type": "code",
   "execution_count": 32,
   "id": "58a1a8df",
   "metadata": {},
   "outputs": [
    {
     "data": {
      "application/vnd.plotly.v1+json": {
       "config": {
        "plotlyServerURL": "https://plot.ly"
       },
       "data": [
        {
         "mode": "lines",
         "type": "scatter",
         "x": [
          399.801,
          401.769,
          403.737,
          405.704,
          407.67,
          409.635,
          411.6,
          413.564,
          415.527,
          417.489,
          419.451,
          421.412,
          423.373,
          425.333,
          427.292,
          429.25,
          431.208,
          433.165,
          435.121,
          437.076,
          439.031,
          440.985,
          442.939,
          444.891,
          446.844,
          448.795,
          450.746,
          452.695,
          454.645,
          456.593,
          458.541,
          460.488,
          462.435,
          464.381,
          466.326,
          468.27,
          470.214,
          472.157,
          474.099,
          476.041,
          477.982,
          479.922,
          481.861,
          483.8,
          485.739,
          487.676,
          489.613,
          491.549,
          493.484,
          495.419,
          497.353,
          499.286,
          501.219,
          503.151,
          505.082,
          507.013,
          508.943,
          510.872,
          512.8,
          514.728,
          516.655,
          518.582,
          520.508,
          522.433,
          524.357,
          526.281,
          528.204,
          530.126,
          532.048,
          533.969,
          535.889,
          537.809,
          539.728,
          541.646,
          543.564,
          545.481,
          547.397,
          549.312,
          551.227,
          553.141,
          555.055,
          556.968,
          558.88,
          560.791,
          562.702,
          564.612,
          566.522,
          568.43,
          570.339,
          572.246,
          574.153,
          576.059,
          577.964,
          579.869,
          581.773,
          583.676,
          585.579,
          587.481,
          589.382,
          591.283,
          593.183,
          595.082,
          596.981,
          598.879,
          600.776,
          602.672,
          604.568,
          606.464,
          608.358,
          610.252,
          612.145,
          614.038,
          615.93,
          617.821,
          619.712,
          621.602,
          623.491,
          625.38,
          627.267,
          629.155,
          631.041,
          632.927,
          634.812,
          636.697,
          638.581,
          640.464,
          642.347,
          644.229,
          646.11,
          647.99,
          649.87,
          651.75,
          653.628,
          655.506,
          657.383,
          659.26,
          661.136,
          663.011,
          664.886,
          666.76,
          668.633,
          670.506,
          672.378,
          674.249,
          676.12,
          677.99,
          679.859,
          681.728,
          683.596,
          685.463,
          687.33,
          689.196,
          691.061,
          692.926,
          694.79,
          696.653,
          698.516,
          700.378,
          702.24,
          704.1,
          705.961,
          707.82,
          709.679,
          711.537,
          713.395,
          715.251,
          717.108,
          718.963,
          720.818,
          722.672,
          724.526,
          726.379,
          728.231,
          730.083,
          731.934,
          733.784,
          735.634,
          737.483,
          739.331,
          741.179,
          743.026,
          744.873,
          746.718,
          748.563,
          750.408,
          752.252,
          754.095,
          755.938,
          757.779,
          759.621,
          761.461,
          763.301,
          765.141,
          766.979,
          768.817,
          770.655,
          772.492,
          774.328,
          776.163,
          777.998,
          779.832,
          781.666,
          783.498,
          785.331,
          787.162,
          788.993,
          790.824,
          792.653,
          794.482,
          796.311,
          798.138,
          799.966,
          801.792,
          803.618,
          805.443,
          807.268,
          809.092,
          810.915,
          812.737,
          814.559,
          816.381,
          818.202,
          820.022,
          821.841,
          823.66,
          825.478,
          827.296,
          829.113,
          830.929,
          832.745,
          834.56,
          836.374,
          838.188,
          840.001,
          841.813,
          843.625,
          845.436,
          847.247,
          849.057,
          850.866,
          852.675,
          854.483,
          856.29,
          858.097,
          859.903,
          861.709,
          863.514,
          865.318,
          867.121,
          868.924,
          870.727,
          872.529,
          874.33,
          876.13,
          877.93,
          879.729,
          881.528,
          883.326,
          885.123,
          886.92,
          888.716,
          890.512,
          892.306,
          894.101,
          895.894,
          897.687,
          899.48,
          901.271,
          903.062,
          904.853,
          906.643,
          908.432,
          910.221,
          912.009,
          913.796,
          915.583,
          917.369,
          919.154,
          920.939,
          922.723,
          924.507,
          926.29,
          928.072,
          929.854,
          931.635,
          933.416,
          935.196,
          936.975,
          938.754,
          940.532,
          942.309,
          944.086,
          945.862,
          947.638,
          949.413,
          951.187,
          952.961,
          954.734,
          956.507,
          958.279,
          960.05,
          961.821,
          963.591,
          965.36,
          967.129,
          968.897,
          970.665,
          972.432,
          974.198,
          975.964,
          977.729,
          979.494,
          981.258,
          983.021,
          984.784,
          986.546,
          988.307,
          990.068,
          991.828,
          993.588,
          995.347,
          997.105,
          998.863,
          1000.62,
          1002.38,
          1004.13,
          1005.89,
          1007.64,
          1009.4,
          1011.15,
          1012.9,
          1014.66,
          1016.41,
          1018.16,
          1019.91,
          1021.66,
          1023.41,
          1025.16,
          1026.91,
          1028.65,
          1030.4,
          1032.15,
          1033.89,
          1035.64,
          1037.38,
          1039.13,
          1040.87,
          1042.61,
          1044.35,
          1046.1,
          1047.84,
          1049.58,
          1051.32,
          1053.06,
          1054.79,
          1056.53,
          1058.27,
          1060.01,
          1061.74,
          1063.48,
          1065.21,
          1066.95,
          1068.68,
          1070.41,
          1072.15,
          1073.88,
          1075.61,
          1077.34,
          1079.07,
          1080.8,
          1082.53,
          1084.26,
          1085.98,
          1087.71,
          1089.44,
          1091.16,
          1092.89,
          1094.61,
          1096.34,
          1098.06,
          1099.78,
          1101.51,
          1103.23,
          1104.95,
          1106.67,
          1108.39,
          1110.11,
          1111.83,
          1113.55,
          1115.26,
          1116.98,
          1118.7,
          1120.41,
          1122.13,
          1123.84,
          1125.56,
          1127.27,
          1128.98,
          1130.7,
          1132.41,
          1134.12,
          1135.83,
          1137.54,
          1139.25,
          1140.96,
          1142.67,
          1144.37,
          1146.08,
          1147.79,
          1149.49,
          1151.2,
          1152.9,
          1154.61,
          1156.31,
          1158.01,
          1159.72,
          1161.42,
          1163.12,
          1164.82,
          1166.52,
          1168.22,
          1169.92,
          1171.62,
          1173.31,
          1175.01,
          1176.71,
          1178.4,
          1180.1,
          1181.79,
          1183.49,
          1185.18,
          1186.88,
          1188.57,
          1190.26,
          1191.95,
          1193.64,
          1195.33,
          1197.02,
          1198.71,
          1200.4,
          1202.09,
          1203.77,
          1205.46,
          1207.15,
          1208.83,
          1210.52,
          1212.2,
          1213.89,
          1215.57,
          1217.25,
          1218.93,
          1220.61,
          1222.3,
          1223.98,
          1225.66,
          1227.33,
          1229.01,
          1230.69,
          1232.37,
          1234.05,
          1235.72,
          1237.4,
          1239.07,
          1240.75,
          1242.42,
          1244.1,
          1245.77,
          1247.44,
          1249.11,
          1250.78,
          1252.45,
          1254.12,
          1255.79,
          1257.46,
          1259.13,
          1260.8,
          1262.47,
          1264.13,
          1265.8,
          1267.46,
          1269.13,
          1270.79,
          1272.46,
          1274.12,
          1275.78,
          1277.45,
          1279.11,
          1280.77,
          1282.43,
          1284.09,
          1285.75,
          1287.41,
          1289.06,
          1290.72,
          1292.38,
          1294.03,
          1295.69,
          1297.35,
          1299,
          1300.66,
          1302.31,
          1303.96,
          1305.61,
          1307.27,
          1308.92,
          1310.57,
          1312.22,
          1313.87,
          1315.52,
          1317.17,
          1318.81,
          1320.46,
          1322.11,
          1323.75,
          1325.4,
          1327.05,
          1328.69,
          1330.33,
          1331.98,
          1333.62,
          1335.26,
          1336.9,
          1338.55,
          1340.19,
          1341.83,
          1343.47,
          1345.11,
          1346.74,
          1348.38,
          1350.02,
          1351.66,
          1353.29,
          1354.93,
          1356.56,
          1358.2,
          1359.83,
          1361.47,
          1363.1,
          1364.73,
          1366.36,
          1367.99,
          1369.63,
          1371.26,
          1372.89,
          1374.51,
          1376.14,
          1377.77,
          1379.4,
          1381.02,
          1382.65,
          1384.28,
          1385.9,
          1387.53,
          1389.15,
          1390.77,
          1392.4,
          1394.02,
          1395.64,
          1397.26,
          1398.88,
          1400.5,
          1402.12,
          1403.74,
          1405.36,
          1406.98,
          1408.6,
          1410.21,
          1411.83,
          1413.45,
          1415.06,
          1416.68,
          1418.29,
          1419.91,
          1421.52,
          1423.13,
          1424.74,
          1426.35,
          1427.97,
          1429.58,
          1431.19,
          1432.8,
          1434.4,
          1436.01,
          1437.62,
          1439.23,
          1440.83,
          1442.44,
          1444.05,
          1445.65,
          1447.26,
          1448.86,
          1450.46,
          1452.07,
          1453.67,
          1455.27,
          1456.87,
          1458.47,
          1460.07,
          1461.67,
          1463.27,
          1464.87,
          1466.47,
          1468.06,
          1469.66,
          1471.26,
          1472.85,
          1474.45,
          1476.04,
          1477.64,
          1479.23,
          1480.82,
          1482.42,
          1484.01,
          1485.6,
          1487.19,
          1488.78,
          1490.37,
          1491.96,
          1493.55,
          1495.14,
          1496.73,
          1498.31,
          1499.9,
          1501.49,
          1503.07,
          1504.66,
          1506.24,
          1507.83,
          1509.41,
          1510.99,
          1512.57,
          1514.16,
          1515.74,
          1517.32,
          1518.9,
          1520.48,
          1522.06,
          1523.64,
          1525.22,
          1526.79,
          1528.37,
          1529.95,
          1531.52,
          1533.1,
          1534.67,
          1536.25,
          1537.82,
          1539.4,
          1540.97,
          1542.54,
          1544.11,
          1545.68,
          1547.25,
          1548.82,
          1550.39,
          1551.96,
          1553.53,
          1555.1,
          1556.67,
          1558.24,
          1559.8,
          1561.37,
          1562.93,
          1564.5,
          1566.06,
          1567.63,
          1569.19,
          1570.75,
          1572.32,
          1573.88,
          1575.44,
          1577,
          1578.56,
          1580.12,
          1581.68,
          1583.24,
          1584.8,
          1586.35,
          1587.91,
          1589.47,
          1591.02,
          1592.58,
          1594.13,
          1595.69,
          1597.24,
          1598.8,
          1600.35,
          1601.9,
          1603.45,
          1605.01,
          1606.56,
          1608.11,
          1609.66,
          1611.21,
          1612.76,
          1614.3,
          1615.85,
          1617.4,
          1618.95,
          1620.49,
          1622.04,
          1623.58,
          1625.13,
          1626.67,
          1628.22,
          1629.76,
          1631.3,
          1632.84,
          1634.39,
          1635.93,
          1637.47,
          1639.01,
          1640.55,
          1642.09,
          1643.62,
          1645.16,
          1646.7,
          1648.24,
          1649.77,
          1651.31,
          1652.84,
          1654.38,
          1655.91,
          1657.45,
          1658.98,
          1660.51,
          1662.05,
          1663.58,
          1665.11,
          1666.64,
          1668.17,
          1669.7,
          1671.23,
          1672.76,
          1674.29,
          1675.82,
          1677.34,
          1678.87,
          1680.4,
          1681.92,
          1683.45,
          1684.97,
          1686.5,
          1688.02,
          1689.54,
          1691.07,
          1692.59,
          1694.11,
          1695.63,
          1697.15,
          1698.67,
          1700.19,
          1701.71,
          1703.23,
          1704.75,
          1706.26,
          1707.78,
          1709.3,
          1710.81,
          1712.33,
          1713.85,
          1715.36,
          1716.87,
          1718.39,
          1719.9,
          1721.41,
          1722.93,
          1724.44,
          1725.95,
          1727.46,
          1728.97,
          1730.48,
          1731.99,
          1733.5,
          1735,
          1736.51,
          1738.02,
          1739.53,
          1741.03,
          1742.54,
          1744.04,
          1745.55,
          1747.05,
          1748.56,
          1750.06,
          1751.56,
          1753.06,
          1754.57,
          1756.07,
          1757.57,
          1759.07,
          1760.57,
          1762.07,
          1763.56,
          1765.06,
          1766.56,
          1768.06,
          1769.55,
          1771.05,
          1772.55,
          1774.04,
          1775.54,
          1777.03,
          1778.52
         ],
         "y": [
          -3.3924442149291187,
          -1.8715184828211542,
          -1.043333789803404,
          -0.7156101542624218,
          -0.6960675945847565,
          -0.25912320426271823,
          -0.5517147903878905,
          -0.7002337805351604,
          -1.2102800595338332,
          -1.2934175208026468,
          -1.6672142689063862,
          -1.6323268788373793,
          -0.7604940151306475,
          0.5396780617397311,
          1.5045710646451411,
          1.7607637781323895,
          1.2763012586100841,
          0.37305221713796405,
          -0.15134265783861517,
          -0.022800011076636484,
          0.7964985328068582,
          1.8859546890750647,
          2.1784112507627897,
          1.6884790926433233,
          0.6135090350310654,
          -0.17122669833449336,
          -0.12611975665885666,
          -0.49687534388445836,
          -0.08871447134608004,
          0.2704785770107023,
          0.3390044635530394,
          0.40366576540791593,
          0.4799799979225838,
          1.0250658734407527,
          1.8049844196822953,
          1.8552926424989589,
          1.6363417633406314,
          1.3072920023828067,
          0.7022727769225002,
          0.01840417508765696,
          -0.09388917268224578,
          -0.4167867604127799,
          -0.3107114728164073,
          -8.319785741452146e-05,
          0.11710165929470401,
          0.2835782334119475,
          0.44893190549791256,
          0.8636744762580773,
          0.765642338404187,
          0.3269013600334139,
          -0.27516176580148877,
          -0.7644921138673382,
          -1.6540632770536159,
          -1.9225992045658975,
          -0.772551891272274,
          0.25964845770695605,
          0.2751004983089732,
          0.2898139644385981,
          -0.6302558567628523,
          -1.0929650165518368,
          -1.2205898243342983,
          -0.5464614751596326,
          0.2683038501371301,
          0.8609967662784375,
          0.8817620502202523,
          0.860451790288673,
          0.38319600083814903,
          0.8836132332756623,
          1.122869879471547,
          1.1489459987634336,
          1.141473442733428,
          0.6904379188564123,
          0.3161263336332266,
          0.6757845873021344,
          0.14263658643275995,
          -0.3335929060838215,
          -1.3920720758555947,
          -1.7715604026915026,
          -1.36307454686433,
          -0.7500485804021297,
          0.6193948667544134,
          2.234704504524144,
          2.407292202293653,
          2.493064426918677,
          1.6345801810925082,
          0.4127147399795619,
          -0.2245275320469341,
          -1.009682042381728,
          -1.6880413831699972,
          -2.7726360838819026,
          -3.363291476533912,
          -3.2892880983167547,
          -3.3674807243373115,
          -1.862645696899018,
          0.2586821267571489,
          1.7205754900319294,
          3.101351192123665,
          3.513040400293209,
          3.9194412879484224,
          3.4435755338515235,
          1.7646783014701526,
          1.5099090882443154,
          0.5963613356874716,
          -0.8795734530812216,
          -1.8952243469851144,
          -2.437697308576872,
          -1.7792994350586449,
          -1.1739594797495796,
          -1.2445658732369587,
          0.04215494356169097,
          0.5644281912330376,
          0.9145959711800402,
          1.2781185310297756,
          1.1656962206776145,
          0.8090196130118634,
          0.44154339997558667,
          0.14158976165415668,
          0.17485217076088014,
          -0.28071544831797374,
          0.1815240095708742,
          0.7733036445834724,
          0.4829282949423884,
          -0.857357070244468,
          -1.3889904308115977,
          -2.0903839859467555,
          -3.223476670661241,
          -3.511363430521062,
          -2.9256254983812133,
          -1.6766496868866407,
          -0.43655303847115834,
          0.15955381548776004,
          1.1760449026109718,
          1.3067243877562875,
          1.124297135939702,
          1.193448614209525,
          0.07307030549409382,
          -0.47597194421109523,
          -1.1518803320516933,
          -1.727296397918407,
          -1.8930402608292562,
          -1.3896211745559592,
          -0.8934343406984002,
          0.6839713716482769,
          1.4104302310162495,
          2.2895376275743358,
          2.8494784470100494,
          3.2327375766153414,
          3.047923061999919,
          2.8485445196591397,
          1.7777684867558643,
          1.5595058811033962,
          0.2574822718255344,
          -0.833453829154274,
          -0.7750591818167432,
          -0.7188615538941396,
          -0.6031050079533335,
          -0.20227697938725933,
          0.11518760335293571,
          0.3931713132270689,
          0.6516772672535074,
          0.4085327562597751,
          0.49672316075974393,
          -0.0121572317857499,
          -1.0708747198861466,
          -1.6881347051169593,
          -1.7581824721106307,
          -1.388058374699237,
          -1.2089414640383596,
          -1.8073837450983092,
          -1.637967681939849,
          -1.3622547311481163,
          -1.2272906544162185,
          -0.8609828615760252,
          0.09711813723074719,
          0.8930309314224241,
          0.4126275064178191,
          0.28732499810327977,
          0.34588650644372004,
          1.000076685181284,
          1.3668412780413404,
          1.532434103046918,
          0.866250078944027,
          -0.5919752057188472,
          -1.2549942749153629,
          -1.4853751062431382,
          -1.4359872473410604,
          -1.1450022090055825,
          -0.3529859666854227,
          0.16233191806142133,
          -0.34786525225415776,
          -1.4391458570008566,
          -0.9349556110171767,
          -0.6379207905152393,
          0.3488781303262554,
          0.924234560898864,
          1.2704184267851717,
          1.513225738612045,
          2.1368629867722473,
          1.9673759987090502,
          2.490475367807383,
          2.2744696069445247,
          2.328166522164622,
          1.4108066005922892,
          -0.6612479537813656,
          -2.2489863511857595,
          -3.2480577943301734,
          -4.591022686493586,
          -4.599787680388806,
          -4.604225139723434,
          -3.334625608604669,
          -1.8631719131514541,
          -0.9843602284890922,
          -0.044976253404255095,
          0.58873709780282,
          0.5399096546079458,
          1.0037312617642724,
          1.3073979047316437,
          2.035948701459193,
          2.4354395975951664,
          1.9025185920487222,
          1.3610607013583098,
          0.6559025087284318,
          0.453855108629442,
          0.6366042484052856,
          0.6896420723059022,
          0.6303198575788728,
          -0.0908134722951775,
          -0.46870716058719475,
          -0.5256747735667102,
          -0.22634919924556335,
          0.8774688879795266,
          1.5112909328656943,
          1.247834672172675,
          0.4939779460118147,
          -1.088603445327183,
          -2.0238181785288667,
          -2.9673607991574134,
          -2.650678831749665,
          -1.5355922803810396,
          -0.09897545142706218,
          1.1385204619165252,
          2.3954763453682766,
          2.989036201011996,
          3.0343674110744443,
          2.06896169507411,
          1.2424803158470232,
          0.07160924127675823,
          -0.7545582455248259,
          -1.0630124895517317,
          -0.8584676685702075,
          -0.8221810504863742,
          -1.2227937809567366,
          -1.251561844152994,
          -1.3366238611749381,
          -1.4640932820258794,
          -1.1932339231032092,
          -0.379833252908426,
          0.7122246160229285,
          1.0332671317258013,
          0.9465304375567494,
          1.5413392633725889,
          1.6946956798526063,
          1.888646069111637,
          1.9769475350977754,
          1.1457920217234694,
          -0.596558132231223,
          -2.261270671878077,
          -2.6248933571251847,
          -2.6999404357328336,
          -2.331983817638809,
          -1.802762380536399,
          -0.7357671904381735,
          -1.1687243568737766,
          -2.0031198075405205,
          -2.3374768020602286,
          -1.4648413332966854,
          -0.5027301707664581,
          0.3534170010558183,
          0.8062345178147307,
          1.5510008708324206,
          1.4276804728487273,
          1.4033531383542976,
          0.08465560311425524,
          -0.8797835741083052,
          -1.727073414986104,
          -1.408170097088115,
          -0.1480273591955339,
          1.521321913239219,
          2.7398291038204983,
          4.143834094071039,
          3.2636510378992396,
          1.5504053390405261,
          -0.21915470719028873,
          -0.6060336130714138,
          -1.3618169813307617,
          -1.4154056154410588,
          -1.8678597594416075,
          -1.3409380828752935,
          -2.336999349122997,
          -2.9016823109090053,
          -3.1610896573313365,
          -2.2980311469867285,
          -1.22878100956793,
          0.6422088092818861,
          1.6686632744289671,
          2.9317970897777474,
          2.693758254749568,
          2.139719097331946,
          1.4078761344706285,
          1.225283707370691,
          0.7317808473726554,
          0.42027733392728106,
          -0.5607686388954105,
          -1.1037796256645527,
          -1.6710980347443807,
          -1.7104982863296532,
          -0.8838072389432342,
          0.2723545959450328,
          1.0174086123302986,
          1.4007205191453487,
          1.046789065803967,
          0.7893257870603083,
          0.472563140593507,
          0.7905347945696097,
          1.1203462291178448,
          1.6978549904736147,
          2.0087990325971417,
          1.9334012305843244,
          1.7140458150790998,
          0.584783538228225,
          -0.36480254104676174,
          -0.6740497367540867,
          -1.0000995188236952,
          -0.6348783204641054,
          0.22600735033569824,
          1.5996665878822642,
          2.1313320270744684,
          0.791503198120351,
          -0.6009543207228136,
          -1.9355353470438634,
          -3.0062102744354817,
          -2.56994734282294,
          -1.3406802052318725,
          0.6441532090641418,
          1.7200111869273198,
          1.5942138165423287,
          1.4649780675790853,
          1.3940758381763698,
          0.8507440526089469,
          0.9882897954003049,
          1.1765160718875443,
          1.4917843936278032,
          0.48128227011321323,
          -0.7743964470506968,
          -1.5062705794974884,
          -1.4176235607273184,
          -0.6741779400237577,
          0.896906280067936,
          2.70259263159842,
          4.712485027778365,
          4.649395524457335,
          3.3646024729428152,
          1.3011014423396283,
          -0.4503987843301196,
          -1.2475866604488575,
          -1.7459531056734452,
          -2.371628205701181,
          -1.9847707127828889,
          -2.3527270538983283,
          -2.5892241509515195,
          -2.471101420056349,
          -1.4094351335091542,
          -0.1944378366080213,
          0.7098991287928531,
          -0.0477982873349079,
          -1.2403459290852075,
          -2.93887154752224,
          -3.6053496260563507,
          -2.9490049830414415,
          -1.5341630386613752,
          -0.07924344759628182,
          1.2966333879445309,
          1.0761295228523622,
          0.256496993495733,
          -0.5698037425760407,
          -1.3828169923426796,
          -1.4963539379224482,
          -1.3522055256816556,
          -1.3479359633619574,
          -1.7310592556242215,
          -2.052441141707094,
          -1.3988744070884085,
          -0.20804066154456713,
          0.5301218350095771,
          1.8814021425789527,
          2.4904182203740284,
          2.15023612372946,
          0.5595767126242726,
          -0.9946012718668666,
          -1.614299679629373,
          -2.023040316714121,
          -1.5434409741150499,
          -0.5645333891898648,
          0.3853359873862612,
          1.0790617933618056,
          1.2848695534081434,
          1.750480676222772,
          2.9488390392826425,
          3.6824865556303292,
          4.409855104186765,
          4.33973178085518,
          3.481663560077613,
          1.643160587028073,
          -0.18499512164147974,
          -1.2293676818362316,
          -0.2370935761261424,
          0.29314543530775883,
          0.6362997122476551,
          0.13462215686588563,
          -0.5871806708666382,
          -1.2577863058615524,
          -1.963505136538331,
          -1.7328473213841504,
          -0.8548253040707812,
          -0.6755764297743431,
          -1.2111049191310541,
          -1.7584942952828215,
          -1.2557614898455542,
          -0.8489479048507254,
          -0.5236073951717424,
          -0.21239933699862446,
          -0.10019783970180024,
          0.1471989493190619,
          0.10509130957215876,
          0.6038257284521442,
          1.6180405874407051,
          2.0283588212993284,
          3.143465191210801,
          3.240691736946214,
          3.505325443846435,
          2.5677681394326592,
          1.2084648758535184,
          -0.30917211611540685,
          -1.5407496898080117,
          -2.095039031882145,
          -1.3896256669618539,
          -0.9044604652230397,
          0.06388047072723982,
          -0.18372646278930266,
          -0.0998194827144475,
          0.11707983748721879,
          -0.14087173462277613,
          0.2335724154650779,
          0.48210082813360894,
          0.0037733237977464196,
          -0.6488558673107446,
          -1.9182561169894892,
          -2.2041641155553418,
          -1.6493651513837426,
          -0.8079430912230462,
          0.18396083671568586,
          0.7830257981160373,
          1.0177841055976844,
          0.7336180652683963,
          0.42340099839337864,
          1.0225844870666605,
          1.8398458637312183,
          2.4575458287759817,
          1.8617778114908456,
          1.1835321988822018,
          0.47377835298503124,
          -0.3871835274329198,
          -0.5783454156439921,
          -0.3323051148404862,
          0.07703765097998105,
          -0.7999693661077111,
          -1.7873971640957613,
          -2.5792245425454032,
          -3.1447773451392607,
          -3.5165990221204817,
          -3.585838532087652,
          -2.551049854992548,
          -0.4235555838561707,
          0.7330350681249191,
          1.9617838193999504,
          2.3014203837853566,
          1.9859640510193706,
          0.47731296920497757,
          -0.2516795025710621,
          -1.1572703415319476,
          -2.02905290929092,
          -2.5776353239018874,
          -2.434061682230415,
          -1.5113121506344305,
          -0.07822243022769074,
          1.6909422294348055,
          4.572655311735102,
          5.230204074184993,
          4.002642526914465,
          3.0647593348772935,
          1.8165020108824743,
          0.7906148247681882,
          0.10292789876979425,
          -1.1894223938561221,
          -2.0711553976406525,
          -3.057574564068922,
          -3.46664591005048,
          -3.55153519873801,
          -3.6122049323924386,
          -3.31432421447953,
          -2.278163503258585,
          -2.217630184343835,
          -1.8268490020685082,
          0.2720469739267679,
          2.6086662056129173,
          3.0107944033770395,
          3.2710054946688087,
          3.020556880188354,
          2.979421499348915,
          1.8433705938853318,
          -0.040339917503763534,
          -1.1751550291568784,
          -2.0172611988706066,
          -2.6108250634170904,
          -2.3097252086909927,
          -1.0165919810781265,
          0.8564203151080112,
          1.764362884280966,
          1.7760180593633637,
          0.7310492937005978,
          -0.11912817304452816,
          -0.5938431064017105,
          0.12549813629441442,
          1.3576608839286126,
          2.6779875231201027,
          3.438718071765635,
          3.8282876682000784,
          2.7033260648790822,
          1.368508284272862,
          0.34622692402548016,
          0.7946655190993107,
          0.6527586734097692,
          0.4987777048676734,
          -0.011372545830831624,
          -0.9440911920223047,
          -1.8123576388574105,
          -1.8937464912405977,
          -1.488316574599636,
          -0.6205879495444382,
          -0.11484583918876899,
          0.25260128934944104,
          0.20737469099036668,
          -0.41082308313968463,
          0.36852313100724987,
          0.8617198568085216,
          1.1204420035260314,
          1.345357572213731,
          1.3074545966776134,
          1.2297565348339532,
          0.5281192687162077,
          -0.7242690936897669,
          -1.1150927273377227,
          -1.6833411838641532,
          -1.8597960546328092,
          -0.8965593434797535,
          0.13876672272107343,
          1.2388337076463078,
          0.726078780035455,
          -0.17895202514145675,
          -0.9092724545350213,
          -0.7620511656514628,
          0.025743995009026688,
          2.3334182032509982,
          3.9705271962664415,
          4.716979964943348,
          3.5092581438478927,
          2.1986331221952407,
          0.6359874124230405,
          -0.16515593766915046,
          -1.194447451338326,
          -1.196573368028857,
          -1.8455195492406702,
          -2.8951496217881054,
          -3.547813916219598,
          -3.158822814788264,
          -2.286377398973508,
          -0.7396074981451921,
          0.10360240837692172,
          1.5796257036860708,
          2.3974099320737587,
          2.30283736853837,
          2.1152858635380936,
          1.5481127052180266,
          0.45685927405939614,
          -0.11866273872966204,
          -0.7091617988141372,
          -1.4229147025203848,
          -1.5833979363329984,
          -2.523767219787973,
          -2.905892614212446,
          -2.816159223806931,
          -2.274409776890032,
          -0.8868573511754292,
          -0.3565528356860407,
          -0.12696694183967702,
          0.6586698787562493,
          0.831664300424883,
          0.908085031936146,
          1.569332657580012,
          2.158642066791713,
          2.4146441791245756,
          1.3223662871965134,
          0.22867073039727792,
          -0.10726929641693694,
          -0.16655632407990054,
          -1.3573399185339439,
          -1.5852638419900353,
          -0.963164351007138,
          -0.017094946080823417,
          0.20456913116816655,
          0.11061811034383884,
          0.6530550344757825,
          1.1191029769483651,
          0.5752456051432278,
          0.054304037330568905,
          0.21230546563173477,
          -0.2677264836679732,
          -0.668332390695837,
          -1.3526513933603648,
          -1.2157682254054483,
          -1.349870421200185,
          -1.052004785557737,
          -1.2719239394673258,
          -1.4345571785849631,
          -1.3975021039995539,
          -0.2318220749165528,
          0.18202520692505691,
          0.7788627723574718,
          0.19033396578691708,
          0.006320478728823242,
          -0.8245115476039477,
          -1.3983105459941798,
          -1.5771696028225883,
          -0.9420863229033161,
          -0.562597874312205,
          -0.3642258620663762,
          -0.6383312361270845,
          -0.6224996332471273,
          -0.791248623217286,
          -0.6525013760122074,
          -0.5151553797801607,
          -0.22766348218498605,
          0.22222270576509764,
          0.437470870650384,
          0.5310394115781394,
          0.51463918690055,
          0.12124781841090296,
          -0.015021418394281949,
          0.13096611563454275,
          -0.027173597689582638,
          0.23270227281966305,
          0.4476831185210596,
          0.06835544092601722,
          -0.11512494375565682,
          -0.7383825167386282,
          -0.8079712557053244,
          -0.3935104878772993,
          -0.08565152240958518,
          -0.057720018646667176,
          -0.38922008570164796,
          -1.357523928561956,
          -1.7925200760406939,
          -2.3103027116146055,
          -2.132366139744464,
          -1.0699442551864542,
          -0.2640642994479748,
          0.897914727873069,
          1.4572675199298382,
          2.0235122932910174,
          2.055529869271639,
          1.550548451992748,
          1.2874918207682986,
          1.444226773750338,
          0.8499441419292115,
          1.3116483604805473,
          1.1927798742709554,
          1.789622063347616,
          1.6069291134541208,
          1.064537029683388,
          0.5800975921358842,
          -0.5003143442342891,
          -1.6949968955465469,
          -2.191346671191652,
          -2.1331765438077905,
          -1.7100013903797295,
          -1.1897918493246047,
          -0.6271835839927784,
          0.2036765359245737,
          0.7711809316148152,
          0.9708603460123122,
          1.2197877915033342,
          1.3083486731033467,
          0.6307223607190433,
          -0.1537887295278924,
          -0.6990162281062797,
          -0.6731432625128028,
          -0.22982020257945834,
          -0.2637446170674643,
          0.042656151944384935,
          0.46055664662636797,
          0.7153698894466979,
          0.09893467608737147,
          0.1584534849533671,
          0.10078927054332566,
          0.28188997123085974,
          0.572273068877797,
          1.060066584918421,
          2.2746644685601125,
          2.7118118550037624,
          2.4748290670178923,
          2.073552491911608,
          1.0484675236461034,
          -0.5239356576878732,
          -1.6166898253550108,
          -1.618281755343538,
          -1.9471881899786405,
          -2.4542827276959334,
          -2.0883139771598964,
          -1.7237542405609165,
          -0.7772418216992785,
          -0.27490314094942714,
          -0.2044199532855252,
          0.22127062597284283,
          -0.4166917082549425,
          -1.043139542768512,
          -1.2168194388462954,
          -1.0311485200622674,
          -0.5682428275296184,
          -0.0444341624390885,
          0.489663762560819,
          1.364498171737699,
          2.0745603411594753,
          2.5145691356070605,
          3.1145177310645833,
          2.5550744462571626,
          1.7528454544217402,
          1.391719439925846,
          1.0098198228736655,
          0.4972934759731502,
          -0.627900082866399,
          -0.9931252362783506,
          -0.7875562059884882,
          -0.44813139340926617,
          0.35432464462433544,
          1.298587114578287,
          1.4612269915805902,
          1.3141259407111938,
          0.37472081438161753,
          -0.006638495452731222,
          -0.2698795360414429,
          0.17958435265970357,
          0.32083794121513803,
          0.6914765876598893,
          0.8137188625850966,
          0.964885103258536,
          1.256188925045897,
          1.523478930474345,
          1.5116869387533036,
          0.9367991506293698,
          0.4510573367470145,
          -0.09088117172887952,
          -0.5954269915627332,
          -0.9184837794291016,
          -0.6576248511260258,
          -0.8259475591243992,
          -0.6928265629243213,
          -0.512311469634944,
          -0.30842546137462434,
          -0.36575602625014425,
          0.1664028664273691,
          0.5309780595514939,
          0.7781728601777568,
          0.30754776899051695,
          0.23605724519761428,
          0.002406741881464086,
          -0.41265154075755084,
          -0.948450590060685,
          -1.0215132176458919,
          -0.6696148215639173,
          -0.24475498372409327,
          -0.41680705894879433,
          -0.29528871126789635,
          -0.2931172593444026,
          -0.46012076101629695,
          -0.7766572667347157,
          -0.6288849291738838,
          0.1376351768465388,
          -0.1960609534400193,
          -0.995481514727309,
          -1.1840420617440301,
          -1.5792866012186961,
          -1.3738380600883136,
          -0.2082920904007044,
          2.276755655796311
         ]
        }
       ],
       "layout": {
        "font": {
         "size": 20
        },
        "template": {
         "data": {
          "bar": [
           {
            "error_x": {
             "color": "#2a3f5f"
            },
            "error_y": {
             "color": "#2a3f5f"
            },
            "marker": {
             "line": {
              "color": "#E5ECF6",
              "width": 0.5
             },
             "pattern": {
              "fillmode": "overlay",
              "size": 10,
              "solidity": 0.2
             }
            },
            "type": "bar"
           }
          ],
          "barpolar": [
           {
            "marker": {
             "line": {
              "color": "#E5ECF6",
              "width": 0.5
             },
             "pattern": {
              "fillmode": "overlay",
              "size": 10,
              "solidity": 0.2
             }
            },
            "type": "barpolar"
           }
          ],
          "carpet": [
           {
            "aaxis": {
             "endlinecolor": "#2a3f5f",
             "gridcolor": "white",
             "linecolor": "white",
             "minorgridcolor": "white",
             "startlinecolor": "#2a3f5f"
            },
            "baxis": {
             "endlinecolor": "#2a3f5f",
             "gridcolor": "white",
             "linecolor": "white",
             "minorgridcolor": "white",
             "startlinecolor": "#2a3f5f"
            },
            "type": "carpet"
           }
          ],
          "choropleth": [
           {
            "colorbar": {
             "outlinewidth": 0,
             "ticks": ""
            },
            "type": "choropleth"
           }
          ],
          "contour": [
           {
            "colorbar": {
             "outlinewidth": 0,
             "ticks": ""
            },
            "colorscale": [
             [
              0,
              "#0d0887"
             ],
             [
              0.1111111111111111,
              "#46039f"
             ],
             [
              0.2222222222222222,
              "#7201a8"
             ],
             [
              0.3333333333333333,
              "#9c179e"
             ],
             [
              0.4444444444444444,
              "#bd3786"
             ],
             [
              0.5555555555555556,
              "#d8576b"
             ],
             [
              0.6666666666666666,
              "#ed7953"
             ],
             [
              0.7777777777777778,
              "#fb9f3a"
             ],
             [
              0.8888888888888888,
              "#fdca26"
             ],
             [
              1,
              "#f0f921"
             ]
            ],
            "type": "contour"
           }
          ],
          "contourcarpet": [
           {
            "colorbar": {
             "outlinewidth": 0,
             "ticks": ""
            },
            "type": "contourcarpet"
           }
          ],
          "heatmap": [
           {
            "colorbar": {
             "outlinewidth": 0,
             "ticks": ""
            },
            "colorscale": [
             [
              0,
              "#0d0887"
             ],
             [
              0.1111111111111111,
              "#46039f"
             ],
             [
              0.2222222222222222,
              "#7201a8"
             ],
             [
              0.3333333333333333,
              "#9c179e"
             ],
             [
              0.4444444444444444,
              "#bd3786"
             ],
             [
              0.5555555555555556,
              "#d8576b"
             ],
             [
              0.6666666666666666,
              "#ed7953"
             ],
             [
              0.7777777777777778,
              "#fb9f3a"
             ],
             [
              0.8888888888888888,
              "#fdca26"
             ],
             [
              1,
              "#f0f921"
             ]
            ],
            "type": "heatmap"
           }
          ],
          "heatmapgl": [
           {
            "colorbar": {
             "outlinewidth": 0,
             "ticks": ""
            },
            "colorscale": [
             [
              0,
              "#0d0887"
             ],
             [
              0.1111111111111111,
              "#46039f"
             ],
             [
              0.2222222222222222,
              "#7201a8"
             ],
             [
              0.3333333333333333,
              "#9c179e"
             ],
             [
              0.4444444444444444,
              "#bd3786"
             ],
             [
              0.5555555555555556,
              "#d8576b"
             ],
             [
              0.6666666666666666,
              "#ed7953"
             ],
             [
              0.7777777777777778,
              "#fb9f3a"
             ],
             [
              0.8888888888888888,
              "#fdca26"
             ],
             [
              1,
              "#f0f921"
             ]
            ],
            "type": "heatmapgl"
           }
          ],
          "histogram": [
           {
            "marker": {
             "pattern": {
              "fillmode": "overlay",
              "size": 10,
              "solidity": 0.2
             }
            },
            "type": "histogram"
           }
          ],
          "histogram2d": [
           {
            "colorbar": {
             "outlinewidth": 0,
             "ticks": ""
            },
            "colorscale": [
             [
              0,
              "#0d0887"
             ],
             [
              0.1111111111111111,
              "#46039f"
             ],
             [
              0.2222222222222222,
              "#7201a8"
             ],
             [
              0.3333333333333333,
              "#9c179e"
             ],
             [
              0.4444444444444444,
              "#bd3786"
             ],
             [
              0.5555555555555556,
              "#d8576b"
             ],
             [
              0.6666666666666666,
              "#ed7953"
             ],
             [
              0.7777777777777778,
              "#fb9f3a"
             ],
             [
              0.8888888888888888,
              "#fdca26"
             ],
             [
              1,
              "#f0f921"
             ]
            ],
            "type": "histogram2d"
           }
          ],
          "histogram2dcontour": [
           {
            "colorbar": {
             "outlinewidth": 0,
             "ticks": ""
            },
            "colorscale": [
             [
              0,
              "#0d0887"
             ],
             [
              0.1111111111111111,
              "#46039f"
             ],
             [
              0.2222222222222222,
              "#7201a8"
             ],
             [
              0.3333333333333333,
              "#9c179e"
             ],
             [
              0.4444444444444444,
              "#bd3786"
             ],
             [
              0.5555555555555556,
              "#d8576b"
             ],
             [
              0.6666666666666666,
              "#ed7953"
             ],
             [
              0.7777777777777778,
              "#fb9f3a"
             ],
             [
              0.8888888888888888,
              "#fdca26"
             ],
             [
              1,
              "#f0f921"
             ]
            ],
            "type": "histogram2dcontour"
           }
          ],
          "mesh3d": [
           {
            "colorbar": {
             "outlinewidth": 0,
             "ticks": ""
            },
            "type": "mesh3d"
           }
          ],
          "parcoords": [
           {
            "line": {
             "colorbar": {
              "outlinewidth": 0,
              "ticks": ""
             }
            },
            "type": "parcoords"
           }
          ],
          "pie": [
           {
            "automargin": true,
            "type": "pie"
           }
          ],
          "scatter": [
           {
            "marker": {
             "colorbar": {
              "outlinewidth": 0,
              "ticks": ""
             }
            },
            "type": "scatter"
           }
          ],
          "scatter3d": [
           {
            "line": {
             "colorbar": {
              "outlinewidth": 0,
              "ticks": ""
             }
            },
            "marker": {
             "colorbar": {
              "outlinewidth": 0,
              "ticks": ""
             }
            },
            "type": "scatter3d"
           }
          ],
          "scattercarpet": [
           {
            "marker": {
             "colorbar": {
              "outlinewidth": 0,
              "ticks": ""
             }
            },
            "type": "scattercarpet"
           }
          ],
          "scattergeo": [
           {
            "marker": {
             "colorbar": {
              "outlinewidth": 0,
              "ticks": ""
             }
            },
            "type": "scattergeo"
           }
          ],
          "scattergl": [
           {
            "marker": {
             "colorbar": {
              "outlinewidth": 0,
              "ticks": ""
             }
            },
            "type": "scattergl"
           }
          ],
          "scattermapbox": [
           {
            "marker": {
             "colorbar": {
              "outlinewidth": 0,
              "ticks": ""
             }
            },
            "type": "scattermapbox"
           }
          ],
          "scatterpolar": [
           {
            "marker": {
             "colorbar": {
              "outlinewidth": 0,
              "ticks": ""
             }
            },
            "type": "scatterpolar"
           }
          ],
          "scatterpolargl": [
           {
            "marker": {
             "colorbar": {
              "outlinewidth": 0,
              "ticks": ""
             }
            },
            "type": "scatterpolargl"
           }
          ],
          "scatterternary": [
           {
            "marker": {
             "colorbar": {
              "outlinewidth": 0,
              "ticks": ""
             }
            },
            "type": "scatterternary"
           }
          ],
          "surface": [
           {
            "colorbar": {
             "outlinewidth": 0,
             "ticks": ""
            },
            "colorscale": [
             [
              0,
              "#0d0887"
             ],
             [
              0.1111111111111111,
              "#46039f"
             ],
             [
              0.2222222222222222,
              "#7201a8"
             ],
             [
              0.3333333333333333,
              "#9c179e"
             ],
             [
              0.4444444444444444,
              "#bd3786"
             ],
             [
              0.5555555555555556,
              "#d8576b"
             ],
             [
              0.6666666666666666,
              "#ed7953"
             ],
             [
              0.7777777777777778,
              "#fb9f3a"
             ],
             [
              0.8888888888888888,
              "#fdca26"
             ],
             [
              1,
              "#f0f921"
             ]
            ],
            "type": "surface"
           }
          ],
          "table": [
           {
            "cells": {
             "fill": {
              "color": "#EBF0F8"
             },
             "line": {
              "color": "white"
             }
            },
            "header": {
             "fill": {
              "color": "#C8D4E3"
             },
             "line": {
              "color": "white"
             }
            },
            "type": "table"
           }
          ]
         },
         "layout": {
          "annotationdefaults": {
           "arrowcolor": "#2a3f5f",
           "arrowhead": 0,
           "arrowwidth": 1
          },
          "autotypenumbers": "strict",
          "coloraxis": {
           "colorbar": {
            "outlinewidth": 0,
            "ticks": ""
           }
          },
          "colorscale": {
           "diverging": [
            [
             0,
             "#8e0152"
            ],
            [
             0.1,
             "#c51b7d"
            ],
            [
             0.2,
             "#de77ae"
            ],
            [
             0.3,
             "#f1b6da"
            ],
            [
             0.4,
             "#fde0ef"
            ],
            [
             0.5,
             "#f7f7f7"
            ],
            [
             0.6,
             "#e6f5d0"
            ],
            [
             0.7,
             "#b8e186"
            ],
            [
             0.8,
             "#7fbc41"
            ],
            [
             0.9,
             "#4d9221"
            ],
            [
             1,
             "#276419"
            ]
           ],
           "sequential": [
            [
             0,
             "#0d0887"
            ],
            [
             0.1111111111111111,
             "#46039f"
            ],
            [
             0.2222222222222222,
             "#7201a8"
            ],
            [
             0.3333333333333333,
             "#9c179e"
            ],
            [
             0.4444444444444444,
             "#bd3786"
            ],
            [
             0.5555555555555556,
             "#d8576b"
            ],
            [
             0.6666666666666666,
             "#ed7953"
            ],
            [
             0.7777777777777778,
             "#fb9f3a"
            ],
            [
             0.8888888888888888,
             "#fdca26"
            ],
            [
             1,
             "#f0f921"
            ]
           ],
           "sequentialminus": [
            [
             0,
             "#0d0887"
            ],
            [
             0.1111111111111111,
             "#46039f"
            ],
            [
             0.2222222222222222,
             "#7201a8"
            ],
            [
             0.3333333333333333,
             "#9c179e"
            ],
            [
             0.4444444444444444,
             "#bd3786"
            ],
            [
             0.5555555555555556,
             "#d8576b"
            ],
            [
             0.6666666666666666,
             "#ed7953"
            ],
            [
             0.7777777777777778,
             "#fb9f3a"
            ],
            [
             0.8888888888888888,
             "#fdca26"
            ],
            [
             1,
             "#f0f921"
            ]
           ]
          },
          "colorway": [
           "#636efa",
           "#EF553B",
           "#00cc96",
           "#ab63fa",
           "#FFA15A",
           "#19d3f3",
           "#FF6692",
           "#B6E880",
           "#FF97FF",
           "#FECB52"
          ],
          "font": {
           "color": "#2a3f5f"
          },
          "geo": {
           "bgcolor": "white",
           "lakecolor": "white",
           "landcolor": "#E5ECF6",
           "showlakes": true,
           "showland": true,
           "subunitcolor": "white"
          },
          "hoverlabel": {
           "align": "left"
          },
          "hovermode": "closest",
          "mapbox": {
           "style": "light"
          },
          "paper_bgcolor": "white",
          "plot_bgcolor": "#E5ECF6",
          "polar": {
           "angularaxis": {
            "gridcolor": "white",
            "linecolor": "white",
            "ticks": ""
           },
           "bgcolor": "#E5ECF6",
           "radialaxis": {
            "gridcolor": "white",
            "linecolor": "white",
            "ticks": ""
           }
          },
          "scene": {
           "xaxis": {
            "backgroundcolor": "#E5ECF6",
            "gridcolor": "white",
            "gridwidth": 2,
            "linecolor": "white",
            "showbackground": true,
            "ticks": "",
            "zerolinecolor": "white"
           },
           "yaxis": {
            "backgroundcolor": "#E5ECF6",
            "gridcolor": "white",
            "gridwidth": 2,
            "linecolor": "white",
            "showbackground": true,
            "ticks": "",
            "zerolinecolor": "white"
           },
           "zaxis": {
            "backgroundcolor": "#E5ECF6",
            "gridcolor": "white",
            "gridwidth": 2,
            "linecolor": "white",
            "showbackground": true,
            "ticks": "",
            "zerolinecolor": "white"
           }
          },
          "shapedefaults": {
           "line": {
            "color": "#2a3f5f"
           }
          },
          "ternary": {
           "aaxis": {
            "gridcolor": "white",
            "linecolor": "white",
            "ticks": ""
           },
           "baxis": {
            "gridcolor": "white",
            "linecolor": "white",
            "ticks": ""
           },
           "bgcolor": "#E5ECF6",
           "caxis": {
            "gridcolor": "white",
            "linecolor": "white",
            "ticks": ""
           }
          },
          "title": {
           "x": 0.05
          },
          "xaxis": {
           "automargin": true,
           "gridcolor": "white",
           "linecolor": "white",
           "ticks": "",
           "title": {
            "standoff": 15
           },
           "zerolinecolor": "white",
           "zerolinewidth": 2
          },
          "yaxis": {
           "automargin": true,
           "gridcolor": "white",
           "linecolor": "white",
           "ticks": "",
           "title": {
            "standoff": 15
           },
           "zerolinecolor": "white",
           "zerolinewidth": 2
          }
         }
        },
        "title": {
         "text": "Loadings from model"
        },
        "xaxis": {
         "title": {
          "text": "$$ {Raman shift} \\;\\; (cm^{-1})  $$"
         }
        },
        "yaxis": {
         "title": {
          "text": "Loadings"
         }
        }
       }
      },
      "text/html": [
       "<div>                            <div id=\"b6ef89ef-d814-462a-811c-2b03c06c4cc3\" class=\"plotly-graph-div\" style=\"height:525px; width:100%;\"></div>            <script type=\"text/javascript\">                require([\"plotly\"], function(Plotly) {                    window.PLOTLYENV=window.PLOTLYENV || {};                                    if (document.getElementById(\"b6ef89ef-d814-462a-811c-2b03c06c4cc3\")) {                    Plotly.newPlot(                        \"b6ef89ef-d814-462a-811c-2b03c06c4cc3\",                        [{\"mode\":\"lines\",\"type\":\"scatter\",\"x\":[399.801,401.769,403.737,405.704,407.67,409.635,411.6,413.564,415.527,417.489,419.451,421.412,423.373,425.333,427.292,429.25,431.208,433.165,435.121,437.076,439.031,440.985,442.939,444.891,446.844,448.795,450.746,452.695,454.645,456.593,458.541,460.488,462.435,464.381,466.326,468.27,470.214,472.157,474.099,476.041,477.982,479.922,481.861,483.8,485.739,487.676,489.613,491.549,493.484,495.419,497.353,499.286,501.219,503.151,505.082,507.013,508.943,510.872,512.8,514.728,516.655,518.582,520.508,522.433,524.357,526.281,528.204,530.126,532.048,533.969,535.889,537.809,539.728,541.646,543.564,545.481,547.397,549.312,551.227,553.141,555.055,556.968,558.88,560.791,562.702,564.612,566.522,568.43,570.339,572.246,574.153,576.059,577.964,579.869,581.773,583.676,585.579,587.481,589.382,591.283,593.183,595.082,596.981,598.879,600.776,602.672,604.568,606.464,608.358,610.252,612.145,614.038,615.93,617.821,619.712,621.602,623.491,625.38,627.267,629.155,631.041,632.927,634.812,636.697,638.581,640.464,642.347,644.229,646.11,647.99,649.87,651.75,653.628,655.506,657.383,659.26,661.136,663.011,664.886,666.76,668.633,670.506,672.378,674.249,676.12,677.99,679.859,681.728,683.596,685.463,687.33,689.196,691.061,692.926,694.79,696.653,698.516,700.378,702.24,704.1,705.961,707.82,709.679,711.537,713.395,715.251,717.108,718.963,720.818,722.672,724.526,726.379,728.231,730.083,731.934,733.784,735.634,737.483,739.331,741.179,743.026,744.873,746.718,748.563,750.408,752.252,754.095,755.938,757.779,759.621,761.461,763.301,765.141,766.979,768.817,770.655,772.492,774.328,776.163,777.998,779.832,781.666,783.498,785.331,787.162,788.993,790.824,792.653,794.482,796.311,798.138,799.966,801.792,803.618,805.443,807.268,809.092,810.915,812.737,814.559,816.381,818.202,820.022,821.841,823.66,825.478,827.296,829.113,830.929,832.745,834.56,836.374,838.188,840.001,841.813,843.625,845.436,847.247,849.057,850.866,852.675,854.483,856.29,858.097,859.903,861.709,863.514,865.318,867.121,868.924,870.727,872.529,874.33,876.13,877.93,879.729,881.528,883.326,885.123,886.92,888.716,890.512,892.306,894.101,895.894,897.687,899.48,901.271,903.062,904.853,906.643,908.432,910.221,912.009,913.796,915.583,917.369,919.154,920.939,922.723,924.507,926.29,928.072,929.854,931.635,933.416,935.196,936.975,938.754,940.532,942.309,944.086,945.862,947.638,949.413,951.187,952.961,954.734,956.507,958.279,960.05,961.821,963.591,965.36,967.129,968.897,970.665,972.432,974.198,975.964,977.729,979.494,981.258,983.021,984.784,986.546,988.307,990.068,991.828,993.588,995.347,997.105,998.863,1000.62,1002.38,1004.13,1005.89,1007.64,1009.4,1011.15,1012.9,1014.66,1016.41,1018.16,1019.91,1021.66,1023.41,1025.16,1026.91,1028.65,1030.4,1032.15,1033.89,1035.64,1037.38,1039.13,1040.87,1042.61,1044.35,1046.1,1047.84,1049.58,1051.32,1053.06,1054.79,1056.53,1058.27,1060.01,1061.74,1063.48,1065.21,1066.95,1068.68,1070.41,1072.15,1073.88,1075.61,1077.34,1079.07,1080.8,1082.53,1084.26,1085.98,1087.71,1089.44,1091.16,1092.89,1094.61,1096.34,1098.06,1099.78,1101.51,1103.23,1104.95,1106.67,1108.39,1110.11,1111.83,1113.55,1115.26,1116.98,1118.7,1120.41,1122.13,1123.84,1125.56,1127.27,1128.98,1130.7,1132.41,1134.12,1135.83,1137.54,1139.25,1140.96,1142.67,1144.37,1146.08,1147.79,1149.49,1151.2,1152.9,1154.61,1156.31,1158.01,1159.72,1161.42,1163.12,1164.82,1166.52,1168.22,1169.92,1171.62,1173.31,1175.01,1176.71,1178.4,1180.1,1181.79,1183.49,1185.18,1186.88,1188.57,1190.26,1191.95,1193.64,1195.33,1197.02,1198.71,1200.4,1202.09,1203.77,1205.46,1207.15,1208.83,1210.52,1212.2,1213.89,1215.57,1217.25,1218.93,1220.61,1222.3,1223.98,1225.66,1227.33,1229.01,1230.69,1232.37,1234.05,1235.72,1237.4,1239.07,1240.75,1242.42,1244.1,1245.77,1247.44,1249.11,1250.78,1252.45,1254.12,1255.79,1257.46,1259.13,1260.8,1262.47,1264.13,1265.8,1267.46,1269.13,1270.79,1272.46,1274.12,1275.78,1277.45,1279.11,1280.77,1282.43,1284.09,1285.75,1287.41,1289.06,1290.72,1292.38,1294.03,1295.69,1297.35,1299.0,1300.66,1302.31,1303.96,1305.61,1307.27,1308.92,1310.57,1312.22,1313.87,1315.52,1317.17,1318.81,1320.46,1322.11,1323.75,1325.4,1327.05,1328.69,1330.33,1331.98,1333.62,1335.26,1336.9,1338.55,1340.19,1341.83,1343.47,1345.11,1346.74,1348.38,1350.02,1351.66,1353.29,1354.93,1356.56,1358.2,1359.83,1361.47,1363.1,1364.73,1366.36,1367.99,1369.63,1371.26,1372.89,1374.51,1376.14,1377.77,1379.4,1381.02,1382.65,1384.28,1385.9,1387.53,1389.15,1390.77,1392.4,1394.02,1395.64,1397.26,1398.88,1400.5,1402.12,1403.74,1405.36,1406.98,1408.6,1410.21,1411.83,1413.45,1415.06,1416.68,1418.29,1419.91,1421.52,1423.13,1424.74,1426.35,1427.97,1429.58,1431.19,1432.8,1434.4,1436.01,1437.62,1439.23,1440.83,1442.44,1444.05,1445.65,1447.26,1448.86,1450.46,1452.07,1453.67,1455.27,1456.87,1458.47,1460.07,1461.67,1463.27,1464.87,1466.47,1468.06,1469.66,1471.26,1472.85,1474.45,1476.04,1477.64,1479.23,1480.82,1482.42,1484.01,1485.6,1487.19,1488.78,1490.37,1491.96,1493.55,1495.14,1496.73,1498.31,1499.9,1501.49,1503.07,1504.66,1506.24,1507.83,1509.41,1510.99,1512.57,1514.16,1515.74,1517.32,1518.9,1520.48,1522.06,1523.64,1525.22,1526.79,1528.37,1529.95,1531.52,1533.1,1534.67,1536.25,1537.82,1539.4,1540.97,1542.54,1544.11,1545.68,1547.25,1548.82,1550.39,1551.96,1553.53,1555.1,1556.67,1558.24,1559.8,1561.37,1562.93,1564.5,1566.06,1567.63,1569.19,1570.75,1572.32,1573.88,1575.44,1577.0,1578.56,1580.12,1581.68,1583.24,1584.8,1586.35,1587.91,1589.47,1591.02,1592.58,1594.13,1595.69,1597.24,1598.8,1600.35,1601.9,1603.45,1605.01,1606.56,1608.11,1609.66,1611.21,1612.76,1614.3,1615.85,1617.4,1618.95,1620.49,1622.04,1623.58,1625.13,1626.67,1628.22,1629.76,1631.3,1632.84,1634.39,1635.93,1637.47,1639.01,1640.55,1642.09,1643.62,1645.16,1646.7,1648.24,1649.77,1651.31,1652.84,1654.38,1655.91,1657.45,1658.98,1660.51,1662.05,1663.58,1665.11,1666.64,1668.17,1669.7,1671.23,1672.76,1674.29,1675.82,1677.34,1678.87,1680.4,1681.92,1683.45,1684.97,1686.5,1688.02,1689.54,1691.07,1692.59,1694.11,1695.63,1697.15,1698.67,1700.19,1701.71,1703.23,1704.75,1706.26,1707.78,1709.3,1710.81,1712.33,1713.85,1715.36,1716.87,1718.39,1719.9,1721.41,1722.93,1724.44,1725.95,1727.46,1728.97,1730.48,1731.99,1733.5,1735.0,1736.51,1738.02,1739.53,1741.03,1742.54,1744.04,1745.55,1747.05,1748.56,1750.06,1751.56,1753.06,1754.57,1756.07,1757.57,1759.07,1760.57,1762.07,1763.56,1765.06,1766.56,1768.06,1769.55,1771.05,1772.55,1774.04,1775.54,1777.03,1778.52],\"y\":[-3.3924442149291187,-1.8715184828211542,-1.043333789803404,-0.7156101542624218,-0.6960675945847565,-0.25912320426271823,-0.5517147903878905,-0.7002337805351604,-1.2102800595338332,-1.2934175208026468,-1.6672142689063862,-1.6323268788373793,-0.7604940151306475,0.5396780617397311,1.5045710646451411,1.7607637781323895,1.2763012586100841,0.37305221713796405,-0.15134265783861517,-0.022800011076636484,0.7964985328068582,1.8859546890750647,2.1784112507627897,1.6884790926433233,0.6135090350310654,-0.17122669833449336,-0.12611975665885666,-0.49687534388445836,-0.08871447134608004,0.2704785770107023,0.3390044635530394,0.40366576540791593,0.4799799979225838,1.0250658734407527,1.8049844196822953,1.8552926424989589,1.6363417633406314,1.3072920023828067,0.7022727769225002,0.01840417508765696,-0.09388917268224578,-0.4167867604127799,-0.3107114728164073,-8.319785741452146e-05,0.11710165929470401,0.2835782334119475,0.44893190549791256,0.8636744762580773,0.765642338404187,0.3269013600334139,-0.27516176580148877,-0.7644921138673382,-1.6540632770536159,-1.9225992045658975,-0.772551891272274,0.25964845770695605,0.2751004983089732,0.2898139644385981,-0.6302558567628523,-1.0929650165518368,-1.2205898243342983,-0.5464614751596326,0.2683038501371301,0.8609967662784375,0.8817620502202523,0.860451790288673,0.38319600083814903,0.8836132332756623,1.122869879471547,1.1489459987634336,1.141473442733428,0.6904379188564123,0.3161263336332266,0.6757845873021344,0.14263658643275995,-0.3335929060838215,-1.3920720758555947,-1.7715604026915026,-1.36307454686433,-0.7500485804021297,0.6193948667544134,2.234704504524144,2.407292202293653,2.493064426918677,1.6345801810925082,0.4127147399795619,-0.2245275320469341,-1.009682042381728,-1.6880413831699972,-2.7726360838819026,-3.363291476533912,-3.2892880983167547,-3.3674807243373115,-1.862645696899018,0.2586821267571489,1.7205754900319294,3.101351192123665,3.513040400293209,3.9194412879484224,3.4435755338515235,1.7646783014701526,1.5099090882443154,0.5963613356874716,-0.8795734530812216,-1.8952243469851144,-2.437697308576872,-1.7792994350586449,-1.1739594797495796,-1.2445658732369587,0.04215494356169097,0.5644281912330376,0.9145959711800402,1.2781185310297756,1.1656962206776145,0.8090196130118634,0.44154339997558667,0.14158976165415668,0.17485217076088014,-0.28071544831797374,0.1815240095708742,0.7733036445834724,0.4829282949423884,-0.857357070244468,-1.3889904308115977,-2.0903839859467555,-3.223476670661241,-3.511363430521062,-2.9256254983812133,-1.6766496868866407,-0.43655303847115834,0.15955381548776004,1.1760449026109718,1.3067243877562875,1.124297135939702,1.193448614209525,0.07307030549409382,-0.47597194421109523,-1.1518803320516933,-1.727296397918407,-1.8930402608292562,-1.3896211745559592,-0.8934343406984002,0.6839713716482769,1.4104302310162495,2.2895376275743358,2.8494784470100494,3.2327375766153414,3.047923061999919,2.8485445196591397,1.7777684867558643,1.5595058811033962,0.2574822718255344,-0.833453829154274,-0.7750591818167432,-0.7188615538941396,-0.6031050079533335,-0.20227697938725933,0.11518760335293571,0.3931713132270689,0.6516772672535074,0.4085327562597751,0.49672316075974393,-0.0121572317857499,-1.0708747198861466,-1.6881347051169593,-1.7581824721106307,-1.388058374699237,-1.2089414640383596,-1.8073837450983092,-1.637967681939849,-1.3622547311481163,-1.2272906544162185,-0.8609828615760252,0.09711813723074719,0.8930309314224241,0.4126275064178191,0.28732499810327977,0.34588650644372004,1.000076685181284,1.3668412780413404,1.532434103046918,0.866250078944027,-0.5919752057188472,-1.2549942749153629,-1.4853751062431382,-1.4359872473410604,-1.1450022090055825,-0.3529859666854227,0.16233191806142133,-0.34786525225415776,-1.4391458570008566,-0.9349556110171767,-0.6379207905152393,0.3488781303262554,0.924234560898864,1.2704184267851717,1.513225738612045,2.1368629867722473,1.9673759987090502,2.490475367807383,2.2744696069445247,2.328166522164622,1.4108066005922892,-0.6612479537813656,-2.2489863511857595,-3.2480577943301734,-4.591022686493586,-4.599787680388806,-4.604225139723434,-3.334625608604669,-1.8631719131514541,-0.9843602284890922,-0.044976253404255095,0.58873709780282,0.5399096546079458,1.0037312617642724,1.3073979047316437,2.035948701459193,2.4354395975951664,1.9025185920487222,1.3610607013583098,0.6559025087284318,0.453855108629442,0.6366042484052856,0.6896420723059022,0.6303198575788728,-0.0908134722951775,-0.46870716058719475,-0.5256747735667102,-0.22634919924556335,0.8774688879795266,1.5112909328656943,1.247834672172675,0.4939779460118147,-1.088603445327183,-2.0238181785288667,-2.9673607991574134,-2.650678831749665,-1.5355922803810396,-0.09897545142706218,1.1385204619165252,2.3954763453682766,2.989036201011996,3.0343674110744443,2.06896169507411,1.2424803158470232,0.07160924127675823,-0.7545582455248259,-1.0630124895517317,-0.8584676685702075,-0.8221810504863742,-1.2227937809567366,-1.251561844152994,-1.3366238611749381,-1.4640932820258794,-1.1932339231032092,-0.379833252908426,0.7122246160229285,1.0332671317258013,0.9465304375567494,1.5413392633725889,1.6946956798526063,1.888646069111637,1.9769475350977754,1.1457920217234694,-0.596558132231223,-2.261270671878077,-2.6248933571251847,-2.6999404357328336,-2.331983817638809,-1.802762380536399,-0.7357671904381735,-1.1687243568737766,-2.0031198075405205,-2.3374768020602286,-1.4648413332966854,-0.5027301707664581,0.3534170010558183,0.8062345178147307,1.5510008708324206,1.4276804728487273,1.4033531383542976,0.08465560311425524,-0.8797835741083052,-1.727073414986104,-1.408170097088115,-0.1480273591955339,1.521321913239219,2.7398291038204983,4.143834094071039,3.2636510378992396,1.5504053390405261,-0.21915470719028873,-0.6060336130714138,-1.3618169813307617,-1.4154056154410588,-1.8678597594416075,-1.3409380828752935,-2.336999349122997,-2.9016823109090053,-3.1610896573313365,-2.2980311469867285,-1.22878100956793,0.6422088092818861,1.6686632744289671,2.9317970897777474,2.693758254749568,2.139719097331946,1.4078761344706285,1.225283707370691,0.7317808473726554,0.42027733392728106,-0.5607686388954105,-1.1037796256645527,-1.6710980347443807,-1.7104982863296532,-0.8838072389432342,0.2723545959450328,1.0174086123302986,1.4007205191453487,1.046789065803967,0.7893257870603083,0.472563140593507,0.7905347945696097,1.1203462291178448,1.6978549904736147,2.0087990325971417,1.9334012305843244,1.7140458150790998,0.584783538228225,-0.36480254104676174,-0.6740497367540867,-1.0000995188236952,-0.6348783204641054,0.22600735033569824,1.5996665878822642,2.1313320270744684,0.791503198120351,-0.6009543207228136,-1.9355353470438634,-3.0062102744354817,-2.56994734282294,-1.3406802052318725,0.6441532090641418,1.7200111869273198,1.5942138165423287,1.4649780675790853,1.3940758381763698,0.8507440526089469,0.9882897954003049,1.1765160718875443,1.4917843936278032,0.48128227011321323,-0.7743964470506968,-1.5062705794974884,-1.4176235607273184,-0.6741779400237577,0.896906280067936,2.70259263159842,4.712485027778365,4.649395524457335,3.3646024729428152,1.3011014423396283,-0.4503987843301196,-1.2475866604488575,-1.7459531056734452,-2.371628205701181,-1.9847707127828889,-2.3527270538983283,-2.5892241509515195,-2.471101420056349,-1.4094351335091542,-0.1944378366080213,0.7098991287928531,-0.0477982873349079,-1.2403459290852075,-2.93887154752224,-3.6053496260563507,-2.9490049830414415,-1.5341630386613752,-0.07924344759628182,1.2966333879445309,1.0761295228523622,0.256496993495733,-0.5698037425760407,-1.3828169923426796,-1.4963539379224482,-1.3522055256816556,-1.3479359633619574,-1.7310592556242215,-2.052441141707094,-1.3988744070884085,-0.20804066154456713,0.5301218350095771,1.8814021425789527,2.4904182203740284,2.15023612372946,0.5595767126242726,-0.9946012718668666,-1.614299679629373,-2.023040316714121,-1.5434409741150499,-0.5645333891898648,0.3853359873862612,1.0790617933618056,1.2848695534081434,1.750480676222772,2.9488390392826425,3.6824865556303292,4.409855104186765,4.33973178085518,3.481663560077613,1.643160587028073,-0.18499512164147974,-1.2293676818362316,-0.2370935761261424,0.29314543530775883,0.6362997122476551,0.13462215686588563,-0.5871806708666382,-1.2577863058615524,-1.963505136538331,-1.7328473213841504,-0.8548253040707812,-0.6755764297743431,-1.2111049191310541,-1.7584942952828215,-1.2557614898455542,-0.8489479048507254,-0.5236073951717424,-0.21239933699862446,-0.10019783970180024,0.1471989493190619,0.10509130957215876,0.6038257284521442,1.6180405874407051,2.0283588212993284,3.143465191210801,3.240691736946214,3.505325443846435,2.5677681394326592,1.2084648758535184,-0.30917211611540685,-1.5407496898080117,-2.095039031882145,-1.3896256669618539,-0.9044604652230397,0.06388047072723982,-0.18372646278930266,-0.0998194827144475,0.11707983748721879,-0.14087173462277613,0.2335724154650779,0.48210082813360894,0.0037733237977464196,-0.6488558673107446,-1.9182561169894892,-2.2041641155553418,-1.6493651513837426,-0.8079430912230462,0.18396083671568586,0.7830257981160373,1.0177841055976844,0.7336180652683963,0.42340099839337864,1.0225844870666605,1.8398458637312183,2.4575458287759817,1.8617778114908456,1.1835321988822018,0.47377835298503124,-0.3871835274329198,-0.5783454156439921,-0.3323051148404862,0.07703765097998105,-0.7999693661077111,-1.7873971640957613,-2.5792245425454032,-3.1447773451392607,-3.5165990221204817,-3.585838532087652,-2.551049854992548,-0.4235555838561707,0.7330350681249191,1.9617838193999504,2.3014203837853566,1.9859640510193706,0.47731296920497757,-0.2516795025710621,-1.1572703415319476,-2.02905290929092,-2.5776353239018874,-2.434061682230415,-1.5113121506344305,-0.07822243022769074,1.6909422294348055,4.572655311735102,5.230204074184993,4.002642526914465,3.0647593348772935,1.8165020108824743,0.7906148247681882,0.10292789876979425,-1.1894223938561221,-2.0711553976406525,-3.057574564068922,-3.46664591005048,-3.55153519873801,-3.6122049323924386,-3.31432421447953,-2.278163503258585,-2.217630184343835,-1.8268490020685082,0.2720469739267679,2.6086662056129173,3.0107944033770395,3.2710054946688087,3.020556880188354,2.979421499348915,1.8433705938853318,-0.040339917503763534,-1.1751550291568784,-2.0172611988706066,-2.6108250634170904,-2.3097252086909927,-1.0165919810781265,0.8564203151080112,1.764362884280966,1.7760180593633637,0.7310492937005978,-0.11912817304452816,-0.5938431064017105,0.12549813629441442,1.3576608839286126,2.6779875231201027,3.438718071765635,3.8282876682000784,2.7033260648790822,1.368508284272862,0.34622692402548016,0.7946655190993107,0.6527586734097692,0.4987777048676734,-0.011372545830831624,-0.9440911920223047,-1.8123576388574105,-1.8937464912405977,-1.488316574599636,-0.6205879495444382,-0.11484583918876899,0.25260128934944104,0.20737469099036668,-0.41082308313968463,0.36852313100724987,0.8617198568085216,1.1204420035260314,1.345357572213731,1.3074545966776134,1.2297565348339532,0.5281192687162077,-0.7242690936897669,-1.1150927273377227,-1.6833411838641532,-1.8597960546328092,-0.8965593434797535,0.13876672272107343,1.2388337076463078,0.726078780035455,-0.17895202514145675,-0.9092724545350213,-0.7620511656514628,0.025743995009026688,2.3334182032509982,3.9705271962664415,4.716979964943348,3.5092581438478927,2.1986331221952407,0.6359874124230405,-0.16515593766915046,-1.194447451338326,-1.196573368028857,-1.8455195492406702,-2.8951496217881054,-3.547813916219598,-3.158822814788264,-2.286377398973508,-0.7396074981451921,0.10360240837692172,1.5796257036860708,2.3974099320737587,2.30283736853837,2.1152858635380936,1.5481127052180266,0.45685927405939614,-0.11866273872966204,-0.7091617988141372,-1.4229147025203848,-1.5833979363329984,-2.523767219787973,-2.905892614212446,-2.816159223806931,-2.274409776890032,-0.8868573511754292,-0.3565528356860407,-0.12696694183967702,0.6586698787562493,0.831664300424883,0.908085031936146,1.569332657580012,2.158642066791713,2.4146441791245756,1.3223662871965134,0.22867073039727792,-0.10726929641693694,-0.16655632407990054,-1.3573399185339439,-1.5852638419900353,-0.963164351007138,-0.017094946080823417,0.20456913116816655,0.11061811034383884,0.6530550344757825,1.1191029769483651,0.5752456051432278,0.054304037330568905,0.21230546563173477,-0.2677264836679732,-0.668332390695837,-1.3526513933603648,-1.2157682254054483,-1.349870421200185,-1.052004785557737,-1.2719239394673258,-1.4345571785849631,-1.3975021039995539,-0.2318220749165528,0.18202520692505691,0.7788627723574718,0.19033396578691708,0.006320478728823242,-0.8245115476039477,-1.3983105459941798,-1.5771696028225883,-0.9420863229033161,-0.562597874312205,-0.3642258620663762,-0.6383312361270845,-0.6224996332471273,-0.791248623217286,-0.6525013760122074,-0.5151553797801607,-0.22766348218498605,0.22222270576509764,0.437470870650384,0.5310394115781394,0.51463918690055,0.12124781841090296,-0.015021418394281949,0.13096611563454275,-0.027173597689582638,0.23270227281966305,0.4476831185210596,0.06835544092601722,-0.11512494375565682,-0.7383825167386282,-0.8079712557053244,-0.3935104878772993,-0.08565152240958518,-0.057720018646667176,-0.38922008570164796,-1.357523928561956,-1.7925200760406939,-2.3103027116146055,-2.132366139744464,-1.0699442551864542,-0.2640642994479748,0.897914727873069,1.4572675199298382,2.0235122932910174,2.055529869271639,1.550548451992748,1.2874918207682986,1.444226773750338,0.8499441419292115,1.3116483604805473,1.1927798742709554,1.789622063347616,1.6069291134541208,1.064537029683388,0.5800975921358842,-0.5003143442342891,-1.6949968955465469,-2.191346671191652,-2.1331765438077905,-1.7100013903797295,-1.1897918493246047,-0.6271835839927784,0.2036765359245737,0.7711809316148152,0.9708603460123122,1.2197877915033342,1.3083486731033467,0.6307223607190433,-0.1537887295278924,-0.6990162281062797,-0.6731432625128028,-0.22982020257945834,-0.2637446170674643,0.042656151944384935,0.46055664662636797,0.7153698894466979,0.09893467608737147,0.1584534849533671,0.10078927054332566,0.28188997123085974,0.572273068877797,1.060066584918421,2.2746644685601125,2.7118118550037624,2.4748290670178923,2.073552491911608,1.0484675236461034,-0.5239356576878732,-1.6166898253550108,-1.618281755343538,-1.9471881899786405,-2.4542827276959334,-2.0883139771598964,-1.7237542405609165,-0.7772418216992785,-0.27490314094942714,-0.2044199532855252,0.22127062597284283,-0.4166917082549425,-1.043139542768512,-1.2168194388462954,-1.0311485200622674,-0.5682428275296184,-0.0444341624390885,0.489663762560819,1.364498171737699,2.0745603411594753,2.5145691356070605,3.1145177310645833,2.5550744462571626,1.7528454544217402,1.391719439925846,1.0098198228736655,0.4972934759731502,-0.627900082866399,-0.9931252362783506,-0.7875562059884882,-0.44813139340926617,0.35432464462433544,1.298587114578287,1.4612269915805902,1.3141259407111938,0.37472081438161753,-0.006638495452731222,-0.2698795360414429,0.17958435265970357,0.32083794121513803,0.6914765876598893,0.8137188625850966,0.964885103258536,1.256188925045897,1.523478930474345,1.5116869387533036,0.9367991506293698,0.4510573367470145,-0.09088117172887952,-0.5954269915627332,-0.9184837794291016,-0.6576248511260258,-0.8259475591243992,-0.6928265629243213,-0.512311469634944,-0.30842546137462434,-0.36575602625014425,0.1664028664273691,0.5309780595514939,0.7781728601777568,0.30754776899051695,0.23605724519761428,0.002406741881464086,-0.41265154075755084,-0.948450590060685,-1.0215132176458919,-0.6696148215639173,-0.24475498372409327,-0.41680705894879433,-0.29528871126789635,-0.2931172593444026,-0.46012076101629695,-0.7766572667347157,-0.6288849291738838,0.1376351768465388,-0.1960609534400193,-0.995481514727309,-1.1840420617440301,-1.5792866012186961,-1.3738380600883136,-0.2082920904007044,2.276755655796311]}],                        {\"font\":{\"size\":20},\"template\":{\"data\":{\"bar\":[{\"error_x\":{\"color\":\"#2a3f5f\"},\"error_y\":{\"color\":\"#2a3f5f\"},\"marker\":{\"line\":{\"color\":\"#E5ECF6\",\"width\":0.5},\"pattern\":{\"fillmode\":\"overlay\",\"size\":10,\"solidity\":0.2}},\"type\":\"bar\"}],\"barpolar\":[{\"marker\":{\"line\":{\"color\":\"#E5ECF6\",\"width\":0.5},\"pattern\":{\"fillmode\":\"overlay\",\"size\":10,\"solidity\":0.2}},\"type\":\"barpolar\"}],\"carpet\":[{\"aaxis\":{\"endlinecolor\":\"#2a3f5f\",\"gridcolor\":\"white\",\"linecolor\":\"white\",\"minorgridcolor\":\"white\",\"startlinecolor\":\"#2a3f5f\"},\"baxis\":{\"endlinecolor\":\"#2a3f5f\",\"gridcolor\":\"white\",\"linecolor\":\"white\",\"minorgridcolor\":\"white\",\"startlinecolor\":\"#2a3f5f\"},\"type\":\"carpet\"}],\"choropleth\":[{\"colorbar\":{\"outlinewidth\":0,\"ticks\":\"\"},\"type\":\"choropleth\"}],\"contour\":[{\"colorbar\":{\"outlinewidth\":0,\"ticks\":\"\"},\"colorscale\":[[0.0,\"#0d0887\"],[0.1111111111111111,\"#46039f\"],[0.2222222222222222,\"#7201a8\"],[0.3333333333333333,\"#9c179e\"],[0.4444444444444444,\"#bd3786\"],[0.5555555555555556,\"#d8576b\"],[0.6666666666666666,\"#ed7953\"],[0.7777777777777778,\"#fb9f3a\"],[0.8888888888888888,\"#fdca26\"],[1.0,\"#f0f921\"]],\"type\":\"contour\"}],\"contourcarpet\":[{\"colorbar\":{\"outlinewidth\":0,\"ticks\":\"\"},\"type\":\"contourcarpet\"}],\"heatmap\":[{\"colorbar\":{\"outlinewidth\":0,\"ticks\":\"\"},\"colorscale\":[[0.0,\"#0d0887\"],[0.1111111111111111,\"#46039f\"],[0.2222222222222222,\"#7201a8\"],[0.3333333333333333,\"#9c179e\"],[0.4444444444444444,\"#bd3786\"],[0.5555555555555556,\"#d8576b\"],[0.6666666666666666,\"#ed7953\"],[0.7777777777777778,\"#fb9f3a\"],[0.8888888888888888,\"#fdca26\"],[1.0,\"#f0f921\"]],\"type\":\"heatmap\"}],\"heatmapgl\":[{\"colorbar\":{\"outlinewidth\":0,\"ticks\":\"\"},\"colorscale\":[[0.0,\"#0d0887\"],[0.1111111111111111,\"#46039f\"],[0.2222222222222222,\"#7201a8\"],[0.3333333333333333,\"#9c179e\"],[0.4444444444444444,\"#bd3786\"],[0.5555555555555556,\"#d8576b\"],[0.6666666666666666,\"#ed7953\"],[0.7777777777777778,\"#fb9f3a\"],[0.8888888888888888,\"#fdca26\"],[1.0,\"#f0f921\"]],\"type\":\"heatmapgl\"}],\"histogram\":[{\"marker\":{\"pattern\":{\"fillmode\":\"overlay\",\"size\":10,\"solidity\":0.2}},\"type\":\"histogram\"}],\"histogram2d\":[{\"colorbar\":{\"outlinewidth\":0,\"ticks\":\"\"},\"colorscale\":[[0.0,\"#0d0887\"],[0.1111111111111111,\"#46039f\"],[0.2222222222222222,\"#7201a8\"],[0.3333333333333333,\"#9c179e\"],[0.4444444444444444,\"#bd3786\"],[0.5555555555555556,\"#d8576b\"],[0.6666666666666666,\"#ed7953\"],[0.7777777777777778,\"#fb9f3a\"],[0.8888888888888888,\"#fdca26\"],[1.0,\"#f0f921\"]],\"type\":\"histogram2d\"}],\"histogram2dcontour\":[{\"colorbar\":{\"outlinewidth\":0,\"ticks\":\"\"},\"colorscale\":[[0.0,\"#0d0887\"],[0.1111111111111111,\"#46039f\"],[0.2222222222222222,\"#7201a8\"],[0.3333333333333333,\"#9c179e\"],[0.4444444444444444,\"#bd3786\"],[0.5555555555555556,\"#d8576b\"],[0.6666666666666666,\"#ed7953\"],[0.7777777777777778,\"#fb9f3a\"],[0.8888888888888888,\"#fdca26\"],[1.0,\"#f0f921\"]],\"type\":\"histogram2dcontour\"}],\"mesh3d\":[{\"colorbar\":{\"outlinewidth\":0,\"ticks\":\"\"},\"type\":\"mesh3d\"}],\"parcoords\":[{\"line\":{\"colorbar\":{\"outlinewidth\":0,\"ticks\":\"\"}},\"type\":\"parcoords\"}],\"pie\":[{\"automargin\":true,\"type\":\"pie\"}],\"scatter\":[{\"marker\":{\"colorbar\":{\"outlinewidth\":0,\"ticks\":\"\"}},\"type\":\"scatter\"}],\"scatter3d\":[{\"line\":{\"colorbar\":{\"outlinewidth\":0,\"ticks\":\"\"}},\"marker\":{\"colorbar\":{\"outlinewidth\":0,\"ticks\":\"\"}},\"type\":\"scatter3d\"}],\"scattercarpet\":[{\"marker\":{\"colorbar\":{\"outlinewidth\":0,\"ticks\":\"\"}},\"type\":\"scattercarpet\"}],\"scattergeo\":[{\"marker\":{\"colorbar\":{\"outlinewidth\":0,\"ticks\":\"\"}},\"type\":\"scattergeo\"}],\"scattergl\":[{\"marker\":{\"colorbar\":{\"outlinewidth\":0,\"ticks\":\"\"}},\"type\":\"scattergl\"}],\"scattermapbox\":[{\"marker\":{\"colorbar\":{\"outlinewidth\":0,\"ticks\":\"\"}},\"type\":\"scattermapbox\"}],\"scatterpolar\":[{\"marker\":{\"colorbar\":{\"outlinewidth\":0,\"ticks\":\"\"}},\"type\":\"scatterpolar\"}],\"scatterpolargl\":[{\"marker\":{\"colorbar\":{\"outlinewidth\":0,\"ticks\":\"\"}},\"type\":\"scatterpolargl\"}],\"scatterternary\":[{\"marker\":{\"colorbar\":{\"outlinewidth\":0,\"ticks\":\"\"}},\"type\":\"scatterternary\"}],\"surface\":[{\"colorbar\":{\"outlinewidth\":0,\"ticks\":\"\"},\"colorscale\":[[0.0,\"#0d0887\"],[0.1111111111111111,\"#46039f\"],[0.2222222222222222,\"#7201a8\"],[0.3333333333333333,\"#9c179e\"],[0.4444444444444444,\"#bd3786\"],[0.5555555555555556,\"#d8576b\"],[0.6666666666666666,\"#ed7953\"],[0.7777777777777778,\"#fb9f3a\"],[0.8888888888888888,\"#fdca26\"],[1.0,\"#f0f921\"]],\"type\":\"surface\"}],\"table\":[{\"cells\":{\"fill\":{\"color\":\"#EBF0F8\"},\"line\":{\"color\":\"white\"}},\"header\":{\"fill\":{\"color\":\"#C8D4E3\"},\"line\":{\"color\":\"white\"}},\"type\":\"table\"}]},\"layout\":{\"annotationdefaults\":{\"arrowcolor\":\"#2a3f5f\",\"arrowhead\":0,\"arrowwidth\":1},\"autotypenumbers\":\"strict\",\"coloraxis\":{\"colorbar\":{\"outlinewidth\":0,\"ticks\":\"\"}},\"colorscale\":{\"diverging\":[[0,\"#8e0152\"],[0.1,\"#c51b7d\"],[0.2,\"#de77ae\"],[0.3,\"#f1b6da\"],[0.4,\"#fde0ef\"],[0.5,\"#f7f7f7\"],[0.6,\"#e6f5d0\"],[0.7,\"#b8e186\"],[0.8,\"#7fbc41\"],[0.9,\"#4d9221\"],[1,\"#276419\"]],\"sequential\":[[0.0,\"#0d0887\"],[0.1111111111111111,\"#46039f\"],[0.2222222222222222,\"#7201a8\"],[0.3333333333333333,\"#9c179e\"],[0.4444444444444444,\"#bd3786\"],[0.5555555555555556,\"#d8576b\"],[0.6666666666666666,\"#ed7953\"],[0.7777777777777778,\"#fb9f3a\"],[0.8888888888888888,\"#fdca26\"],[1.0,\"#f0f921\"]],\"sequentialminus\":[[0.0,\"#0d0887\"],[0.1111111111111111,\"#46039f\"],[0.2222222222222222,\"#7201a8\"],[0.3333333333333333,\"#9c179e\"],[0.4444444444444444,\"#bd3786\"],[0.5555555555555556,\"#d8576b\"],[0.6666666666666666,\"#ed7953\"],[0.7777777777777778,\"#fb9f3a\"],[0.8888888888888888,\"#fdca26\"],[1.0,\"#f0f921\"]]},\"colorway\":[\"#636efa\",\"#EF553B\",\"#00cc96\",\"#ab63fa\",\"#FFA15A\",\"#19d3f3\",\"#FF6692\",\"#B6E880\",\"#FF97FF\",\"#FECB52\"],\"font\":{\"color\":\"#2a3f5f\"},\"geo\":{\"bgcolor\":\"white\",\"lakecolor\":\"white\",\"landcolor\":\"#E5ECF6\",\"showlakes\":true,\"showland\":true,\"subunitcolor\":\"white\"},\"hoverlabel\":{\"align\":\"left\"},\"hovermode\":\"closest\",\"mapbox\":{\"style\":\"light\"},\"paper_bgcolor\":\"white\",\"plot_bgcolor\":\"#E5ECF6\",\"polar\":{\"angularaxis\":{\"gridcolor\":\"white\",\"linecolor\":\"white\",\"ticks\":\"\"},\"bgcolor\":\"#E5ECF6\",\"radialaxis\":{\"gridcolor\":\"white\",\"linecolor\":\"white\",\"ticks\":\"\"}},\"scene\":{\"xaxis\":{\"backgroundcolor\":\"#E5ECF6\",\"gridcolor\":\"white\",\"gridwidth\":2,\"linecolor\":\"white\",\"showbackground\":true,\"ticks\":\"\",\"zerolinecolor\":\"white\"},\"yaxis\":{\"backgroundcolor\":\"#E5ECF6\",\"gridcolor\":\"white\",\"gridwidth\":2,\"linecolor\":\"white\",\"showbackground\":true,\"ticks\":\"\",\"zerolinecolor\":\"white\"},\"zaxis\":{\"backgroundcolor\":\"#E5ECF6\",\"gridcolor\":\"white\",\"gridwidth\":2,\"linecolor\":\"white\",\"showbackground\":true,\"ticks\":\"\",\"zerolinecolor\":\"white\"}},\"shapedefaults\":{\"line\":{\"color\":\"#2a3f5f\"}},\"ternary\":{\"aaxis\":{\"gridcolor\":\"white\",\"linecolor\":\"white\",\"ticks\":\"\"},\"baxis\":{\"gridcolor\":\"white\",\"linecolor\":\"white\",\"ticks\":\"\"},\"bgcolor\":\"#E5ECF6\",\"caxis\":{\"gridcolor\":\"white\",\"linecolor\":\"white\",\"ticks\":\"\"}},\"title\":{\"x\":0.05},\"xaxis\":{\"automargin\":true,\"gridcolor\":\"white\",\"linecolor\":\"white\",\"ticks\":\"\",\"title\":{\"standoff\":15},\"zerolinecolor\":\"white\",\"zerolinewidth\":2},\"yaxis\":{\"automargin\":true,\"gridcolor\":\"white\",\"linecolor\":\"white\",\"ticks\":\"\",\"title\":{\"standoff\":15},\"zerolinecolor\":\"white\",\"zerolinewidth\":2}}},\"title\":{\"text\":\"Loadings from model\"},\"xaxis\":{\"title\":{\"text\":\"$$ {Raman shift} \\\\;\\\\; (cm^{-1})  $$\"}},\"yaxis\":{\"title\":{\"text\":\"Loadings\"}}},                        {\"responsive\": true}                    ).then(function(){\n",
       "                            \n",
       "var gd = document.getElementById('b6ef89ef-d814-462a-811c-2b03c06c4cc3');\n",
       "var x = new MutationObserver(function (mutations, observer) {{\n",
       "        var display = window.getComputedStyle(gd).display;\n",
       "        if (!display || display === 'none') {{\n",
       "            console.log([gd, 'removed!']);\n",
       "            Plotly.purge(gd);\n",
       "            observer.disconnect();\n",
       "        }}\n",
       "}});\n",
       "\n",
       "// Listen for the removal of the full notebook cells\n",
       "var notebookContainer = gd.closest('#notebook-container');\n",
       "if (notebookContainer) {{\n",
       "    x.observe(notebookContainer, {childList: true});\n",
       "}}\n",
       "\n",
       "// Listen for the clearing of the current output cell\n",
       "var outputEl = gd.closest('.output');\n",
       "if (outputEl) {{\n",
       "    x.observe(outputEl, {childList: true});\n",
       "}}\n",
       "\n",
       "                        })                };                });            </script>        </div>"
      ]
     },
     "metadata": {},
     "output_type": "display_data"
    }
   ],
   "source": [
    "las = Lasso(alpha = 1e-06).fit(X_train, y_train)\n",
    "wei = np.zeros((X_train.shape[1]))\n",
    "# Selecting not null regression weights\n",
    "k = 0\n",
    "for i in np.where(las.coef_!=0)[0]:\n",
    "    wei[i] = reg.coef_[k]\n",
    "    k+=1\n",
    "for i in np.where(las.coef_==0)[0]:\n",
    "    wei[i] = 0\n",
    "\n",
    "\n",
    "fig = go.Figure()\n",
    "fig.add_trace(go.Scatter(x = x_axis,\n",
    "                                 y= savgol_filter(wei,9,3),\n",
    "                       mode='lines'))\n",
    "\n",
    "fig.update_xaxes(title_text = '$$ {Raman shift} \\;\\; (cm^{-1})  $$')\n",
    "fig.update_yaxes(title_text='Loadings')\n",
    "fig.update_layout( title='Loadings from model' ,  font=dict(\n",
    "        size=20\n",
    "    )\n",
    ")\n",
    "fig.show()"
   ]
  },
  {
   "cell_type": "code",
   "execution_count": 10,
   "id": "ca76713b",
   "metadata": {
    "scrolled": false
   },
   "outputs": [
    {
     "name": "stdout",
     "output_type": "stream",
     "text": [
      "              precision    recall  f1-score   support\n",
      "\n",
      "      0%GHSA       1.00      1.00      1.00         6\n",
      "      3%GHSA       1.00      0.83      0.91         6\n",
      "      5%GHSA       0.71      0.83      0.77         6\n",
      "      7%GHSA       0.83      0.83      0.83         6\n",
      "     10%GHSA       1.00      1.00      1.00         6\n",
      "     13%GHSA       1.00      1.00      1.00         6\n",
      "     15%GHSA       1.00      1.00      1.00         6\n",
      "     18%GHSA       1.00      1.00      1.00         6\n",
      "     20%GHSA       1.00      1.00      1.00         6\n",
      "     23%GHSA       1.00      0.83      0.91         6\n",
      "     25%GHSA       0.86      1.00      0.92         6\n",
      "\n",
      "    accuracy                           0.94        66\n",
      "   macro avg       0.95      0.94      0.94        66\n",
      "weighted avg       0.95      0.94      0.94        66\n",
      "\n",
      "None\n"
     ]
    },
    {
     "data": {
      "image/png": "[encoded data removed]",
      "text/plain": [
       "<Figure size 1440x1080 with 2 Axes>"
      ]
     },
     "metadata": {},
     "output_type": "display_data"
    }
   ],
   "source": [
    "test = data.groupby('label', group_keys=False).apply(lambda x: x.sample(6,random_state = 67))\n",
    "train = data.drop(data[data['conc'].isin(test['conc'])].index, inplace = False)\n",
    "\n",
    "X_train, X_test, y_train, y_test = train[train.columns[:-3]], test[test.columns[:-3]],\\\n",
    "                                   train[train.columns[-3:]], test[test.columns[-3:]]\n",
    "lda = LDA(n_components = 3)\n",
    "lda.fit(X_train, list(y_train.label))\n",
    "y_pred = lda.predict(X_test )\n",
    "\n",
    "print (classification_rep((y_test.label), (y_pred)))\n",
    "\n",
    "plot_confusion_matrix(y_test.label, y_pred)"
   ]
  },
  {
   "cell_type": "code",
   "execution_count": null,
   "id": "9dc38053",
   "metadata": {},
   "outputs": [],
   "source": []
  }
 ],
 "metadata": {
  "kernelspec": {
   "display_name": "Python 3",
   "language": "python",
   "name": "python3"
  },
  "language_info": {
   "codemirror_mode": {
    "name": "ipython",
    "version": 3
   },
   "file_extension": ".py",
   "mimetype": "text/x-python",
   "name": "python",
   "nbconvert_exporter": "python",
   "pygments_lexer": "ipython3",
   "version": "3.8.8"
  }
 },
 "nbformat": 4,
 "nbformat_minor": 5
}
