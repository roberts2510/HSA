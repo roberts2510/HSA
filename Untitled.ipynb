{
 "cells": [
  {
   "cell_type": "code",
   "execution_count": 8,
   "id": "b4c84b59",
   "metadata": {},
   "outputs": [],
   "source": [
    "import numpy as np\n",
    "import pandas as pd\n",
    "from sklearn.discriminant_analysis import LinearDiscriminantAnalysis as LDA\n",
    "from functions import *\n",
    "from tqdm import tqdm\n",
    "import warnings\n",
    "from sklearn.feature_selection import SelectFromModel\n",
    "from sklearn.linear_model import Lasso, Ridge, LogisticRegression, LinearRegression, RidgeCV\n",
    "from sklearn.metrics import mean_squared_error, r2_score,accuracy_score,roc_curve, auc,confusion_matrix,classification_report\n",
    "\n",
    "\n",
    "warnings.filterwarnings(\"ignore\")\n",
    "\n",
    "color = ['red', 'green', 'blue','orange','brown','pink','magenta']\n",
    "\n"
   ]
  },
  {
   "cell_type": "code",
   "execution_count": 9,
   "id": "62cb81c8",
   "metadata": {},
   "outputs": [
    {
     "name": "stdout",
     "output_type": "stream",
     "text": [
      "1.2.4\n",
      "1.20.1\n",
      "0.11.1\n",
      "0.24.1\n",
      "5.3.1\n",
      "1.8.1\n"
     ]
    }
   ],
   "source": [
    "print(pd.__version__)\n",
    "print(np.__version__)\n",
    "print(sn.__version__)\n",
    "print(sklearn.__version__)\n",
    "print(plotly.__version__)\n",
    "print(scipy.__version__)\n",
    "\n"
   ]
  },
  {
   "cell_type": "code",
   "execution_count": null,
   "id": "918755a8",
   "metadata": {},
   "outputs": [],
   "source": []
  },
  {
   "cell_type": "code",
   "execution_count": 24,
   "id": "95ba4468",
   "metadata": {},
   "outputs": [],
   "source": [
    "\n",
    "x_axis = (np.array(pd.read_csv('data\\\\x_axis.csv').x))\n",
    "data = pd.read_csv('data\\\\exp_5.csv')\n",
    "    \n",
    "sixth_exp_data = data\n",
    "dictt = {0: [0,1,2,3,7,10,13,16,17],\n",
    "3: [25,0,2,23],\n",
    "5: [11,27,29],\n",
    "7: [4,28,10,20,29,3,18,13,6,26,6],\n",
    "10: [16,23],\n",
    "11: [26,20,18,22,20,21,27,25,29],\n",
    "13: [16,10],\n",
    "15: [1],\n",
    "18: [1,15,5,22,26],\n",
    "20: [19,25,26,7,17,29,27,28,26],\n",
    "23: [26,27,28,29],\n",
    "25: [5,9,6],\n",
    "100: [25,19,1,6]}\n",
    "for key in dictt.keys():\n",
    "        sixth_exp_data.drop(sixth_exp_data[sixth_exp_data.concentr==key].index[dictt[key]], inplace = True)\n"
   ]
  },
  {
   "cell_type": "code",
   "execution_count": null,
   "id": "a8e9090d",
   "metadata": {},
   "outputs": [],
   "source": []
  },
  {
   "cell_type": "code",
   "execution_count": 31,
   "id": "04869396",
   "metadata": {},
   "outputs": [],
   "source": [
    "# препроцессинг\n",
    "all_data = []\n",
    "for  k in [sixth_exp_data]:\n",
    "    df = (np.array(k[k.columns[:-3]])[:,220:]) # Обрезание ненужного диапазона \n",
    "    df = savgol_filter(df,15,3)  # сглаживание\n",
    "    df = snv(df) # нормировка по объекту\n",
    "    \n",
    "\n",
    "    df = rubberband_corr(df)  \n",
    "\n",
    "        \n",
    "\n",
    "\n",
    "    df =pd.DataFrame(df)\n",
    "    df['label']  =list(k.label)\n",
    "    df['concentr'] = list(k.concentr)\n",
    "    df['conc'] = list(k.conc)\n",
    "    valid =  df[(df['concentr']==11) | (df['concentr']==8)]\n",
    "#     val_set = all_data[5].query(‘concentr == 8 or concentr== 11’)\n",
    "\n",
    "    \n",
    "    \n",
    "    all_data.append(df)\n",
    "\n",
    "val_set = all_data[0].query('concentr == 8 or concentr== 11')\n",
    "\n",
    "all_data[0] = all_data[0][all_data[0]['concentr'] !=100]        # убираю ненужные объекты\n",
    "# all_data[5] = all_data[5][all_data[5]['concentr'] !=8]\n",
    "# all_data[5] = all_data[5][all_data[5]['concentr'] !=11]\n",
    "# val_set = all_data[5].query(‘concentr == 8 or concentr== 11’)\n"
   ]
  },
  {
   "cell_type": "code",
   "execution_count": null,
   "id": "7d4baee8",
   "metadata": {},
   "outputs": [],
   "source": []
  },
  {
   "cell_type": "code",
   "execution_count": 32,
   "id": "2497f7df",
   "metadata": {},
   "outputs": [
    {
     "data": {
      "application/vnd.plotly.v1+json": {
       "config": {
        "plotlyServerURL": "https://plot.ly"
       },
       "data": [
        {
         "mode": "lines",
         "showlegend": false,
         "type": "scatter",
         "xaxis": "x",
         "y": [
          null,
          null,
          null,
          null,
          null,
          null,
          null,
          null,
          null,
          null,
          null,
          null,
          null,
          null,
          null,
          null,
          null
         ],
         "yaxis": "y"
        },
        {
         "mode": "lines",
         "showlegend": false,
         "type": "scatter",
         "xaxis": "x2",
         "y": [
          null,
          null,
          null,
          null,
          null,
          null,
          null,
          null,
          null,
          null,
          null,
          null,
          null,
          null,
          null,
          null,
          null,
          null,
          null,
          null,
          null,
          null,
          null,
          null,
          null
         ],
         "yaxis": "y2"
        },
        {
         "mode": "lines",
         "showlegend": false,
         "type": "scatter",
         "xaxis": "x3",
         "y": [
          null,
          null,
          null,
          null,
          null,
          null,
          null,
          null,
          null,
          null,
          null,
          null,
          null,
          null,
          null,
          null,
          null,
          null,
          null,
          null,
          null,
          null,
          null,
          null,
          null,
          null,
          null
         ],
         "yaxis": "y3"
        },
        {
         "mode": "lines",
         "showlegend": false,
         "type": "scatter",
         "xaxis": "x4",
         "y": [
          null,
          null,
          null,
          null,
          null,
          null,
          null,
          null,
          null,
          null,
          null,
          null,
          null,
          null,
          null,
          null,
          null,
          null,
          null,
          null,
          null,
          null,
          null,
          null,
          null
         ],
         "yaxis": "y4"
        },
        {
         "mode": "lines",
         "showlegend": false,
         "type": "scatter",
         "xaxis": "x5",
         "y": [
          null,
          null,
          null,
          null,
          null,
          null,
          null,
          null,
          null,
          null,
          null,
          null,
          null,
          null,
          null,
          null,
          null,
          null,
          null,
          null,
          null,
          null,
          null,
          null,
          null,
          null,
          null
         ],
         "yaxis": "y5"
        },
        {
         "mode": "lines",
         "showlegend": false,
         "type": "scatter",
         "xaxis": "x6",
         "y": [
          null,
          null,
          null,
          null,
          null,
          null,
          null,
          null,
          null,
          null,
          null,
          null,
          null,
          null,
          null,
          null,
          null,
          null,
          null,
          null
         ],
         "yaxis": "y6"
        },
        {
         "mode": "lines",
         "showlegend": false,
         "type": "scatter",
         "xaxis": "x7",
         "y": [
          null,
          null,
          null,
          null,
          null,
          null,
          null,
          null,
          null,
          null,
          null,
          null,
          null,
          null,
          null,
          null,
          null,
          null,
          null,
          null,
          null,
          null,
          null,
          null,
          null,
          null,
          null
         ],
         "yaxis": "y7"
        },
        {
         "mode": "lines",
         "showlegend": false,
         "type": "scatter",
         "xaxis": "x8",
         "y": [
          null,
          null,
          null,
          null,
          null,
          null,
          null,
          null,
          null,
          null,
          null,
          null,
          null,
          null,
          null,
          null,
          null,
          null,
          null,
          null
         ],
         "yaxis": "y8"
        },
        {
         "mode": "lines",
         "showlegend": false,
         "type": "scatter",
         "xaxis": "x9",
         "y": [
          null,
          null,
          null,
          null,
          null,
          null,
          null,
          null,
          null,
          null,
          null,
          null,
          null,
          null,
          null,
          null,
          null,
          null,
          null,
          null,
          null,
          null,
          null,
          null,
          null,
          null,
          null
         ],
         "yaxis": "y9"
        },
        {
         "mode": "lines",
         "showlegend": false,
         "type": "scatter",
         "xaxis": "x10",
         "y": [
          null,
          null,
          null,
          null,
          null,
          null,
          null,
          null,
          null,
          null,
          null,
          null,
          null,
          null,
          null,
          null,
          null,
          null,
          null,
          null
         ],
         "yaxis": "y10"
        },
        {
         "mode": "lines",
         "showlegend": false,
         "type": "scatter",
         "xaxis": "x11",
         "y": [
          null,
          null,
          null,
          null,
          null,
          null,
          null,
          null,
          null,
          null,
          null,
          null,
          null,
          null,
          null,
          null,
          null,
          null,
          null,
          null,
          null,
          null,
          null,
          null,
          null,
          null,
          null
         ],
         "yaxis": "y11"
        },
        {
         "mode": "lines",
         "showlegend": false,
         "type": "scatter",
         "xaxis": "x12",
         "y": [
          null,
          null,
          null,
          null,
          null,
          null,
          null,
          null,
          null,
          null,
          null,
          null,
          null,
          null,
          null,
          null,
          null,
          null,
          null,
          null,
          null,
          null,
          null,
          null,
          null,
          null,
          null
         ],
         "yaxis": "y12"
        },
        {
         "mode": "lines",
         "showlegend": false,
         "type": "scatter",
         "xaxis": "x13",
         "y": [
          null,
          null,
          null,
          null,
          null,
          null,
          null,
          null,
          null,
          null,
          null,
          null,
          null,
          null,
          null,
          null,
          null,
          null,
          null,
          null,
          null,
          null,
          null,
          null,
          null,
          null,
          null,
          null
         ],
         "yaxis": "y13"
        }
       ],
       "layout": {
        "annotations": [
         {
          "font": {
           "size": 40
          },
          "showarrow": false,
          "text": "GHSA: 0%",
          "x": 0.14444444444444446,
          "xanchor": "center",
          "xref": "paper",
          "y": 1,
          "yanchor": "bottom",
          "yref": "paper"
         },
         {
          "font": {
           "size": 40
          },
          "showarrow": false,
          "text": "GHSA: 3%",
          "x": 0.5,
          "xanchor": "center",
          "xref": "paper",
          "y": 1,
          "yanchor": "bottom",
          "yref": "paper"
         },
         {
          "font": {
           "size": 40
          },
          "showarrow": false,
          "text": "GHSA: 5%",
          "x": 0.8555555555555556,
          "xanchor": "center",
          "xref": "paper",
          "y": 1,
          "yanchor": "bottom",
          "yref": "paper"
         },
         {
          "font": {
           "size": 40
          },
          "showarrow": false,
          "text": "GHSA: 7%",
          "x": 0.14444444444444446,
          "xanchor": "center",
          "xref": "paper",
          "y": 0.78,
          "yanchor": "bottom",
          "yref": "paper"
         },
         {
          "font": {
           "size": 40
          },
          "showarrow": false,
          "text": "GHSA: 8%",
          "x": 0.5,
          "xanchor": "center",
          "xref": "paper",
          "y": 0.78,
          "yanchor": "bottom",
          "yref": "paper"
         },
         {
          "font": {
           "size": 40
          },
          "showarrow": false,
          "text": "GHSA: 10%",
          "x": 0.8555555555555556,
          "xanchor": "center",
          "xref": "paper",
          "y": 0.78,
          "yanchor": "bottom",
          "yref": "paper"
         },
         {
          "font": {
           "size": 40
          },
          "showarrow": false,
          "text": "GHSA: 11%",
          "x": 0.14444444444444446,
          "xanchor": "center",
          "xref": "paper",
          "y": 0.56,
          "yanchor": "bottom",
          "yref": "paper"
         },
         {
          "font": {
           "size": 40
          },
          "showarrow": false,
          "text": "GHSA: 13%",
          "x": 0.5,
          "xanchor": "center",
          "xref": "paper",
          "y": 0.56,
          "yanchor": "bottom",
          "yref": "paper"
         },
         {
          "font": {
           "size": 40
          },
          "showarrow": false,
          "text": "GHSA: 15%",
          "x": 0.8555555555555556,
          "xanchor": "center",
          "xref": "paper",
          "y": 0.56,
          "yanchor": "bottom",
          "yref": "paper"
         },
         {
          "font": {
           "size": 40
          },
          "showarrow": false,
          "text": "GHSA: 18%",
          "x": 0.14444444444444446,
          "xanchor": "center",
          "xref": "paper",
          "y": 0.33999999999999997,
          "yanchor": "bottom",
          "yref": "paper"
         },
         {
          "font": {
           "size": 40
          },
          "showarrow": false,
          "text": "GHSA: 20%",
          "x": 0.5,
          "xanchor": "center",
          "xref": "paper",
          "y": 0.33999999999999997,
          "yanchor": "bottom",
          "yref": "paper"
         },
         {
          "font": {
           "size": 40
          },
          "showarrow": false,
          "text": "GHSA: 23%",
          "x": 0.8555555555555556,
          "xanchor": "center",
          "xref": "paper",
          "y": 0.33999999999999997,
          "yanchor": "bottom",
          "yref": "paper"
         },
         {
          "font": {
           "size": 40
          },
          "showarrow": false,
          "text": "GHSA: 25%",
          "x": 0.5,
          "xanchor": "center",
          "xref": "paper",
          "y": 0.12,
          "yanchor": "bottom",
          "yref": "paper"
         }
        ],
        "height": 1000,
        "template": {
         "data": {
          "bar": [
           {
            "error_x": {
             "color": "#2a3f5f"
            },
            "error_y": {
             "color": "#2a3f5f"
            },
            "marker": {
             "line": {
              "color": "#E5ECF6",
              "width": 0.5
             },
             "pattern": {
              "fillmode": "overlay",
              "size": 10,
              "solidity": 0.2
             }
            },
            "type": "bar"
           }
          ],
          "barpolar": [
           {
            "marker": {
             "line": {
              "color": "#E5ECF6",
              "width": 0.5
             },
             "pattern": {
              "fillmode": "overlay",
              "size": 10,
              "solidity": 0.2
             }
            },
            "type": "barpolar"
           }
          ],
          "carpet": [
           {
            "aaxis": {
             "endlinecolor": "#2a3f5f",
             "gridcolor": "white",
             "linecolor": "white",
             "minorgridcolor": "white",
             "startlinecolor": "#2a3f5f"
            },
            "baxis": {
             "endlinecolor": "#2a3f5f",
             "gridcolor": "white",
             "linecolor": "white",
             "minorgridcolor": "white",
             "startlinecolor": "#2a3f5f"
            },
            "type": "carpet"
           }
          ],
          "choropleth": [
           {
            "colorbar": {
             "outlinewidth": 0,
             "ticks": ""
            },
            "type": "choropleth"
           }
          ],
          "contour": [
           {
            "colorbar": {
             "outlinewidth": 0,
             "ticks": ""
            },
            "colorscale": [
             [
              0,
              "#0d0887"
             ],
             [
              0.1111111111111111,
              "#46039f"
             ],
             [
              0.2222222222222222,
              "#7201a8"
             ],
             [
              0.3333333333333333,
              "#9c179e"
             ],
             [
              0.4444444444444444,
              "#bd3786"
             ],
             [
              0.5555555555555556,
              "#d8576b"
             ],
             [
              0.6666666666666666,
              "#ed7953"
             ],
             [
              0.7777777777777778,
              "#fb9f3a"
             ],
             [
              0.8888888888888888,
              "#fdca26"
             ],
             [
              1,
              "#f0f921"
             ]
            ],
            "type": "contour"
           }
          ],
          "contourcarpet": [
           {
            "colorbar": {
             "outlinewidth": 0,
             "ticks": ""
            },
            "type": "contourcarpet"
           }
          ],
          "heatmap": [
           {
            "colorbar": {
             "outlinewidth": 0,
             "ticks": ""
            },
            "colorscale": [
             [
              0,
              "#0d0887"
             ],
             [
              0.1111111111111111,
              "#46039f"
             ],
             [
              0.2222222222222222,
              "#7201a8"
             ],
             [
              0.3333333333333333,
              "#9c179e"
             ],
             [
              0.4444444444444444,
              "#bd3786"
             ],
             [
              0.5555555555555556,
              "#d8576b"
             ],
             [
              0.6666666666666666,
              "#ed7953"
             ],
             [
              0.7777777777777778,
              "#fb9f3a"
             ],
             [
              0.8888888888888888,
              "#fdca26"
             ],
             [
              1,
              "#f0f921"
             ]
            ],
            "type": "heatmap"
           }
          ],
          "heatmapgl": [
           {
            "colorbar": {
             "outlinewidth": 0,
             "ticks": ""
            },
            "colorscale": [
             [
              0,
              "#0d0887"
             ],
             [
              0.1111111111111111,
              "#46039f"
             ],
             [
              0.2222222222222222,
              "#7201a8"
             ],
             [
              0.3333333333333333,
              "#9c179e"
             ],
             [
              0.4444444444444444,
              "#bd3786"
             ],
             [
              0.5555555555555556,
              "#d8576b"
             ],
             [
              0.6666666666666666,
              "#ed7953"
             ],
             [
              0.7777777777777778,
              "#fb9f3a"
             ],
             [
              0.8888888888888888,
              "#fdca26"
             ],
             [
              1,
              "#f0f921"
             ]
            ],
            "type": "heatmapgl"
           }
          ],
          "histogram": [
           {
            "marker": {
             "pattern": {
              "fillmode": "overlay",
              "size": 10,
              "solidity": 0.2
             }
            },
            "type": "histogram"
           }
          ],
          "histogram2d": [
           {
            "colorbar": {
             "outlinewidth": 0,
             "ticks": ""
            },
            "colorscale": [
             [
              0,
              "#0d0887"
             ],
             [
              0.1111111111111111,
              "#46039f"
             ],
             [
              0.2222222222222222,
              "#7201a8"
             ],
             [
              0.3333333333333333,
              "#9c179e"
             ],
             [
              0.4444444444444444,
              "#bd3786"
             ],
             [
              0.5555555555555556,
              "#d8576b"
             ],
             [
              0.6666666666666666,
              "#ed7953"
             ],
             [
              0.7777777777777778,
              "#fb9f3a"
             ],
             [
              0.8888888888888888,
              "#fdca26"
             ],
             [
              1,
              "#f0f921"
             ]
            ],
            "type": "histogram2d"
           }
          ],
          "histogram2dcontour": [
           {
            "colorbar": {
             "outlinewidth": 0,
             "ticks": ""
            },
            "colorscale": [
             [
              0,
              "#0d0887"
             ],
             [
              0.1111111111111111,
              "#46039f"
             ],
             [
              0.2222222222222222,
              "#7201a8"
             ],
             [
              0.3333333333333333,
              "#9c179e"
             ],
             [
              0.4444444444444444,
              "#bd3786"
             ],
             [
              0.5555555555555556,
              "#d8576b"
             ],
             [
              0.6666666666666666,
              "#ed7953"
             ],
             [
              0.7777777777777778,
              "#fb9f3a"
             ],
             [
              0.8888888888888888,
              "#fdca26"
             ],
             [
              1,
              "#f0f921"
             ]
            ],
            "type": "histogram2dcontour"
           }
          ],
          "mesh3d": [
           {
            "colorbar": {
             "outlinewidth": 0,
             "ticks": ""
            },
            "type": "mesh3d"
           }
          ],
          "parcoords": [
           {
            "line": {
             "colorbar": {
              "outlinewidth": 0,
              "ticks": ""
             }
            },
            "type": "parcoords"
           }
          ],
          "pie": [
           {
            "automargin": true,
            "type": "pie"
           }
          ],
          "scatter": [
           {
            "marker": {
             "colorbar": {
              "outlinewidth": 0,
              "ticks": ""
             }
            },
            "type": "scatter"
           }
          ],
          "scatter3d": [
           {
            "line": {
             "colorbar": {
              "outlinewidth": 0,
              "ticks": ""
             }
            },
            "marker": {
             "colorbar": {
              "outlinewidth": 0,
              "ticks": ""
             }
            },
            "type": "scatter3d"
           }
          ],
          "scattercarpet": [
           {
            "marker": {
             "colorbar": {
              "outlinewidth": 0,
              "ticks": ""
             }
            },
            "type": "scattercarpet"
           }
          ],
          "scattergeo": [
           {
            "marker": {
             "colorbar": {
              "outlinewidth": 0,
              "ticks": ""
             }
            },
            "type": "scattergeo"
           }
          ],
          "scattergl": [
           {
            "marker": {
             "colorbar": {
              "outlinewidth": 0,
              "ticks": ""
             }
            },
            "type": "scattergl"
           }
          ],
          "scattermapbox": [
           {
            "marker": {
             "colorbar": {
              "outlinewidth": 0,
              "ticks": ""
             }
            },
            "type": "scattermapbox"
           }
          ],
          "scatterpolar": [
           {
            "marker": {
             "colorbar": {
              "outlinewidth": 0,
              "ticks": ""
             }
            },
            "type": "scatterpolar"
           }
          ],
          "scatterpolargl": [
           {
            "marker": {
             "colorbar": {
              "outlinewidth": 0,
              "ticks": ""
             }
            },
            "type": "scatterpolargl"
           }
          ],
          "scatterternary": [
           {
            "marker": {
             "colorbar": {
              "outlinewidth": 0,
              "ticks": ""
             }
            },
            "type": "scatterternary"
           }
          ],
          "surface": [
           {
            "colorbar": {
             "outlinewidth": 0,
             "ticks": ""
            },
            "colorscale": [
             [
              0,
              "#0d0887"
             ],
             [
              0.1111111111111111,
              "#46039f"
             ],
             [
              0.2222222222222222,
              "#7201a8"
             ],
             [
              0.3333333333333333,
              "#9c179e"
             ],
             [
              0.4444444444444444,
              "#bd3786"
             ],
             [
              0.5555555555555556,
              "#d8576b"
             ],
             [
              0.6666666666666666,
              "#ed7953"
             ],
             [
              0.7777777777777778,
              "#fb9f3a"
             ],
             [
              0.8888888888888888,
              "#fdca26"
             ],
             [
              1,
              "#f0f921"
             ]
            ],
            "type": "surface"
           }
          ],
          "table": [
           {
            "cells": {
             "fill": {
              "color": "#EBF0F8"
             },
             "line": {
              "color": "white"
             }
            },
            "header": {
             "fill": {
              "color": "#C8D4E3"
             },
             "line": {
              "color": "white"
             }
            },
            "type": "table"
           }
          ]
         },
         "layout": {
          "annotationdefaults": {
           "arrowcolor": "#2a3f5f",
           "arrowhead": 0,
           "arrowwidth": 1
          },
          "autotypenumbers": "strict",
          "coloraxis": {
           "colorbar": {
            "outlinewidth": 0,
            "ticks": ""
           }
          },
          "colorscale": {
           "diverging": [
            [
             0,
             "#8e0152"
            ],
            [
             0.1,
             "#c51b7d"
            ],
            [
             0.2,
             "#de77ae"
            ],
            [
             0.3,
             "#f1b6da"
            ],
            [
             0.4,
             "#fde0ef"
            ],
            [
             0.5,
             "#f7f7f7"
            ],
            [
             0.6,
             "#e6f5d0"
            ],
            [
             0.7,
             "#b8e186"
            ],
            [
             0.8,
             "#7fbc41"
            ],
            [
             0.9,
             "#4d9221"
            ],
            [
             1,
             "#276419"
            ]
           ],
           "sequential": [
            [
             0,
             "#0d0887"
            ],
            [
             0.1111111111111111,
             "#46039f"
            ],
            [
             0.2222222222222222,
             "#7201a8"
            ],
            [
             0.3333333333333333,
             "#9c179e"
            ],
            [
             0.4444444444444444,
             "#bd3786"
            ],
            [
             0.5555555555555556,
             "#d8576b"
            ],
            [
             0.6666666666666666,
             "#ed7953"
            ],
            [
             0.7777777777777778,
             "#fb9f3a"
            ],
            [
             0.8888888888888888,
             "#fdca26"
            ],
            [
             1,
             "#f0f921"
            ]
           ],
           "sequentialminus": [
            [
             0,
             "#0d0887"
            ],
            [
             0.1111111111111111,
             "#46039f"
            ],
            [
             0.2222222222222222,
             "#7201a8"
            ],
            [
             0.3333333333333333,
             "#9c179e"
            ],
            [
             0.4444444444444444,
             "#bd3786"
            ],
            [
             0.5555555555555556,
             "#d8576b"
            ],
            [
             0.6666666666666666,
             "#ed7953"
            ],
            [
             0.7777777777777778,
             "#fb9f3a"
            ],
            [
             0.8888888888888888,
             "#fdca26"
            ],
            [
             1,
             "#f0f921"
            ]
           ]
          },
          "colorway": [
           "#636efa",
           "#EF553B",
           "#00cc96",
           "#ab63fa",
           "#FFA15A",
           "#19d3f3",
           "#FF6692",
           "#B6E880",
           "#FF97FF",
           "#FECB52"
          ],
          "font": {
           "color": "#2a3f5f"
          },
          "geo": {
           "bgcolor": "white",
           "lakecolor": "white",
           "landcolor": "#E5ECF6",
           "showlakes": true,
           "showland": true,
           "subunitcolor": "white"
          },
          "hoverlabel": {
           "align": "left"
          },
          "hovermode": "closest",
          "mapbox": {
           "style": "light"
          },
          "paper_bgcolor": "white",
          "plot_bgcolor": "#E5ECF6",
          "polar": {
           "angularaxis": {
            "gridcolor": "white",
            "linecolor": "white",
            "ticks": ""
           },
           "bgcolor": "#E5ECF6",
           "radialaxis": {
            "gridcolor": "white",
            "linecolor": "white",
            "ticks": ""
           }
          },
          "scene": {
           "xaxis": {
            "backgroundcolor": "#E5ECF6",
            "gridcolor": "white",
            "gridwidth": 2,
            "linecolor": "white",
            "showbackground": true,
            "ticks": "",
            "zerolinecolor": "white"
           },
           "yaxis": {
            "backgroundcolor": "#E5ECF6",
            "gridcolor": "white",
            "gridwidth": 2,
            "linecolor": "white",
            "showbackground": true,
            "ticks": "",
            "zerolinecolor": "white"
           },
           "zaxis": {
            "backgroundcolor": "#E5ECF6",
            "gridcolor": "white",
            "gridwidth": 2,
            "linecolor": "white",
            "showbackground": true,
            "ticks": "",
            "zerolinecolor": "white"
           }
          },
          "shapedefaults": {
           "line": {
            "color": "#2a3f5f"
           }
          },
          "ternary": {
           "aaxis": {
            "gridcolor": "white",
            "linecolor": "white",
            "ticks": ""
           },
           "baxis": {
            "gridcolor": "white",
            "linecolor": "white",
            "ticks": ""
           },
           "bgcolor": "#E5ECF6",
           "caxis": {
            "gridcolor": "white",
            "linecolor": "white",
            "ticks": ""
           }
          },
          "title": {
           "x": 0.05
          },
          "xaxis": {
           "automargin": true,
           "gridcolor": "white",
           "linecolor": "white",
           "ticks": "",
           "title": {
            "standoff": 15
           },
           "zerolinecolor": "white",
           "zerolinewidth": 2
          },
          "yaxis": {
           "automargin": true,
           "gridcolor": "white",
           "linecolor": "white",
           "ticks": "",
           "title": {
            "standoff": 15
           },
           "zerolinecolor": "white",
           "zerolinewidth": 2
          }
         }
        },
        "title": {
         "font": {
          "size": 40
         }
        },
        "width": 1500,
        "xaxis": {
         "anchor": "y",
         "domain": [
          0,
          0.2888888888888889
         ],
         "tickfont": {
          "size": 15
         },
         "title": {
          "font": {
           "size": 20
          }
         }
        },
        "xaxis10": {
         "anchor": "y10",
         "domain": [
          0,
          0.2888888888888889
         ],
         "tickfont": {
          "size": 15
         },
         "title": {
          "font": {
           "size": 20
          }
         }
        },
        "xaxis11": {
         "anchor": "y11",
         "domain": [
          0.35555555555555557,
          0.6444444444444445
         ],
         "tickfont": {
          "size": 15
         },
         "title": {
          "font": {
           "size": 20
          }
         }
        },
        "xaxis12": {
         "anchor": "y12",
         "domain": [
          0.7111111111111111,
          1
         ],
         "tickfont": {
          "size": 15
         },
         "title": {
          "font": {
           "size": 20
          }
         }
        },
        "xaxis13": {
         "anchor": "y13",
         "domain": [
          0.35555555555555557,
          0.6444444444444445
         ],
         "tickfont": {
          "size": 15
         },
         "title": {
          "font": {
           "size": 20
          }
         }
        },
        "xaxis2": {
         "anchor": "y2",
         "domain": [
          0.35555555555555557,
          0.6444444444444445
         ],
         "tickfont": {
          "size": 15
         },
         "title": {
          "font": {
           "size": 20
          }
         }
        },
        "xaxis3": {
         "anchor": "y3",
         "domain": [
          0.7111111111111111,
          1
         ],
         "tickfont": {
          "size": 15
         },
         "title": {
          "font": {
           "size": 20
          }
         }
        },
        "xaxis4": {
         "anchor": "y4",
         "domain": [
          0,
          0.2888888888888889
         ],
         "tickfont": {
          "size": 15
         },
         "title": {
          "font": {
           "size": 20
          }
         }
        },
        "xaxis5": {
         "anchor": "y5",
         "domain": [
          0.35555555555555557,
          0.6444444444444445
         ],
         "tickfont": {
          "size": 15
         },
         "title": {
          "font": {
           "size": 20
          }
         }
        },
        "xaxis6": {
         "anchor": "y6",
         "domain": [
          0.7111111111111111,
          1
         ],
         "tickfont": {
          "size": 15
         },
         "title": {
          "font": {
           "size": 20
          }
         }
        },
        "xaxis7": {
         "anchor": "y7",
         "domain": [
          0,
          0.2888888888888889
         ],
         "tickfont": {
          "size": 15
         },
         "title": {
          "font": {
           "size": 20
          }
         }
        },
        "xaxis8": {
         "anchor": "y8",
         "domain": [
          0.35555555555555557,
          0.6444444444444445
         ],
         "tickfont": {
          "size": 15
         },
         "title": {
          "font": {
           "size": 20
          }
         }
        },
        "xaxis9": {
         "anchor": "y9",
         "domain": [
          0.7111111111111111,
          1
         ],
         "tickfont": {
          "size": 15
         },
         "title": {
          "font": {
           "size": 20
          }
         }
        },
        "yaxis": {
         "anchor": "x",
         "domain": [
          0.88,
          1
         ],
         "tickfont": {
          "size": 15
         },
         "title": {
          "font": {
           "size": 30
          },
          "text": "SNR"
         }
        },
        "yaxis10": {
         "anchor": "x10",
         "domain": [
          0.22,
          0.33999999999999997
         ],
         "tickfont": {
          "size": 15
         },
         "title": {
          "font": {
           "size": 30
          },
          "text": "SNR"
         }
        },
        "yaxis11": {
         "anchor": "x11",
         "domain": [
          0.22,
          0.33999999999999997
         ]
        },
        "yaxis12": {
         "anchor": "x12",
         "domain": [
          0.22,
          0.33999999999999997
         ]
        },
        "yaxis13": {
         "anchor": "x13",
         "domain": [
          0,
          0.12
         ],
         "tickfont": {
          "size": 15
         },
         "title": {
          "font": {
           "size": 30
          },
          "text": "SNR"
         }
        },
        "yaxis2": {
         "anchor": "x2",
         "domain": [
          0.88,
          1
         ]
        },
        "yaxis3": {
         "anchor": "x3",
         "domain": [
          0.88,
          1
         ]
        },
        "yaxis4": {
         "anchor": "x4",
         "domain": [
          0.66,
          0.78
         ],
         "tickfont": {
          "size": 15
         },
         "title": {
          "font": {
           "size": 30
          },
          "text": "SNR"
         }
        },
        "yaxis5": {
         "anchor": "x5",
         "domain": [
          0.66,
          0.78
         ]
        },
        "yaxis6": {
         "anchor": "x6",
         "domain": [
          0.66,
          0.78
         ]
        },
        "yaxis7": {
         "anchor": "x7",
         "domain": [
          0.44,
          0.56
         ],
         "tickfont": {
          "size": 15
         },
         "title": {
          "font": {
           "size": 30
          },
          "text": "SNR"
         }
        },
        "yaxis8": {
         "anchor": "x8",
         "domain": [
          0.44,
          0.56
         ]
        },
        "yaxis9": {
         "anchor": "x9",
         "domain": [
          0.44,
          0.56
         ]
        }
       }
      },
      "text/html": [
       "<div>                            <div id=\"0f4c2f35-4952-41ab-87b7-d1035485ee03\" class=\"plotly-graph-div\" style=\"height:1000px; width:1500px;\"></div>            <script type=\"text/javascript\">                require([\"plotly\"], function(Plotly) {                    window.PLOTLYENV=window.PLOTLYENV || {};                                    if (document.getElementById(\"0f4c2f35-4952-41ab-87b7-d1035485ee03\")) {                    Plotly.newPlot(                        \"0f4c2f35-4952-41ab-87b7-d1035485ee03\",                        [{\"mode\":\"lines\",\"showlegend\":false,\"type\":\"scatter\",\"xaxis\":\"x\",\"y\":[null,null,null,null,null,null,null,null,null,null,null,null,null,null,null,null,null],\"yaxis\":\"y\"},{\"mode\":\"lines\",\"showlegend\":false,\"type\":\"scatter\",\"xaxis\":\"x2\",\"y\":[null,null,null,null,null,null,null,null,null,null,null,null,null,null,null,null,null,null,null,null,null,null,null,null,null],\"yaxis\":\"y2\"},{\"mode\":\"lines\",\"showlegend\":false,\"type\":\"scatter\",\"xaxis\":\"x3\",\"y\":[null,null,null,null,null,null,null,null,null,null,null,null,null,null,null,null,null,null,null,null,null,null,null,null,null,null,null],\"yaxis\":\"y3\"},{\"mode\":\"lines\",\"showlegend\":false,\"type\":\"scatter\",\"xaxis\":\"x4\",\"y\":[null,null,null,null,null,null,null,null,null,null,null,null,null,null,null,null,null,null,null,null,null,null,null,null,null],\"yaxis\":\"y4\"},{\"mode\":\"lines\",\"showlegend\":false,\"type\":\"scatter\",\"xaxis\":\"x5\",\"y\":[null,null,null,null,null,null,null,null,null,null,null,null,null,null,null,null,null,null,null,null,null,null,null,null,null,null,null],\"yaxis\":\"y5\"},{\"mode\":\"lines\",\"showlegend\":false,\"type\":\"scatter\",\"xaxis\":\"x6\",\"y\":[null,null,null,null,null,null,null,null,null,null,null,null,null,null,null,null,null,null,null,null],\"yaxis\":\"y6\"},{\"mode\":\"lines\",\"showlegend\":false,\"type\":\"scatter\",\"xaxis\":\"x7\",\"y\":[null,null,null,null,null,null,null,null,null,null,null,null,null,null,null,null,null,null,null,null,null,null,null,null,null,null,null],\"yaxis\":\"y7\"},{\"mode\":\"lines\",\"showlegend\":false,\"type\":\"scatter\",\"xaxis\":\"x8\",\"y\":[null,null,null,null,null,null,null,null,null,null,null,null,null,null,null,null,null,null,null,null],\"yaxis\":\"y8\"},{\"mode\":\"lines\",\"showlegend\":false,\"type\":\"scatter\",\"xaxis\":\"x9\",\"y\":[null,null,null,null,null,null,null,null,null,null,null,null,null,null,null,null,null,null,null,null,null,null,null,null,null,null,null],\"yaxis\":\"y9\"},{\"mode\":\"lines\",\"showlegend\":false,\"type\":\"scatter\",\"xaxis\":\"x10\",\"y\":[null,null,null,null,null,null,null,null,null,null,null,null,null,null,null,null,null,null,null,null],\"yaxis\":\"y10\"},{\"mode\":\"lines\",\"showlegend\":false,\"type\":\"scatter\",\"xaxis\":\"x11\",\"y\":[null,null,null,null,null,null,null,null,null,null,null,null,null,null,null,null,null,null,null,null,null,null,null,null,null,null,null],\"yaxis\":\"y11\"},{\"mode\":\"lines\",\"showlegend\":false,\"type\":\"scatter\",\"xaxis\":\"x12\",\"y\":[null,null,null,null,null,null,null,null,null,null,null,null,null,null,null,null,null,null,null,null,null,null,null,null,null,null,null],\"yaxis\":\"y12\"},{\"mode\":\"lines\",\"showlegend\":false,\"type\":\"scatter\",\"xaxis\":\"x13\",\"y\":[null,null,null,null,null,null,null,null,null,null,null,null,null,null,null,null,null,null,null,null,null,null,null,null,null,null,null,null],\"yaxis\":\"y13\"}],                        {\"annotations\":[{\"font\":{\"size\":40},\"showarrow\":false,\"text\":\"GHSA: 0%\",\"x\":0.14444444444444446,\"xanchor\":\"center\",\"xref\":\"paper\",\"y\":1.0,\"yanchor\":\"bottom\",\"yref\":\"paper\"},{\"font\":{\"size\":40},\"showarrow\":false,\"text\":\"GHSA: 3%\",\"x\":0.5,\"xanchor\":\"center\",\"xref\":\"paper\",\"y\":1.0,\"yanchor\":\"bottom\",\"yref\":\"paper\"},{\"font\":{\"size\":40},\"showarrow\":false,\"text\":\"GHSA: 5%\",\"x\":0.8555555555555556,\"xanchor\":\"center\",\"xref\":\"paper\",\"y\":1.0,\"yanchor\":\"bottom\",\"yref\":\"paper\"},{\"font\":{\"size\":40},\"showarrow\":false,\"text\":\"GHSA: 7%\",\"x\":0.14444444444444446,\"xanchor\":\"center\",\"xref\":\"paper\",\"y\":0.78,\"yanchor\":\"bottom\",\"yref\":\"paper\"},{\"font\":{\"size\":40},\"showarrow\":false,\"text\":\"GHSA: 8%\",\"x\":0.5,\"xanchor\":\"center\",\"xref\":\"paper\",\"y\":0.78,\"yanchor\":\"bottom\",\"yref\":\"paper\"},{\"font\":{\"size\":40},\"showarrow\":false,\"text\":\"GHSA: 10%\",\"x\":0.8555555555555556,\"xanchor\":\"center\",\"xref\":\"paper\",\"y\":0.78,\"yanchor\":\"bottom\",\"yref\":\"paper\"},{\"font\":{\"size\":40},\"showarrow\":false,\"text\":\"GHSA: 11%\",\"x\":0.14444444444444446,\"xanchor\":\"center\",\"xref\":\"paper\",\"y\":0.56,\"yanchor\":\"bottom\",\"yref\":\"paper\"},{\"font\":{\"size\":40},\"showarrow\":false,\"text\":\"GHSA: 13%\",\"x\":0.5,\"xanchor\":\"center\",\"xref\":\"paper\",\"y\":0.56,\"yanchor\":\"bottom\",\"yref\":\"paper\"},{\"font\":{\"size\":40},\"showarrow\":false,\"text\":\"GHSA: 15%\",\"x\":0.8555555555555556,\"xanchor\":\"center\",\"xref\":\"paper\",\"y\":0.56,\"yanchor\":\"bottom\",\"yref\":\"paper\"},{\"font\":{\"size\":40},\"showarrow\":false,\"text\":\"GHSA: 18%\",\"x\":0.14444444444444446,\"xanchor\":\"center\",\"xref\":\"paper\",\"y\":0.33999999999999997,\"yanchor\":\"bottom\",\"yref\":\"paper\"},{\"font\":{\"size\":40},\"showarrow\":false,\"text\":\"GHSA: 20%\",\"x\":0.5,\"xanchor\":\"center\",\"xref\":\"paper\",\"y\":0.33999999999999997,\"yanchor\":\"bottom\",\"yref\":\"paper\"},{\"font\":{\"size\":40},\"showarrow\":false,\"text\":\"GHSA: 23%\",\"x\":0.8555555555555556,\"xanchor\":\"center\",\"xref\":\"paper\",\"y\":0.33999999999999997,\"yanchor\":\"bottom\",\"yref\":\"paper\"},{\"font\":{\"size\":40},\"showarrow\":false,\"text\":\"GHSA: 25%\",\"x\":0.5,\"xanchor\":\"center\",\"xref\":\"paper\",\"y\":0.12,\"yanchor\":\"bottom\",\"yref\":\"paper\"}],\"height\":1000,\"template\":{\"data\":{\"bar\":[{\"error_x\":{\"color\":\"#2a3f5f\"},\"error_y\":{\"color\":\"#2a3f5f\"},\"marker\":{\"line\":{\"color\":\"#E5ECF6\",\"width\":0.5},\"pattern\":{\"fillmode\":\"overlay\",\"size\":10,\"solidity\":0.2}},\"type\":\"bar\"}],\"barpolar\":[{\"marker\":{\"line\":{\"color\":\"#E5ECF6\",\"width\":0.5},\"pattern\":{\"fillmode\":\"overlay\",\"size\":10,\"solidity\":0.2}},\"type\":\"barpolar\"}],\"carpet\":[{\"aaxis\":{\"endlinecolor\":\"#2a3f5f\",\"gridcolor\":\"white\",\"linecolor\":\"white\",\"minorgridcolor\":\"white\",\"startlinecolor\":\"#2a3f5f\"},\"baxis\":{\"endlinecolor\":\"#2a3f5f\",\"gridcolor\":\"white\",\"linecolor\":\"white\",\"minorgridcolor\":\"white\",\"startlinecolor\":\"#2a3f5f\"},\"type\":\"carpet\"}],\"choropleth\":[{\"colorbar\":{\"outlinewidth\":0,\"ticks\":\"\"},\"type\":\"choropleth\"}],\"contour\":[{\"colorbar\":{\"outlinewidth\":0,\"ticks\":\"\"},\"colorscale\":[[0.0,\"#0d0887\"],[0.1111111111111111,\"#46039f\"],[0.2222222222222222,\"#7201a8\"],[0.3333333333333333,\"#9c179e\"],[0.4444444444444444,\"#bd3786\"],[0.5555555555555556,\"#d8576b\"],[0.6666666666666666,\"#ed7953\"],[0.7777777777777778,\"#fb9f3a\"],[0.8888888888888888,\"#fdca26\"],[1.0,\"#f0f921\"]],\"type\":\"contour\"}],\"contourcarpet\":[{\"colorbar\":{\"outlinewidth\":0,\"ticks\":\"\"},\"type\":\"contourcarpet\"}],\"heatmap\":[{\"colorbar\":{\"outlinewidth\":0,\"ticks\":\"\"},\"colorscale\":[[0.0,\"#0d0887\"],[0.1111111111111111,\"#46039f\"],[0.2222222222222222,\"#7201a8\"],[0.3333333333333333,\"#9c179e\"],[0.4444444444444444,\"#bd3786\"],[0.5555555555555556,\"#d8576b\"],[0.6666666666666666,\"#ed7953\"],[0.7777777777777778,\"#fb9f3a\"],[0.8888888888888888,\"#fdca26\"],[1.0,\"#f0f921\"]],\"type\":\"heatmap\"}],\"heatmapgl\":[{\"colorbar\":{\"outlinewidth\":0,\"ticks\":\"\"},\"colorscale\":[[0.0,\"#0d0887\"],[0.1111111111111111,\"#46039f\"],[0.2222222222222222,\"#7201a8\"],[0.3333333333333333,\"#9c179e\"],[0.4444444444444444,\"#bd3786\"],[0.5555555555555556,\"#d8576b\"],[0.6666666666666666,\"#ed7953\"],[0.7777777777777778,\"#fb9f3a\"],[0.8888888888888888,\"#fdca26\"],[1.0,\"#f0f921\"]],\"type\":\"heatmapgl\"}],\"histogram\":[{\"marker\":{\"pattern\":{\"fillmode\":\"overlay\",\"size\":10,\"solidity\":0.2}},\"type\":\"histogram\"}],\"histogram2d\":[{\"colorbar\":{\"outlinewidth\":0,\"ticks\":\"\"},\"colorscale\":[[0.0,\"#0d0887\"],[0.1111111111111111,\"#46039f\"],[0.2222222222222222,\"#7201a8\"],[0.3333333333333333,\"#9c179e\"],[0.4444444444444444,\"#bd3786\"],[0.5555555555555556,\"#d8576b\"],[0.6666666666666666,\"#ed7953\"],[0.7777777777777778,\"#fb9f3a\"],[0.8888888888888888,\"#fdca26\"],[1.0,\"#f0f921\"]],\"type\":\"histogram2d\"}],\"histogram2dcontour\":[{\"colorbar\":{\"outlinewidth\":0,\"ticks\":\"\"},\"colorscale\":[[0.0,\"#0d0887\"],[0.1111111111111111,\"#46039f\"],[0.2222222222222222,\"#7201a8\"],[0.3333333333333333,\"#9c179e\"],[0.4444444444444444,\"#bd3786\"],[0.5555555555555556,\"#d8576b\"],[0.6666666666666666,\"#ed7953\"],[0.7777777777777778,\"#fb9f3a\"],[0.8888888888888888,\"#fdca26\"],[1.0,\"#f0f921\"]],\"type\":\"histogram2dcontour\"}],\"mesh3d\":[{\"colorbar\":{\"outlinewidth\":0,\"ticks\":\"\"},\"type\":\"mesh3d\"}],\"parcoords\":[{\"line\":{\"colorbar\":{\"outlinewidth\":0,\"ticks\":\"\"}},\"type\":\"parcoords\"}],\"pie\":[{\"automargin\":true,\"type\":\"pie\"}],\"scatter\":[{\"marker\":{\"colorbar\":{\"outlinewidth\":0,\"ticks\":\"\"}},\"type\":\"scatter\"}],\"scatter3d\":[{\"line\":{\"colorbar\":{\"outlinewidth\":0,\"ticks\":\"\"}},\"marker\":{\"colorbar\":{\"outlinewidth\":0,\"ticks\":\"\"}},\"type\":\"scatter3d\"}],\"scattercarpet\":[{\"marker\":{\"colorbar\":{\"outlinewidth\":0,\"ticks\":\"\"}},\"type\":\"scattercarpet\"}],\"scattergeo\":[{\"marker\":{\"colorbar\":{\"outlinewidth\":0,\"ticks\":\"\"}},\"type\":\"scattergeo\"}],\"scattergl\":[{\"marker\":{\"colorbar\":{\"outlinewidth\":0,\"ticks\":\"\"}},\"type\":\"scattergl\"}],\"scattermapbox\":[{\"marker\":{\"colorbar\":{\"outlinewidth\":0,\"ticks\":\"\"}},\"type\":\"scattermapbox\"}],\"scatterpolar\":[{\"marker\":{\"colorbar\":{\"outlinewidth\":0,\"ticks\":\"\"}},\"type\":\"scatterpolar\"}],\"scatterpolargl\":[{\"marker\":{\"colorbar\":{\"outlinewidth\":0,\"ticks\":\"\"}},\"type\":\"scatterpolargl\"}],\"scatterternary\":[{\"marker\":{\"colorbar\":{\"outlinewidth\":0,\"ticks\":\"\"}},\"type\":\"scatterternary\"}],\"surface\":[{\"colorbar\":{\"outlinewidth\":0,\"ticks\":\"\"},\"colorscale\":[[0.0,\"#0d0887\"],[0.1111111111111111,\"#46039f\"],[0.2222222222222222,\"#7201a8\"],[0.3333333333333333,\"#9c179e\"],[0.4444444444444444,\"#bd3786\"],[0.5555555555555556,\"#d8576b\"],[0.6666666666666666,\"#ed7953\"],[0.7777777777777778,\"#fb9f3a\"],[0.8888888888888888,\"#fdca26\"],[1.0,\"#f0f921\"]],\"type\":\"surface\"}],\"table\":[{\"cells\":{\"fill\":{\"color\":\"#EBF0F8\"},\"line\":{\"color\":\"white\"}},\"header\":{\"fill\":{\"color\":\"#C8D4E3\"},\"line\":{\"color\":\"white\"}},\"type\":\"table\"}]},\"layout\":{\"annotationdefaults\":{\"arrowcolor\":\"#2a3f5f\",\"arrowhead\":0,\"arrowwidth\":1},\"autotypenumbers\":\"strict\",\"coloraxis\":{\"colorbar\":{\"outlinewidth\":0,\"ticks\":\"\"}},\"colorscale\":{\"diverging\":[[0,\"#8e0152\"],[0.1,\"#c51b7d\"],[0.2,\"#de77ae\"],[0.3,\"#f1b6da\"],[0.4,\"#fde0ef\"],[0.5,\"#f7f7f7\"],[0.6,\"#e6f5d0\"],[0.7,\"#b8e186\"],[0.8,\"#7fbc41\"],[0.9,\"#4d9221\"],[1,\"#276419\"]],\"sequential\":[[0.0,\"#0d0887\"],[0.1111111111111111,\"#46039f\"],[0.2222222222222222,\"#7201a8\"],[0.3333333333333333,\"#9c179e\"],[0.4444444444444444,\"#bd3786\"],[0.5555555555555556,\"#d8576b\"],[0.6666666666666666,\"#ed7953\"],[0.7777777777777778,\"#fb9f3a\"],[0.8888888888888888,\"#fdca26\"],[1.0,\"#f0f921\"]],\"sequentialminus\":[[0.0,\"#0d0887\"],[0.1111111111111111,\"#46039f\"],[0.2222222222222222,\"#7201a8\"],[0.3333333333333333,\"#9c179e\"],[0.4444444444444444,\"#bd3786\"],[0.5555555555555556,\"#d8576b\"],[0.6666666666666666,\"#ed7953\"],[0.7777777777777778,\"#fb9f3a\"],[0.8888888888888888,\"#fdca26\"],[1.0,\"#f0f921\"]]},\"colorway\":[\"#636efa\",\"#EF553B\",\"#00cc96\",\"#ab63fa\",\"#FFA15A\",\"#19d3f3\",\"#FF6692\",\"#B6E880\",\"#FF97FF\",\"#FECB52\"],\"font\":{\"color\":\"#2a3f5f\"},\"geo\":{\"bgcolor\":\"white\",\"lakecolor\":\"white\",\"landcolor\":\"#E5ECF6\",\"showlakes\":true,\"showland\":true,\"subunitcolor\":\"white\"},\"hoverlabel\":{\"align\":\"left\"},\"hovermode\":\"closest\",\"mapbox\":{\"style\":\"light\"},\"paper_bgcolor\":\"white\",\"plot_bgcolor\":\"#E5ECF6\",\"polar\":{\"angularaxis\":{\"gridcolor\":\"white\",\"linecolor\":\"white\",\"ticks\":\"\"},\"bgcolor\":\"#E5ECF6\",\"radialaxis\":{\"gridcolor\":\"white\",\"linecolor\":\"white\",\"ticks\":\"\"}},\"scene\":{\"xaxis\":{\"backgroundcolor\":\"#E5ECF6\",\"gridcolor\":\"white\",\"gridwidth\":2,\"linecolor\":\"white\",\"showbackground\":true,\"ticks\":\"\",\"zerolinecolor\":\"white\"},\"yaxis\":{\"backgroundcolor\":\"#E5ECF6\",\"gridcolor\":\"white\",\"gridwidth\":2,\"linecolor\":\"white\",\"showbackground\":true,\"ticks\":\"\",\"zerolinecolor\":\"white\"},\"zaxis\":{\"backgroundcolor\":\"#E5ECF6\",\"gridcolor\":\"white\",\"gridwidth\":2,\"linecolor\":\"white\",\"showbackground\":true,\"ticks\":\"\",\"zerolinecolor\":\"white\"}},\"shapedefaults\":{\"line\":{\"color\":\"#2a3f5f\"}},\"ternary\":{\"aaxis\":{\"gridcolor\":\"white\",\"linecolor\":\"white\",\"ticks\":\"\"},\"baxis\":{\"gridcolor\":\"white\",\"linecolor\":\"white\",\"ticks\":\"\"},\"bgcolor\":\"#E5ECF6\",\"caxis\":{\"gridcolor\":\"white\",\"linecolor\":\"white\",\"ticks\":\"\"}},\"title\":{\"x\":0.05},\"xaxis\":{\"automargin\":true,\"gridcolor\":\"white\",\"linecolor\":\"white\",\"ticks\":\"\",\"title\":{\"standoff\":15},\"zerolinecolor\":\"white\",\"zerolinewidth\":2},\"yaxis\":{\"automargin\":true,\"gridcolor\":\"white\",\"linecolor\":\"white\",\"ticks\":\"\",\"title\":{\"standoff\":15},\"zerolinecolor\":\"white\",\"zerolinewidth\":2}}},\"title\":{\"font\":{\"size\":40}},\"width\":1500,\"xaxis\":{\"anchor\":\"y\",\"domain\":[0.0,0.2888888888888889],\"tickfont\":{\"size\":15},\"title\":{\"font\":{\"size\":20}}},\"xaxis10\":{\"anchor\":\"y10\",\"domain\":[0.0,0.2888888888888889],\"tickfont\":{\"size\":15},\"title\":{\"font\":{\"size\":20}}},\"xaxis11\":{\"anchor\":\"y11\",\"domain\":[0.35555555555555557,0.6444444444444445],\"tickfont\":{\"size\":15},\"title\":{\"font\":{\"size\":20}}},\"xaxis12\":{\"anchor\":\"y12\",\"domain\":[0.7111111111111111,1.0],\"tickfont\":{\"size\":15},\"title\":{\"font\":{\"size\":20}}},\"xaxis13\":{\"anchor\":\"y13\",\"domain\":[0.35555555555555557,0.6444444444444445],\"tickfont\":{\"size\":15},\"title\":{\"font\":{\"size\":20}}},\"xaxis2\":{\"anchor\":\"y2\",\"domain\":[0.35555555555555557,0.6444444444444445],\"tickfont\":{\"size\":15},\"title\":{\"font\":{\"size\":20}}},\"xaxis3\":{\"anchor\":\"y3\",\"domain\":[0.7111111111111111,1.0],\"tickfont\":{\"size\":15},\"title\":{\"font\":{\"size\":20}}},\"xaxis4\":{\"anchor\":\"y4\",\"domain\":[0.0,0.2888888888888889],\"tickfont\":{\"size\":15},\"title\":{\"font\":{\"size\":20}}},\"xaxis5\":{\"anchor\":\"y5\",\"domain\":[0.35555555555555557,0.6444444444444445],\"tickfont\":{\"size\":15},\"title\":{\"font\":{\"size\":20}}},\"xaxis6\":{\"anchor\":\"y6\",\"domain\":[0.7111111111111111,1.0],\"tickfont\":{\"size\":15},\"title\":{\"font\":{\"size\":20}}},\"xaxis7\":{\"anchor\":\"y7\",\"domain\":[0.0,0.2888888888888889],\"tickfont\":{\"size\":15},\"title\":{\"font\":{\"size\":20}}},\"xaxis8\":{\"anchor\":\"y8\",\"domain\":[0.35555555555555557,0.6444444444444445],\"tickfont\":{\"size\":15},\"title\":{\"font\":{\"size\":20}}},\"xaxis9\":{\"anchor\":\"y9\",\"domain\":[0.7111111111111111,1.0],\"tickfont\":{\"size\":15},\"title\":{\"font\":{\"size\":20}}},\"yaxis\":{\"anchor\":\"x\",\"domain\":[0.88,1.0],\"tickfont\":{\"size\":15},\"title\":{\"font\":{\"size\":30},\"text\":\"SNR\"}},\"yaxis10\":{\"anchor\":\"x10\",\"domain\":[0.22,0.33999999999999997],\"tickfont\":{\"size\":15},\"title\":{\"font\":{\"size\":30},\"text\":\"SNR\"}},\"yaxis11\":{\"anchor\":\"x11\",\"domain\":[0.22,0.33999999999999997]},\"yaxis12\":{\"anchor\":\"x12\",\"domain\":[0.22,0.33999999999999997]},\"yaxis13\":{\"anchor\":\"x13\",\"domain\":[0.0,0.12],\"tickfont\":{\"size\":15},\"title\":{\"font\":{\"size\":30},\"text\":\"SNR\"}},\"yaxis2\":{\"anchor\":\"x2\",\"domain\":[0.88,1.0]},\"yaxis3\":{\"anchor\":\"x3\",\"domain\":[0.88,1.0]},\"yaxis4\":{\"anchor\":\"x4\",\"domain\":[0.66,0.78],\"tickfont\":{\"size\":15},\"title\":{\"font\":{\"size\":30},\"text\":\"SNR\"}},\"yaxis5\":{\"anchor\":\"x5\",\"domain\":[0.66,0.78]},\"yaxis6\":{\"anchor\":\"x6\",\"domain\":[0.66,0.78]},\"yaxis7\":{\"anchor\":\"x7\",\"domain\":[0.44,0.56],\"tickfont\":{\"size\":15},\"title\":{\"font\":{\"size\":30},\"text\":\"SNR\"}},\"yaxis8\":{\"anchor\":\"x8\",\"domain\":[0.44,0.56]},\"yaxis9\":{\"anchor\":\"x9\",\"domain\":[0.44,0.56]}},                        {\"responsive\": true}                    ).then(function(){\n",
       "                            \n",
       "var gd = document.getElementById('0f4c2f35-4952-41ab-87b7-d1035485ee03');\n",
       "var x = new MutationObserver(function (mutations, observer) {{\n",
       "        var display = window.getComputedStyle(gd).display;\n",
       "        if (!display || display === 'none') {{\n",
       "            console.log([gd, 'removed!']);\n",
       "            Plotly.purge(gd);\n",
       "            observer.disconnect();\n",
       "        }}\n",
       "}});\n",
       "\n",
       "// Listen for the removal of the full notebook cells\n",
       "var notebookContainer = gd.closest('#notebook-container');\n",
       "if (notebookContainer) {{\n",
       "    x.observe(notebookContainer, {childList: true});\n",
       "}}\n",
       "\n",
       "// Listen for the clearing of the current output cell\n",
       "var outputEl = gd.closest('.output');\n",
       "if (outputEl) {{\n",
       "    x.observe(outputEl, {childList: true});\n",
       "}}\n",
       "\n",
       "                        })                };                });            </script>        </div>"
      ]
     },
     "metadata": {},
     "output_type": "display_data"
    }
   ],
   "source": [
    "allsnr = []\n",
    "    \n",
    "def signaltonoise_dB(a, axis=0, ddof=0):\n",
    "    a = np.asanyarray(a)\n",
    "    m = a.mean(axis)\n",
    "    sd = a.std(axis=axis, ddof=ddof)\n",
    "    return 20*np.log10(abs(np.where(sd == 0, 0, m/sd)))\n",
    "\n",
    "count = 0\n",
    "for conc in [0,3,5,7,8,10,11,13,15,18,20,23,25]:\n",
    "    subject = all_data[0][all_data[0].columns[:-3]][all_data[0].concentr == conc]\n",
    "    \n",
    "    snrvalues = []\n",
    "    count = count + len(subject)\n",
    "    for row in range(len(subject)):\n",
    "        \n",
    "        snr = signaltonoise_dB(subject.iloc[:row])\n",
    "        snrvalues.append(np.mean(snr))\n",
    "    allsnr.append(snrvalues)\n",
    "#     plt.plot(snrvalues)\n",
    "#     plt.title()\n",
    "#     plt.show()\n",
    "\n",
    "\n",
    "from plotly.subplots import make_subplots\n",
    "import plotly.graph_objects as go\n",
    "\n",
    "fig = make_subplots(rows=5, cols=3,specs=[[{}, {}, {}],\n",
    "                               [{}, {}, {}],\n",
    "                               [{}, {}, {}],\n",
    "                               [{}, {}, {}],\n",
    "                               [None, {}, None]],\n",
    "                    \n",
    " subplot_titles=['GHSA: '+ str(conc) + '%' for conc in [0,3,5,7,8,10,11,13,15,18,20,23,25]])\n",
    "\n",
    "for rows in range(4):\n",
    "    for cols in range(3):\n",
    "        fig.add_trace(\n",
    "            go.Scatter(y=allsnr[rows+cols], showlegend = False, mode = 'lines'),\n",
    "            row=rows+1, col=cols+1\n",
    "        )\n",
    "        fig.update_xaxes( row=rows+1, col=cols+1, title_font = {\"size\": 20}, tickfont=dict(size=15))\n",
    "        if cols==0:\n",
    "            fig.update_yaxes(title_text=\"SNR\", row=rows+1, col=cols+1, title_font = {\"size\": 30}, tickfont=dict(size=15))\n",
    "fig.add_trace(\n",
    "            go.Scatter(y=allsnr[12], showlegend = False, mode = 'lines'),\n",
    "            row=5, col=2\n",
    "        )        \n",
    "fig.update_xaxes(row=5, col=2, title_font = {\"size\": 20}, tickfont=dict(size=15))\n",
    "fig.update_yaxes(title_text=\"SNR\", row=5, col = 2, title_font = {\"size\": 30}, tickfont=dict(size=15))\n",
    "fig.update_annotations(font_size=40)\n",
    "fig.update_layout(height=1000, width=1500, title_font = {\"size\": 40})\n",
    "\n",
    "fig.show()\n",
    "\n",
    "pio.write_image(fig, \"snr.svg\", width=1.5*1000, height=0.75*1200 ,scale=1)\n"
   ]
  },
  {
   "cell_type": "code",
   "execution_count": 16,
   "id": "7f4f5f5a",
   "metadata": {},
   "outputs": [
    {
     "data": {
      "image/png": "[encoded data removed]",
      "text/plain": [
       "<Figure size 432x288 with 1 Axes>"
      ]
     },
     "metadata": {
      "needs_background": "light"
     },
     "output_type": "display_data"
    },
    {
     "name": "stdout",
     "output_type": "stream",
     "text": [
      "l1_alpha: 0.0003039195382313198 ,   l2_alpha:  0.2395026619987486\n",
      "train r^2:  0.9217202588212154\n",
      "test r^2 :  0.9379601177456683 ,     test RMSE:  1.8232931506208732\n"
     ]
    },
    {
     "data": {
      "image/png": "[encoded data removed]",
      "text/plain": [
       "<Figure size 432x288 with 1 Axes>"
      ]
     },
     "metadata": {
      "needs_background": "light"
     },
     "output_type": "display_data"
    },
    {
     "name": "stdout",
     "output_type": "stream",
     "text": [
      "l1_alpha: 0.0007880462815669912 ,   l2_alpha:  0.09236708571873865\n",
      "train r^2:  0.9400694288274931\n",
      "test r^2 :  0.9393730791677934 ,     test RMSE:  1.8024107701393646\n"
     ]
    }
   ],
   "source": [
    "X_train, X_test,y_train,y_test=train_test_split(all_data[5][all_data[5].columns[:-3]],  all_data[5].concentr,\n",
    "                                      test_size = 0.2, stratify = all_data[5].concentr, random_state = 42 )\n",
    "min_error_test = 2\n",
    "\n",
    "X_train, y_train = add_noise(X_train, y_train)\n",
    "  \n",
    "for alpha in np.logspace(-6,6,30):        #цикл по параметру для l1 отбора признаков\n",
    "                model_lasso = SelectFromModel(Lasso(alpha = alpha).fit(X_train, y_train), prefit=True)\n",
    "                X_train_1 = model_lasso.transform(X_train)\n",
    "                if X_train_1.shape[1]==0:\n",
    "                    continue\n",
    "                X_test_1 = model_lasso.transform(X_test)\n",
    "                clf = RidgeCV(alphas=np.logspace(-6,6,30), cv = 5).fit(X_train_1, y_train)\n",
    "                clf.score(X_train_1, y_train)\n",
    "                y_pred = clf.predict(X_test_1)\n",
    "                error_test = mean_squared_error(y_test, y_pred, squared = False)\n",
    "                if error_test<min_error_test:\n",
    "                    min_error_test = error_test\n",
    "                if clf.best_score_>0.9 and error_test <= min_error_test:\n",
    "#                     plt.scatter(y_test, y_pred)\n",
    "#                     plt.show()\n",
    "                    print('l1_alpha:',alpha, ',   l2_alpha: ', clf.alpha_)\n",
    "                    print(\"train r^2: \" ,clf.best_score_)\n",
    "                    print ('test r^2 : ',r2_score(y_test, y_pred),',     test RMSE: ', error_test )\n",
    "\n",
    "                    "
   ]
  },
  {
   "cell_type": "code",
   "execution_count": null,
   "id": "86d6f155",
   "metadata": {},
   "outputs": [],
   "source": []
  },
  {
   "cell_type": "code",
   "execution_count": 17,
   "id": "1fa775ec",
   "metadata": {},
   "outputs": [
    {
     "data": {
      "image/png": "[encoded data removed]",
      "text/plain": [
       "<Figure size 432x288 with 1 Axes>"
      ]
     },
     "metadata": {
      "needs_background": "light"
     },
     "output_type": "display_data"
    },
    {
     "name": "stdout",
     "output_type": "stream",
     "text": [
      "mse 1.072392655630686 3.716489318206087\n",
      "r2 0.9306429116706094\n"
     ]
    }
   ],
   "source": [
    "\n",
    "\n",
    "X_train, X_test,y_train,y_test=train_test_split(all_data[5][all_data[5].columns[:-3]],  all_data[5].concentr,\n",
    "                                  test_size = 0.2, stratify = all_data[5].concentr, random_state = 42 )\n",
    "\n",
    "\n",
    "\n",
    "X_train = snv(np.array(X_train))\n",
    "X_test = snv(np.array(X_test))\n",
    "noise = np.random.normal(0,0.1*np.mean(np.std(X_train)), X_train.shape)\n",
    "new_signal = X_train + noise\n",
    "X_train =pd.DataFrame(X_train)\n",
    "new_signal =pd.DataFrame(new_signal)\n",
    "X_train = pd.concat((X_train,new_signal))\n",
    "y_train = np.concatenate((y_train,y_train))\n",
    "\n",
    "\n",
    "model_lasso = SelectFromModel(Lasso(alpha = 0.0008).fit(X_train, y_train), prefit=True)\n",
    "clf = Ridge(alpha=0.092, random_state = 31).fit(model_lasso.transform(X_train), y_train)\n",
    "y_pred = clf.predict(model_lasso.transform(X_test))\n",
    "plt.scatter(y_test, y_pred)\n",
    "plt.scatter(val_set.concentr, clf.predict(model_lasso.transform(snv(np.array(val_set)[:,:-3]))))\n",
    "plt.show()\n",
    "\n",
    "print ('mse', mean_squared_error(val_set.concentr, clf.predict(model_lasso.transform(snv(np.array(val_set)[:,:-3])))),mean_squared_error(y_test, y_pred))\n",
    "print ('r2', r2_score(y_test, y_pred))"
   ]
  },
  {
   "cell_type": "code",
   "execution_count": 22,
   "id": "0b4e826e",
   "metadata": {},
   "outputs": [
    {
     "data": {
      "application/vnd.plotly.v1+json": {
       "config": {
        "plotlyServerURL": "https://plot.ly"
       },
       "data": [
        {
         "mode": "lines",
         "type": "scatter",
         "x": [
          399.801,
          401.769,
          403.737,
          405.704,
          407.67,
          409.635,
          411.6,
          413.564,
          415.527,
          417.489,
          419.451,
          421.412,
          423.373,
          425.333,
          427.292,
          429.25,
          431.208,
          433.165,
          435.121,
          437.076,
          439.031,
          440.985,
          442.939,
          444.891,
          446.844,
          448.795,
          450.746,
          452.695,
          454.645,
          456.593,
          458.541,
          460.488,
          462.435,
          464.381,
          466.326,
          468.27,
          470.214,
          472.157,
          474.099,
          476.041,
          477.982,
          479.922,
          481.861,
          483.8,
          485.739,
          487.676,
          489.613,
          491.549,
          493.484,
          495.419,
          497.353,
          499.286,
          501.219,
          503.151,
          505.082,
          507.013,
          508.943,
          510.872,
          512.8,
          514.728,
          516.655,
          518.582,
          520.508,
          522.433,
          524.357,
          526.281,
          528.204,
          530.126,
          532.048,
          533.969,
          535.889,
          537.809,
          539.728,
          541.646,
          543.564,
          545.481,
          547.397,
          549.312,
          551.227,
          553.141,
          555.055,
          556.968,
          558.88,
          560.791,
          562.702,
          564.612,
          566.522,
          568.43,
          570.339,
          572.246,
          574.153,
          576.059,
          577.964,
          579.869,
          581.773,
          583.676,
          585.579,
          587.481,
          589.382,
          591.283,
          593.183,
          595.082,
          596.981,
          598.879,
          600.776,
          602.672,
          604.568,
          606.464,
          608.358,
          610.252,
          612.145,
          614.038,
          615.93,
          617.821,
          619.712,
          621.602,
          623.491,
          625.38,
          627.267,
          629.155,
          631.041,
          632.927,
          634.812,
          636.697,
          638.581,
          640.464,
          642.347,
          644.229,
          646.11,
          647.99,
          649.87,
          651.75,
          653.628,
          655.506,
          657.383,
          659.26,
          661.136,
          663.011,
          664.886,
          666.76,
          668.633,
          670.506,
          672.378,
          674.249,
          676.12,
          677.99,
          679.859,
          681.728,
          683.596,
          685.463,
          687.33,
          689.196,
          691.061,
          692.926,
          694.79,
          696.653,
          698.516,
          700.378,
          702.24,
          704.1,
          705.961,
          707.82,
          709.679,
          711.537,
          713.395,
          715.251,
          717.108,
          718.963,
          720.818,
          722.672,
          724.526,
          726.379,
          728.231,
          730.083,
          731.934,
          733.784,
          735.634,
          737.483,
          739.331,
          741.179,
          743.026,
          744.873,
          746.718,
          748.563,
          750.408,
          752.252,
          754.095,
          755.938,
          757.779,
          759.621,
          761.461,
          763.301,
          765.141,
          766.979,
          768.817,
          770.655,
          772.492,
          774.328,
          776.163,
          777.998,
          779.832,
          781.666,
          783.498,
          785.331,
          787.162,
          788.993,
          790.824,
          792.653,
          794.482,
          796.311,
          798.138,
          799.966,
          801.792,
          803.618,
          805.443,
          807.268,
          809.092,
          810.915,
          812.737,
          814.559,
          816.381,
          818.202,
          820.022,
          821.841,
          823.66,
          825.478,
          827.296,
          829.113,
          830.929,
          832.745,
          834.56,
          836.374,
          838.188,
          840.001,
          841.813,
          843.625,
          845.436,
          847.247,
          849.057,
          850.866,
          852.675,
          854.483,
          856.29,
          858.097,
          859.903,
          861.709,
          863.514,
          865.318,
          867.121,
          868.924,
          870.727,
          872.529,
          874.33,
          876.13,
          877.93,
          879.729,
          881.528,
          883.326,
          885.123,
          886.92,
          888.716,
          890.512,
          892.306,
          894.101,
          895.894,
          897.687,
          899.48,
          901.271,
          903.062,
          904.853,
          906.643,
          908.432,
          910.221,
          912.009,
          913.796,
          915.583,
          917.369,
          919.154,
          920.939,
          922.723,
          924.507,
          926.29,
          928.072,
          929.854,
          931.635,
          933.416,
          935.196,
          936.975,
          938.754,
          940.532,
          942.309,
          944.086,
          945.862,
          947.638,
          949.413,
          951.187,
          952.961,
          954.734,
          956.507,
          958.279,
          960.05,
          961.821,
          963.591,
          965.36,
          967.129,
          968.897,
          970.665,
          972.432,
          974.198,
          975.964,
          977.729,
          979.494,
          981.258,
          983.021,
          984.784,
          986.546,
          988.307,
          990.068,
          991.828,
          993.588,
          995.347,
          997.105,
          998.863,
          1000.62,
          1002.38,
          1004.13,
          1005.89,
          1007.64,
          1009.4,
          1011.15,
          1012.9,
          1014.66,
          1016.41,
          1018.16,
          1019.91,
          1021.66,
          1023.41,
          1025.16,
          1026.91,
          1028.65,
          1030.4,
          1032.15,
          1033.89,
          1035.64,
          1037.38,
          1039.13,
          1040.87,
          1042.61,
          1044.35,
          1046.1,
          1047.84,
          1049.58,
          1051.32,
          1053.06,
          1054.79,
          1056.53,
          1058.27,
          1060.01,
          1061.74,
          1063.48,
          1065.21,
          1066.95,
          1068.68,
          1070.41,
          1072.15,
          1073.88,
          1075.61,
          1077.34,
          1079.07,
          1080.8,
          1082.53,
          1084.26,
          1085.98,
          1087.71,
          1089.44,
          1091.16,
          1092.89,
          1094.61,
          1096.34,
          1098.06,
          1099.78,
          1101.51,
          1103.23,
          1104.95,
          1106.67,
          1108.39,
          1110.11,
          1111.83,
          1113.55,
          1115.26,
          1116.98,
          1118.7,
          1120.41,
          1122.13,
          1123.84,
          1125.56,
          1127.27,
          1128.98,
          1130.7,
          1132.41,
          1134.12,
          1135.83,
          1137.54,
          1139.25,
          1140.96,
          1142.67,
          1144.37,
          1146.08,
          1147.79,
          1149.49,
          1151.2,
          1152.9,
          1154.61,
          1156.31,
          1158.01,
          1159.72,
          1161.42,
          1163.12,
          1164.82,
          1166.52,
          1168.22,
          1169.92,
          1171.62,
          1173.31,
          1175.01,
          1176.71,
          1178.4,
          1180.1,
          1181.79,
          1183.49,
          1185.18,
          1186.88,
          1188.57,
          1190.26,
          1191.95,
          1193.64,
          1195.33,
          1197.02,
          1198.71,
          1200.4,
          1202.09,
          1203.77,
          1205.46,
          1207.15,
          1208.83,
          1210.52,
          1212.2,
          1213.89,
          1215.57,
          1217.25,
          1218.93,
          1220.61,
          1222.3,
          1223.98,
          1225.66,
          1227.33,
          1229.01,
          1230.69,
          1232.37,
          1234.05,
          1235.72,
          1237.4,
          1239.07,
          1240.75,
          1242.42,
          1244.1,
          1245.77,
          1247.44,
          1249.11,
          1250.78,
          1252.45,
          1254.12,
          1255.79,
          1257.46,
          1259.13,
          1260.8,
          1262.47,
          1264.13,
          1265.8,
          1267.46,
          1269.13,
          1270.79,
          1272.46,
          1274.12,
          1275.78,
          1277.45,
          1279.11,
          1280.77,
          1282.43,
          1284.09,
          1285.75,
          1287.41,
          1289.06,
          1290.72,
          1292.38,
          1294.03,
          1295.69,
          1297.35,
          1299,
          1300.66,
          1302.31,
          1303.96,
          1305.61,
          1307.27,
          1308.92,
          1310.57,
          1312.22,
          1313.87,
          1315.52,
          1317.17,
          1318.81,
          1320.46,
          1322.11,
          1323.75,
          1325.4,
          1327.05,
          1328.69,
          1330.33,
          1331.98,
          1333.62,
          1335.26,
          1336.9,
          1338.55,
          1340.19,
          1341.83,
          1343.47,
          1345.11,
          1346.74,
          1348.38,
          1350.02,
          1351.66,
          1353.29,
          1354.93,
          1356.56,
          1358.2,
          1359.83,
          1361.47,
          1363.1,
          1364.73,
          1366.36,
          1367.99,
          1369.63,
          1371.26,
          1372.89,
          1374.51,
          1376.14,
          1377.77,
          1379.4,
          1381.02,
          1382.65,
          1384.28,
          1385.9,
          1387.53,
          1389.15,
          1390.77,
          1392.4,
          1394.02,
          1395.64,
          1397.26,
          1398.88,
          1400.5,
          1402.12,
          1403.74,
          1405.36,
          1406.98,
          1408.6,
          1410.21,
          1411.83,
          1413.45,
          1415.06,
          1416.68,
          1418.29,
          1419.91,
          1421.52,
          1423.13,
          1424.74,
          1426.35,
          1427.97,
          1429.58,
          1431.19,
          1432.8,
          1434.4,
          1436.01,
          1437.62,
          1439.23,
          1440.83,
          1442.44,
          1444.05,
          1445.65,
          1447.26,
          1448.86,
          1450.46,
          1452.07,
          1453.67,
          1455.27,
          1456.87,
          1458.47,
          1460.07,
          1461.67,
          1463.27,
          1464.87,
          1466.47,
          1468.06,
          1469.66,
          1471.26,
          1472.85,
          1474.45,
          1476.04,
          1477.64,
          1479.23,
          1480.82,
          1482.42,
          1484.01,
          1485.6,
          1487.19,
          1488.78,
          1490.37,
          1491.96,
          1493.55,
          1495.14,
          1496.73,
          1498.31,
          1499.9,
          1501.49,
          1503.07,
          1504.66,
          1506.24,
          1507.83,
          1509.41,
          1510.99,
          1512.57,
          1514.16,
          1515.74,
          1517.32,
          1518.9,
          1520.48,
          1522.06,
          1523.64,
          1525.22,
          1526.79,
          1528.37,
          1529.95,
          1531.52,
          1533.1,
          1534.67,
          1536.25,
          1537.82,
          1539.4,
          1540.97,
          1542.54,
          1544.11,
          1545.68,
          1547.25,
          1548.82,
          1550.39,
          1551.96,
          1553.53,
          1555.1,
          1556.67,
          1558.24,
          1559.8,
          1561.37,
          1562.93,
          1564.5,
          1566.06,
          1567.63,
          1569.19,
          1570.75,
          1572.32,
          1573.88,
          1575.44,
          1577,
          1578.56,
          1580.12,
          1581.68,
          1583.24,
          1584.8,
          1586.35,
          1587.91,
          1589.47,
          1591.02,
          1592.58,
          1594.13,
          1595.69,
          1597.24,
          1598.8,
          1600.35,
          1601.9,
          1603.45,
          1605.01,
          1606.56,
          1608.11,
          1609.66,
          1611.21,
          1612.76,
          1614.3,
          1615.85,
          1617.4,
          1618.95,
          1620.49,
          1622.04,
          1623.58,
          1625.13,
          1626.67,
          1628.22,
          1629.76,
          1631.3,
          1632.84,
          1634.39,
          1635.93,
          1637.47,
          1639.01,
          1640.55,
          1642.09,
          1643.62,
          1645.16,
          1646.7,
          1648.24,
          1649.77,
          1651.31,
          1652.84,
          1654.38,
          1655.91,
          1657.45,
          1658.98,
          1660.51,
          1662.05,
          1663.58,
          1665.11,
          1666.64,
          1668.17,
          1669.7,
          1671.23,
          1672.76,
          1674.29,
          1675.82,
          1677.34,
          1678.87,
          1680.4,
          1681.92,
          1683.45,
          1684.97,
          1686.5,
          1688.02,
          1689.54,
          1691.07,
          1692.59,
          1694.11,
          1695.63,
          1697.15,
          1698.67,
          1700.19,
          1701.71,
          1703.23,
          1704.75,
          1706.26,
          1707.78,
          1709.3,
          1710.81,
          1712.33,
          1713.85,
          1715.36,
          1716.87,
          1718.39,
          1719.9,
          1721.41,
          1722.93,
          1724.44,
          1725.95,
          1727.46,
          1728.97,
          1730.48,
          1731.99,
          1733.5,
          1735,
          1736.51,
          1738.02,
          1739.53,
          1741.03,
          1742.54,
          1744.04,
          1745.55,
          1747.05,
          1748.56,
          1750.06,
          1751.56,
          1753.06,
          1754.57,
          1756.07,
          1757.57,
          1759.07,
          1760.57,
          1762.07,
          1763.56,
          1765.06,
          1766.56,
          1768.06,
          1769.55,
          1771.05,
          1772.55,
          1774.04,
          1775.54,
          1777.03,
          1778.52
         ],
         "y": [
          -3.581268676745017,
          -1.0302064249497818,
          0.20289719041632326,
          0.48208520152478407,
          0.1714006405470836,
          -0.0762723766771212,
          -0.43089867572638796,
          -0.6407372869109498,
          -0.7057882102308065,
          -0.6260514456859585,
          -0.23599579875999288,
          -0.4772563213295969,
          -0.47465162513621995,
          -0.20440354409291003,
          -0.3990831297605866,
          -0.2445398747140487,
          -0.2674340304939126,
          -0.18568199742122735,
          0.0007162245040071291,
          -0.22848026176979092,
          0.10759180956795142,
          -0.4159627985024713,
          -0.7542505127389081,
          -0.8717432625901786,
          -0.7921854621174129,
          -1.1337232589605142,
          -1.0194263991754338,
          -1.0167517792532759,
          -0.639307773630237,
          -0.8737227466111397,
          -1.040267275569492,
          -0.9203189672200138,
          -0.5138778215627051,
          -0.7708136986322295,
          -0.23807833196532663,
          -0.09394932062754849,
          0.15933594304001494,
          0.6225622129851114,
          0.2616241165401686,
          0.583752779414183,
          0.7010389530529876,
          0.613482637456582,
          0.51318519691184,
          0.5938296844744868,
          0.9158459057596242,
          1.1142917046328904,
          0.8778656423940724,
          1.1800740697391459,
          1.029747890338537,
          0.649415337518197,
          0.03907641127812579,
          -0.042440414219512446,
          -0.07061709324170194,
          0.058431149982102706,
          0.22904991663627416,
          0.5678409231667901,
          1.0051176206714625,
          1.2067016985371855,
          1.1725931567639594,
          0.9027919953517843,
          0.39580276036388923,
          -0.16777883130311189,
          0.006483279965362831,
          0.4077676356556682,
          1.7007983863466305,
          2.136778623450395,
          2.1914693578738063,
          1.8648705896168665,
          1.1569823186795736,
          0.07250454314892257,
          -0.22409123979809392,
          -0.38815039166827403,
          0.11190171182538444,
          0.16818062103633233,
          -0.11212041402422158,
          -0.3123354390674744,
          -0.43246445409342604,
          -0.47250745910207664,
          -0.25784604334944716,
          -0.3477958820320061,
          -0.4903796355062313,
          -0.15443161978673325,
          -0.883253529444671,
          -1.3417094080968126,
          -1.3782435535248987,
          -0.6066093732664282,
          0.022022295702044448,
          0.73810215068157,
          1.1328534066404854,
          1.7930274058750202,
          1.369717687526422,
          0.8776582800516619,
          0.5156126240570963,
          0.3079283893512524,
          0.16100635007848227,
          0.35949713169507574,
          0.42014936531915126,
          0.23571552835074688,
          -0.04296225938128578,
          -0.28918953245804097,
          -0.5029662908795187,
          -0.6842925346457189,
          -0.19254004417658466,
          -0.307321403130057,
          -0.006761813551507623,
          -0.20204223073702846,
          -0.17520941281652957,
          -0.006563658533705663,
          -0.11962378103176557,
          -0.15137365475938747,
          -0.10181327971657139,
          -0.4084865286789638,
          -0.2970131936328996,
          -0.21450952873487195,
          0.32234851448406,
          -0.1507294925131297,
          -0.7416535936745977,
          -1.0269049758571351,
          -1.1219887699179811,
          -1.0269049758571351,
          -0.7416535936745977,
          -0.18132167724666604,
          0.19046358696263574,
          -0.05617565981006899,
          0.06445761360607435,
          0.15301147215551314,
          -0.049092162740312056,
          -0.02321583070110733,
          0.9927344309657824,
          1.64895754459788,
          1.6785842509492637,
          1.516891756945201,
          1.8210415712589905,
          1.6286561954708134,
          0.6679046889109457,
          0.7481744619486104,
          1.503265728078246,
          1.3000252155984953,
          0.5264361164022681,
          0.3308320859867261,
          0.8435843496893317,
          0.8394094540090855,
          0.2677524830948087,
          0.9299252826836377,
          0.5909525208075658,
          -0.12746492958749578,
          -0.8071231683108419,
          -0.5501807757564323,
          -0.5049714074214284,
          -0.3583131572611501,
          -0.3463916292151825,
          0.21387326102053097,
          0.03221287804329152,
          0,
          0,
          0,
          0,
          0,
          0,
          0.06623853772604806,
          -0.044159025150698715,
          -0.12301442720551785,
          0.019787804433771122,
          -0.31284239743082687,
          -0.523399260915316,
          -0.6118827860196963,
          -0.30021162771179577,
          -0.342131882994553,
          -1.046765377073656,
          -1.3355973242111339,
          -1.2748662621330353,
          -1.4620779627233556,
          -1.2001423587840994,
          -0.27198161404677446,
          -0.17063786202718306,
          -0.49033064409860644,
          -1.047068509218875,
          -1.1440192971095116,
          -1.047068509218875,
          -0.9059020563222447,
          -0.17167159891026273,
          0.6851814291519069,
          0.38490662770786166,
          0.42054613027340443,
          0.38490662770786166,
          0.27798812001123346,
          0.0997906071835197,
          -0.5935120347666178,
          0.29588408266089233,
          0.8242485159839144,
          1.1412671759777275,
          1.246940062642332,
          0.8484585991091284,
          1.1313982147707495,
          1.3579695097982054,
          -0.2940706750722356,
          -0.5663541508779537,
          -1.0862433722538571,
          -1.2159276524179938,
          -1.666683721602611,
          -1.9884700175963779,
          -0.6757422557143715,
          0.3443680978767457,
          -0.2687154788754127,
          0.208451148480032,
          0.12401308983903048,
          1.2930638617332428,
          1.45384430101591,
          1.433607157047618,
          1.918763343315045,
          1.82170585096847,
          1.3020588865670595,
          0.8182130209166577,
          0.10651929095166879,
          0.5530162298627566,
          0.3194742539083471,
          0.14488122041908616,
          0.2788868943852571,
          0.663719801423925,
          0.1915537250293091,
          -1.2519830608878135,
          -1.98261228593186,
          -2.3980060032077333,
          -2.3897081982322783,
          -1.9577188710054947,
          -1.1020380215273828,
          0.17733435020205757,
          0.4274507079154391,
          0,
          0.16597248593360767,
          -0.11064832395573848,
          0.1895045714305555,
          -1.1070920863035676,
          -1.3996043388943002,
          -1.1891735361140015,
          -0.16886012368443837,
          0.7483532981212198,
          1.4634738157299183,
          1.817847632641993,
          2.651768251587807,
          0.27802195399313256,
          -0.7999590340747772,
          -1.6183753031085641,
          -1.3793210913928162,
          -1.1701849251598337,
          -0.8094092202303023,
          -0.16786506601324336,
          1.0587763291127061,
          0.6914393657069021,
          0.6152012837035834,
          0.41014141889379085,
          0.4333168582622231,
          0.3379845391451937,
          0.12132778328289005,
          -0.18199167492433502,
          -0.7591451540297454,
          0.1367674478331044,
          1.5172966403405377,
          2.84339000377278,
          3.259766371937114,
          3.140361065763788,
          2.4687857770845696,
          1.2450405058994582,
          -0.27469131303960803,
          -0.6438641706819626,
          -0.46874426543914316,
          -0.6832977468855691,
          -1.0176772279801933,
          -1.2688323383223437,
          -1.348525265323499,
          -0.908683720944214,
          -0.243185842055534,
          -0.15717956644926226,
          0.2886743666317053,
          0.17389058261693674,
          0.2734880112946756,
          0.06233778660900942,
          -0.09350667991351409,
          0.47694390745737997,
          -0.05727106978665386,
          -1.154023044003457,
          -1.814328777338928,
          -1.7237173741178542,
          -1.4062413273924907,
          -0.8619006371628379,
          0.043251670952516585,
          0.9750480219601909,
          0.515964592011753,
          -0.7766183857772866,
          -1.3850496256477247,
          -1.39237912921006,
          -1.3155257554706998,
          -1.1449993982595879,
          -0.3954468986802189,
          0.463786909896481,
          0.8263039747046761,
          0.5142057314031603,
          -0.4064945576677327,
          0.14790602103267214,
          0.4716393097759627,
          0.46354305132330065,
          0.9207859980380004,
          1.4848819849634685,
          1.0810131164508348,
          1.4397040107488637,
          0.33462259884096923,
          0.6808188224255323,
          0.3833354202931436,
          -0.015083193733520295,
          0.08744479635954394,
          -0.5074641054734385,
          -0.9259984041356164,
          -0.5252601020997514,
          -1.0383158617048966,
          -0.736274866002081,
          -1.1092381456877953,
          -0.9565398019156421,
          -0.7355933113802187,
          -1.3609714390374712,
          -1.6344843472720487,
          -1.7500125218978648,
          -1.1298010813468322,
          -0.32079093062046654,
          -0.25327902377297523,
          0.7123443025687806,
          1.1188506534100884,
          1.043994524044244,
          0.5211542172895454,
          0.3673757379761091,
          0.9125588293969162,
          1.010014484804464,
          1.0112290406878768,
          1.2186758078348583,
          0.6548518630482989,
          0.8804116341648799,
          0.6774943380778157,
          0.658765046207361,
          1.0052791866848303,
          1.3178236613916492,
          0.38258199955879674,
          -0.5299748725988871,
          -1.419846955081402,
          -1.1214631787232252,
          -1.039476212357597,
          -0.7507328200360422,
          -0.04594999493797289,
          0.471875433918606,
          -0.5595954484272762,
          -0.9772028444622388,
          -1.1851875034364587,
          -1.183549425349936,
          -0.97228861020267,
          -0.5514050579946612,
          0.0791012312740903,
          0.47254414718311816,
          -0.3111568122636914,
          -0.5780031138403172,
          -0.2659123489151384,
          0.3276586670303183,
          0.02883784297724834,
          -0.04687354494706608,
          -0.2359296103970825,
          -0.2252657935454594,
          -1.3851637462324615,
          -1.6360019099948755,
          -1.2959151109594726,
          -0.5736069088144891,
          -0.4172711215306222,
          -0.01202885238835566,
          0.5576198527491725,
          0.9936267649262331,
          0.7765758580540936,
          0.18752758138237988,
          0.2401123566726192,
          1.3348850949132747,
          2.002920871695123,
          1.706266015451748,
          2.5518408075861134,
          2.638627344359703,
          2.1203868522585307,
          0.9971193312825953,
          0.8492909772769581,
          1.0576112087792304,
          0.0885303541050258,
          -1.730047891011103,
          -1.7361389179472497,
          -2.094206520607923,
          -2.964893362596861,
          -3.0244867783327596,
          -2.568681245136612,
          -1.8247161527630684,
          -1.3611258712494576,
          -1.171513052277858,
          -0.26771074113457527,
          0.14275165356591224,
          -0.038200006178261525,
          -0.10716123131068189,
          -0.3113678085938166,
          -0.3551252607066715,
          -0.3187406217576907,
          -0.32834611780735035,
          -0.17347072213163345,
          0.32934284967336713,
          -0.24999726283573712,
          -1.1683652051677857,
          -1.6592948253694568,
          -1.2654471420214137,
          -0.43549005871137697,
          0.3918836241510323,
          0.9310458080911488,
          2.0291996499861167,
          1.5860879670545498,
          1.071455538955854,
          0.5899289375814158,
          0.5948881803629625,
          0.5359555510273344,
          0.06513378796165221,
          -0.12239299262283297,
          0.15012129962821744,
          0.12570541137788557,
          0.08998744110083717,
          0.40742979065343515,
          -0.25832968010431845,
          -0.6048978301406922,
          -1.225017178876022,
          -0.7653368908061107,
          -1.6458889774775995,
          -1.9678186454025568,
          -1.8235041864366486,
          -1.2129456005798749,
          -1.2815961508093772,
          -0.693093696985157,
          -0.10860674004014026,
          0.3266880414489066,
          -0.3649908185233808,
          -0.5053719025708349,
          -0.5020664340431316,
          -0.5387713447109602,
          -0.4580321216280157,
          -0.5243337628626206,
          -0.03239679401545073,
          0.18309082911661972,
          1.3153429604703177,
          1.7416047554990353,
          2.593467647594989,
          2.743541609475688,
          2.375523572911822,
          1.2431899701585825,
          0.8969021832004936,
          0.3640305446170875,
          0.8552254352269735,
          0.517054521468508,
          1.1507121995573202,
          1.2611787184848362,
          0.9947179885796211,
          0.6799503235643589,
          0.4904447676684046,
          -0.7022890600887,
          -1.0714127289731312,
          -1.145418128506701,
          -0.7491923770481759,
          -0.6617167675478062,
          0.21976314129219116,
          0.9089526767946459,
          1.4823780123248809,
          0.9139099404216003,
          1.349193919823399,
          1.6976857596347135,
          1.5152875208557377,
          0.9452878345970681,
          0.725671745864153,
          0.5337553087172834,
          0.5540795565480373,
          -0.020026065466144383,
          0.5164994588329652,
          1.5262574621351308,
          2.028138779552144,
          2.0838134864992037,
          1.6932815829763106,
          1.5332613172386782,
          0.8142480663218906,
          -0.5862948232480344,
          -0.060116675883227,
          1.0147854015092252,
          1.294072052580286,
          1.3677560065447885,
          1.0097167569555168,
          0.9771144061345275,
          0.7277539098905254,
          0.03345474320355124,
          0.24562536836874888,
          -0.00624522309049258,
          -0.7495873233671527,
          -0.03508475287667645,
          -0.1685261731963394,
          0.1024746267160288,
          0.2734520572062614,
          0.21524929328320763,
          -0.19413245892162445,
          -0.46229680520449334,
          -0.4877881962956711,
          0.1074878138043574,
          -0.21438213567867714,
          -0.8841737986434304,
          -1.544993946040727,
          -1.9434612588180675,
          -0.6385425095204367,
          0.5815998343410294,
          1.71696577276633,
          1.9350986736808757,
          1.8786180643138417,
          1.3346355959168275,
          0.6232017747439368,
          -0.27739558362835853,
          0.5343019079537605,
          0.2056695708134299,
          -0.8352189460913065,
          -0.2634092128003327,
          0.10483939887807234,
          0.7897610127102725,
          0.7940153858778043,
          1.437829907214799,
          2.069067575679455,
          1.5917354657720835,
          0.6686683272167648,
          1.1409275926633635,
          0.6141177054203786,
          0.43571974650742434,
          -0.05390660276797571,
          0.5397057152938445,
          0.7272258297510413,
          0.7785342959270929,
          0.1006258426562914,
          -0.9520281760874532,
          -1.7928615618490107,
          -1.7622339959359046,
          -1.629725850156024,
          -1.1854515685617628,
          -0.42941115115312134,
          0.20610368965501474,
          0.5374583968849634,
          -0.23388246491767536,
          -0.6515297236992386,
          -0.9021180789681763,
          -0.9856475307244891,
          -0.9021180789681763,
          -0.6515297236992386,
          -0.23388246491767536,
          0.3508236973765129,
          0,
          0,
          0.24705727222574891,
          -0.16470484815049932,
          -0.45882064841924813,
          -0.6352901285804974,
          -0.6941132886342471,
          -0.6352901285804974,
          -0.45882064841924813,
          -0.16470484815049932,
          0.24705727222574891,
          0,
          0,
          0.33065294741153123,
          -0.22043529827435424,
          -0.6140697594785582,
          -0.8502504362010805,
          -0.9289773284419214,
          -0.8502504362010805,
          -0.14708266673486803,
          -0.13814854934794063,
          -0.7982523916377982,
          -1.821629887586375,
          -1.9730222637739212,
          -2.798460976510918,
          -2.6495320272138603,
          -2.6572518857596545,
          -1.8521778636823811,
          -1.639877517239765,
          -1.5461439285320209,
          -1.3706381085799872,
          -0.987736157789092,
          -0.47308861850577927,
          0.5714591467916297,
          0.6832245341891705,
          0.7000797697538679,
          0.7056271286635222,
          0.5046758104231048,
          -0.3857698516760689,
          -0.7711660525271589,
          -0.4053339653879368,
          0.18307047326596954,
          0.3087772085614958,
          0.0902980332066522,
          0.14697419071720152,
          0.1040207090748479,
          -0.5853006611681904,
          -1.0752737443738432,
          -1.7092911146447085,
          -1.107572074247991,
          0.026863037481018037,
          0.8462223015848993,
          1.6083415472580085,
          1.8437646761277162,
          1.2220629054036918,
          0.872826298371535,
          -0.4043721315929983,
          -0.9694444662937237,
          -0.9871017695995268,
          -1.1877355703160895,
          -0.40376718604590867,
          0.3181101394129064,
          0.9778964060603558,
          1.5755916138964392,
          0.9664671624863461,
          0.8733047693448672,
          0.504873996419116,
          0.39105793450324633,
          0.7577441758895375,
          0.6935285677633054,
          0.5008817433846096,
          0.1798037027534496,
          -0.2697055541301743,
          0,
          0,
          -0.7136563178263795,
          -0.02309350139275157,
          1.6579379864019148,
          2.761578665734652,
          3.2878285366054607,
          3.2366875990143393,
          2.608155852961289,
          1.4022332984463097,
          -0.38108006453059845,
          -0.4988643799436714,
          0,
          0,
          -0.14681464703148342,
          0.00955449178393264,
          0.33153706610539574,
          0.5415498372831097,
          0.6395928053170747,
          1.0668074189300578,
          0.2056750328052453,
          -0.5573597999286652,
          -1.2222970792716736,
          -1.327719343124832,
          -1.1343637252871166,
          -0.8192626904851399,
          0.02969668331649028,
          0.22528079374609938,
          -0.6013261102921469,
          -0.8326053834814341,
          -0.9096984745445299,
          -0.8326053834814341,
          -0.40417545815383515,
          -0.347294423068876,
          -0.18623516933206458,
          -0.22494845422988352,
          -0.41073274530394893,
          -0.48254292191908527,
          -0.4403789840752927,
          -0.13901964899150404,
          -0.11094295353163197,
          -0.5193554871041599,
          -0.6413715252019445,
          -0.009983430162635976,
          -0.5147161602811295,
          -0.6632902521489131,
          -0.6417899203887701,
          -0.4502151650007009,
          -0.5449757318680587,
          -0.6822477759483151,
          0.05114612332253694,
          0.5632752590926355,
          0.8654081816257098,
          1.1540542014288606,
          1.2172783116645096,
          1.055080512332657,
          0.6674608034333025,
          0.05441918496644621,
          0.12315454551357999,
          -0.1847318182703699,
          0.1728348491485737,
          0.1146537502502971,
          -0.14007640020566617,
          -1.0941161511800257,
          -1.6972674452347505,
          -1.9495302823698402,
          -1.8509046625852956,
          -1.4013905858811162,
          -0.6009880522573019,
          0.007107698104915433,
          0.3341539273666462,
          0.05553208931709265,
          -0.037021392878061776,
          -0.1031310230174578,
          -0.1427968011010954,
          -0.15601872712897463,
          -0.1427968011010954,
          -0.1031310230174578,
          -0.037021392878061776,
          0.05553208931709265,
          0,
          0,
          0,
          0,
          0,
          0,
          0,
          0,
          0,
          0,
          0,
          0.04221633009985893,
          -0.31435220936798314,
          -0.00757100027211402,
          0.5029558926375743,
          0.840165533273516,
          1.0040579216357108,
          0.9946330577241591,
          0.8118909415388608,
          0.45583157307981553,
          -0.32496413775710553,
          -0.22976438085143094,
          0.5408038787260809,
          0.5266871228101169,
          0.45858635634538397,
          0.3365015793318823,
          0.16043279176961184,
          0.037695896098231485,
          -0.4252007499610079,
          -0.517798267154807,
          -0.08163313040199172,
          -0.3015065830447556,
          -0.2759551777019797,
          -0.199300961673652,
          -0.07154393495977251,
          0.10731590243965873,
          0,
          0.1724916727522781,
          0.32373323481064104,
          -0.6128268001766233,
          -1.440848369473025,
          -1.7209159571650685,
          -1.4152489924687335,
          -0.39818773377604016,
          0.6034565457779473,
          1.589683846193229,
          2.018377481676931,
          1.1431484857206178,
          0.400173357716598,
          -0.07564642112349393,
          -0.4310137910684895,
          0.13317043913822205,
          0.37097479474219,
          0.5136574081045707,
          0.5612182792253644,
          0.5136574081045707,
          0.37097479474219,
          -0.17406900646551574,
          -0.23296692691774035,
          0.7292792520218905,
          1.2321140527859487,
          1.4752931340817668,
          1.4588164959093448,
          1.1826841382686828,
          0.6468960611597813,
          -0.14854773541736044,
          -0.23803756527956596,
          0,
          0,
          0,
          0,
          0,
          0,
          0,
          0,
          0,
          0,
          0,
          0,
          0,
          0,
          0,
          0,
          0,
          0,
          0,
          -0.09266120939064161,
          0.061774139593761095,
          0.17208510315404876,
          0.23827168129022133,
          0.2603338740022789,
          0.23827168129022133,
          0.17208510315404876,
          0.061774139593761095,
          -0.09266120939064161,
          0,
          0,
          0,
          0,
          0,
          0,
          0
         ]
        }
       ],
       "layout": {
        "font": {
         "size": 20
        },
        "template": {
         "data": {
          "bar": [
           {
            "error_x": {
             "color": "#2a3f5f"
            },
            "error_y": {
             "color": "#2a3f5f"
            },
            "marker": {
             "line": {
              "color": "#E5ECF6",
              "width": 0.5
             },
             "pattern": {
              "fillmode": "overlay",
              "size": 10,
              "solidity": 0.2
             }
            },
            "type": "bar"
           }
          ],
          "barpolar": [
           {
            "marker": {
             "line": {
              "color": "#E5ECF6",
              "width": 0.5
             },
             "pattern": {
              "fillmode": "overlay",
              "size": 10,
              "solidity": 0.2
             }
            },
            "type": "barpolar"
           }
          ],
          "carpet": [
           {
            "aaxis": {
             "endlinecolor": "#2a3f5f",
             "gridcolor": "white",
             "linecolor": "white",
             "minorgridcolor": "white",
             "startlinecolor": "#2a3f5f"
            },
            "baxis": {
             "endlinecolor": "#2a3f5f",
             "gridcolor": "white",
             "linecolor": "white",
             "minorgridcolor": "white",
             "startlinecolor": "#2a3f5f"
            },
            "type": "carpet"
           }
          ],
          "choropleth": [
           {
            "colorbar": {
             "outlinewidth": 0,
             "ticks": ""
            },
            "type": "choropleth"
           }
          ],
          "contour": [
           {
            "colorbar": {
             "outlinewidth": 0,
             "ticks": ""
            },
            "colorscale": [
             [
              0,
              "#0d0887"
             ],
             [
              0.1111111111111111,
              "#46039f"
             ],
             [
              0.2222222222222222,
              "#7201a8"
             ],
             [
              0.3333333333333333,
              "#9c179e"
             ],
             [
              0.4444444444444444,
              "#bd3786"
             ],
             [
              0.5555555555555556,
              "#d8576b"
             ],
             [
              0.6666666666666666,
              "#ed7953"
             ],
             [
              0.7777777777777778,
              "#fb9f3a"
             ],
             [
              0.8888888888888888,
              "#fdca26"
             ],
             [
              1,
              "#f0f921"
             ]
            ],
            "type": "contour"
           }
          ],
          "contourcarpet": [
           {
            "colorbar": {
             "outlinewidth": 0,
             "ticks": ""
            },
            "type": "contourcarpet"
           }
          ],
          "heatmap": [
           {
            "colorbar": {
             "outlinewidth": 0,
             "ticks": ""
            },
            "colorscale": [
             [
              0,
              "#0d0887"
             ],
             [
              0.1111111111111111,
              "#46039f"
             ],
             [
              0.2222222222222222,
              "#7201a8"
             ],
             [
              0.3333333333333333,
              "#9c179e"
             ],
             [
              0.4444444444444444,
              "#bd3786"
             ],
             [
              0.5555555555555556,
              "#d8576b"
             ],
             [
              0.6666666666666666,
              "#ed7953"
             ],
             [
              0.7777777777777778,
              "#fb9f3a"
             ],
             [
              0.8888888888888888,
              "#fdca26"
             ],
             [
              1,
              "#f0f921"
             ]
            ],
            "type": "heatmap"
           }
          ],
          "heatmapgl": [
           {
            "colorbar": {
             "outlinewidth": 0,
             "ticks": ""
            },
            "colorscale": [
             [
              0,
              "#0d0887"
             ],
             [
              0.1111111111111111,
              "#46039f"
             ],
             [
              0.2222222222222222,
              "#7201a8"
             ],
             [
              0.3333333333333333,
              "#9c179e"
             ],
             [
              0.4444444444444444,
              "#bd3786"
             ],
             [
              0.5555555555555556,
              "#d8576b"
             ],
             [
              0.6666666666666666,
              "#ed7953"
             ],
             [
              0.7777777777777778,
              "#fb9f3a"
             ],
             [
              0.8888888888888888,
              "#fdca26"
             ],
             [
              1,
              "#f0f921"
             ]
            ],
            "type": "heatmapgl"
           }
          ],
          "histogram": [
           {
            "marker": {
             "pattern": {
              "fillmode": "overlay",
              "size": 10,
              "solidity": 0.2
             }
            },
            "type": "histogram"
           }
          ],
          "histogram2d": [
           {
            "colorbar": {
             "outlinewidth": 0,
             "ticks": ""
            },
            "colorscale": [
             [
              0,
              "#0d0887"
             ],
             [
              0.1111111111111111,
              "#46039f"
             ],
             [
              0.2222222222222222,
              "#7201a8"
             ],
             [
              0.3333333333333333,
              "#9c179e"
             ],
             [
              0.4444444444444444,
              "#bd3786"
             ],
             [
              0.5555555555555556,
              "#d8576b"
             ],
             [
              0.6666666666666666,
              "#ed7953"
             ],
             [
              0.7777777777777778,
              "#fb9f3a"
             ],
             [
              0.8888888888888888,
              "#fdca26"
             ],
             [
              1,
              "#f0f921"
             ]
            ],
            "type": "histogram2d"
           }
          ],
          "histogram2dcontour": [
           {
            "colorbar": {
             "outlinewidth": 0,
             "ticks": ""
            },
            "colorscale": [
             [
              0,
              "#0d0887"
             ],
             [
              0.1111111111111111,
              "#46039f"
             ],
             [
              0.2222222222222222,
              "#7201a8"
             ],
             [
              0.3333333333333333,
              "#9c179e"
             ],
             [
              0.4444444444444444,
              "#bd3786"
             ],
             [
              0.5555555555555556,
              "#d8576b"
             ],
             [
              0.6666666666666666,
              "#ed7953"
             ],
             [
              0.7777777777777778,
              "#fb9f3a"
             ],
             [
              0.8888888888888888,
              "#fdca26"
             ],
             [
              1,
              "#f0f921"
             ]
            ],
            "type": "histogram2dcontour"
           }
          ],
          "mesh3d": [
           {
            "colorbar": {
             "outlinewidth": 0,
             "ticks": ""
            },
            "type": "mesh3d"
           }
          ],
          "parcoords": [
           {
            "line": {
             "colorbar": {
              "outlinewidth": 0,
              "ticks": ""
             }
            },
            "type": "parcoords"
           }
          ],
          "pie": [
           {
            "automargin": true,
            "type": "pie"
           }
          ],
          "scatter": [
           {
            "marker": {
             "colorbar": {
              "outlinewidth": 0,
              "ticks": ""
             }
            },
            "type": "scatter"
           }
          ],
          "scatter3d": [
           {
            "line": {
             "colorbar": {
              "outlinewidth": 0,
              "ticks": ""
             }
            },
            "marker": {
             "colorbar": {
              "outlinewidth": 0,
              "ticks": ""
             }
            },
            "type": "scatter3d"
           }
          ],
          "scattercarpet": [
           {
            "marker": {
             "colorbar": {
              "outlinewidth": 0,
              "ticks": ""
             }
            },
            "type": "scattercarpet"
           }
          ],
          "scattergeo": [
           {
            "marker": {
             "colorbar": {
              "outlinewidth": 0,
              "ticks": ""
             }
            },
            "type": "scattergeo"
           }
          ],
          "scattergl": [
           {
            "marker": {
             "colorbar": {
              "outlinewidth": 0,
              "ticks": ""
             }
            },
            "type": "scattergl"
           }
          ],
          "scattermapbox": [
           {
            "marker": {
             "colorbar": {
              "outlinewidth": 0,
              "ticks": ""
             }
            },
            "type": "scattermapbox"
           }
          ],
          "scatterpolar": [
           {
            "marker": {
             "colorbar": {
              "outlinewidth": 0,
              "ticks": ""
             }
            },
            "type": "scatterpolar"
           }
          ],
          "scatterpolargl": [
           {
            "marker": {
             "colorbar": {
              "outlinewidth": 0,
              "ticks": ""
             }
            },
            "type": "scatterpolargl"
           }
          ],
          "scatterternary": [
           {
            "marker": {
             "colorbar": {
              "outlinewidth": 0,
              "ticks": ""
             }
            },
            "type": "scatterternary"
           }
          ],
          "surface": [
           {
            "colorbar": {
             "outlinewidth": 0,
             "ticks": ""
            },
            "colorscale": [
             [
              0,
              "#0d0887"
             ],
             [
              0.1111111111111111,
              "#46039f"
             ],
             [
              0.2222222222222222,
              "#7201a8"
             ],
             [
              0.3333333333333333,
              "#9c179e"
             ],
             [
              0.4444444444444444,
              "#bd3786"
             ],
             [
              0.5555555555555556,
              "#d8576b"
             ],
             [
              0.6666666666666666,
              "#ed7953"
             ],
             [
              0.7777777777777778,
              "#fb9f3a"
             ],
             [
              0.8888888888888888,
              "#fdca26"
             ],
             [
              1,
              "#f0f921"
             ]
            ],
            "type": "surface"
           }
          ],
          "table": [
           {
            "cells": {
             "fill": {
              "color": "#EBF0F8"
             },
             "line": {
              "color": "white"
             }
            },
            "header": {
             "fill": {
              "color": "#C8D4E3"
             },
             "line": {
              "color": "white"
             }
            },
            "type": "table"
           }
          ]
         },
         "layout": {
          "annotationdefaults": {
           "arrowcolor": "#2a3f5f",
           "arrowhead": 0,
           "arrowwidth": 1
          },
          "autotypenumbers": "strict",
          "coloraxis": {
           "colorbar": {
            "outlinewidth": 0,
            "ticks": ""
           }
          },
          "colorscale": {
           "diverging": [
            [
             0,
             "#8e0152"
            ],
            [
             0.1,
             "#c51b7d"
            ],
            [
             0.2,
             "#de77ae"
            ],
            [
             0.3,
             "#f1b6da"
            ],
            [
             0.4,
             "#fde0ef"
            ],
            [
             0.5,
             "#f7f7f7"
            ],
            [
             0.6,
             "#e6f5d0"
            ],
            [
             0.7,
             "#b8e186"
            ],
            [
             0.8,
             "#7fbc41"
            ],
            [
             0.9,
             "#4d9221"
            ],
            [
             1,
             "#276419"
            ]
           ],
           "sequential": [
            [
             0,
             "#0d0887"
            ],
            [
             0.1111111111111111,
             "#46039f"
            ],
            [
             0.2222222222222222,
             "#7201a8"
            ],
            [
             0.3333333333333333,
             "#9c179e"
            ],
            [
             0.4444444444444444,
             "#bd3786"
            ],
            [
             0.5555555555555556,
             "#d8576b"
            ],
            [
             0.6666666666666666,
             "#ed7953"
            ],
            [
             0.7777777777777778,
             "#fb9f3a"
            ],
            [
             0.8888888888888888,
             "#fdca26"
            ],
            [
             1,
             "#f0f921"
            ]
           ],
           "sequentialminus": [
            [
             0,
             "#0d0887"
            ],
            [
             0.1111111111111111,
             "#46039f"
            ],
            [
             0.2222222222222222,
             "#7201a8"
            ],
            [
             0.3333333333333333,
             "#9c179e"
            ],
            [
             0.4444444444444444,
             "#bd3786"
            ],
            [
             0.5555555555555556,
             "#d8576b"
            ],
            [
             0.6666666666666666,
             "#ed7953"
            ],
            [
             0.7777777777777778,
             "#fb9f3a"
            ],
            [
             0.8888888888888888,
             "#fdca26"
            ],
            [
             1,
             "#f0f921"
            ]
           ]
          },
          "colorway": [
           "#636efa",
           "#EF553B",
           "#00cc96",
           "#ab63fa",
           "#FFA15A",
           "#19d3f3",
           "#FF6692",
           "#B6E880",
           "#FF97FF",
           "#FECB52"
          ],
          "font": {
           "color": "#2a3f5f"
          },
          "geo": {
           "bgcolor": "white",
           "lakecolor": "white",
           "landcolor": "#E5ECF6",
           "showlakes": true,
           "showland": true,
           "subunitcolor": "white"
          },
          "hoverlabel": {
           "align": "left"
          },
          "hovermode": "closest",
          "mapbox": {
           "style": "light"
          },
          "paper_bgcolor": "white",
          "plot_bgcolor": "#E5ECF6",
          "polar": {
           "angularaxis": {
            "gridcolor": "white",
            "linecolor": "white",
            "ticks": ""
           },
           "bgcolor": "#E5ECF6",
           "radialaxis": {
            "gridcolor": "white",
            "linecolor": "white",
            "ticks": ""
           }
          },
          "scene": {
           "xaxis": {
            "backgroundcolor": "#E5ECF6",
            "gridcolor": "white",
            "gridwidth": 2,
            "linecolor": "white",
            "showbackground": true,
            "ticks": "",
            "zerolinecolor": "white"
           },
           "yaxis": {
            "backgroundcolor": "#E5ECF6",
            "gridcolor": "white",
            "gridwidth": 2,
            "linecolor": "white",
            "showbackground": true,
            "ticks": "",
            "zerolinecolor": "white"
           },
           "zaxis": {
            "backgroundcolor": "#E5ECF6",
            "gridcolor": "white",
            "gridwidth": 2,
            "linecolor": "white",
            "showbackground": true,
            "ticks": "",
            "zerolinecolor": "white"
           }
          },
          "shapedefaults": {
           "line": {
            "color": "#2a3f5f"
           }
          },
          "ternary": {
           "aaxis": {
            "gridcolor": "white",
            "linecolor": "white",
            "ticks": ""
           },
           "baxis": {
            "gridcolor": "white",
            "linecolor": "white",
            "ticks": ""
           },
           "bgcolor": "#E5ECF6",
           "caxis": {
            "gridcolor": "white",
            "linecolor": "white",
            "ticks": ""
           }
          },
          "title": {
           "x": 0.05
          },
          "xaxis": {
           "automargin": true,
           "gridcolor": "white",
           "linecolor": "white",
           "ticks": "",
           "title": {
            "standoff": 15
           },
           "zerolinecolor": "white",
           "zerolinewidth": 2
          },
          "yaxis": {
           "automargin": true,
           "gridcolor": "white",
           "linecolor": "white",
           "ticks": "",
           "title": {
            "standoff": 15
           },
           "zerolinecolor": "white",
           "zerolinewidth": 2
          }
         }
        },
        "title": {
         "text": "Loadings from model"
        },
        "xaxis": {
         "title": {
          "text": "$$ {Raman shift} \\;\\; (cm^{-1})  $$"
         }
        },
        "yaxis": {
         "title": {
          "text": "Loadings"
         }
        }
       }
      },
      "text/html": [
       "<div>                            <div id=\"c269603d-65e6-4e2d-b267-9f27bd263f41\" class=\"plotly-graph-div\" style=\"height:525px; width:100%;\"></div>            <script type=\"text/javascript\">                require([\"plotly\"], function(Plotly) {                    window.PLOTLYENV=window.PLOTLYENV || {};                                    if (document.getElementById(\"c269603d-65e6-4e2d-b267-9f27bd263f41\")) {                    Plotly.newPlot(                        \"c269603d-65e6-4e2d-b267-9f27bd263f41\",                        [{\"mode\":\"lines\",\"type\":\"scatter\",\"x\":[399.801,401.769,403.737,405.704,407.67,409.635,411.6,413.564,415.527,417.489,419.451,421.412,423.373,425.333,427.292,429.25,431.208,433.165,435.121,437.076,439.031,440.985,442.939,444.891,446.844,448.795,450.746,452.695,454.645,456.593,458.541,460.488,462.435,464.381,466.326,468.27,470.214,472.157,474.099,476.041,477.982,479.922,481.861,483.8,485.739,487.676,489.613,491.549,493.484,495.419,497.353,499.286,501.219,503.151,505.082,507.013,508.943,510.872,512.8,514.728,516.655,518.582,520.508,522.433,524.357,526.281,528.204,530.126,532.048,533.969,535.889,537.809,539.728,541.646,543.564,545.481,547.397,549.312,551.227,553.141,555.055,556.968,558.88,560.791,562.702,564.612,566.522,568.43,570.339,572.246,574.153,576.059,577.964,579.869,581.773,583.676,585.579,587.481,589.382,591.283,593.183,595.082,596.981,598.879,600.776,602.672,604.568,606.464,608.358,610.252,612.145,614.038,615.93,617.821,619.712,621.602,623.491,625.38,627.267,629.155,631.041,632.927,634.812,636.697,638.581,640.464,642.347,644.229,646.11,647.99,649.87,651.75,653.628,655.506,657.383,659.26,661.136,663.011,664.886,666.76,668.633,670.506,672.378,674.249,676.12,677.99,679.859,681.728,683.596,685.463,687.33,689.196,691.061,692.926,694.79,696.653,698.516,700.378,702.24,704.1,705.961,707.82,709.679,711.537,713.395,715.251,717.108,718.963,720.818,722.672,724.526,726.379,728.231,730.083,731.934,733.784,735.634,737.483,739.331,741.179,743.026,744.873,746.718,748.563,750.408,752.252,754.095,755.938,757.779,759.621,761.461,763.301,765.141,766.979,768.817,770.655,772.492,774.328,776.163,777.998,779.832,781.666,783.498,785.331,787.162,788.993,790.824,792.653,794.482,796.311,798.138,799.966,801.792,803.618,805.443,807.268,809.092,810.915,812.737,814.559,816.381,818.202,820.022,821.841,823.66,825.478,827.296,829.113,830.929,832.745,834.56,836.374,838.188,840.001,841.813,843.625,845.436,847.247,849.057,850.866,852.675,854.483,856.29,858.097,859.903,861.709,863.514,865.318,867.121,868.924,870.727,872.529,874.33,876.13,877.93,879.729,881.528,883.326,885.123,886.92,888.716,890.512,892.306,894.101,895.894,897.687,899.48,901.271,903.062,904.853,906.643,908.432,910.221,912.009,913.796,915.583,917.369,919.154,920.939,922.723,924.507,926.29,928.072,929.854,931.635,933.416,935.196,936.975,938.754,940.532,942.309,944.086,945.862,947.638,949.413,951.187,952.961,954.734,956.507,958.279,960.05,961.821,963.591,965.36,967.129,968.897,970.665,972.432,974.198,975.964,977.729,979.494,981.258,983.021,984.784,986.546,988.307,990.068,991.828,993.588,995.347,997.105,998.863,1000.62,1002.38,1004.13,1005.89,1007.64,1009.4,1011.15,1012.9,1014.66,1016.41,1018.16,1019.91,1021.66,1023.41,1025.16,1026.91,1028.65,1030.4,1032.15,1033.89,1035.64,1037.38,1039.13,1040.87,1042.61,1044.35,1046.1,1047.84,1049.58,1051.32,1053.06,1054.79,1056.53,1058.27,1060.01,1061.74,1063.48,1065.21,1066.95,1068.68,1070.41,1072.15,1073.88,1075.61,1077.34,1079.07,1080.8,1082.53,1084.26,1085.98,1087.71,1089.44,1091.16,1092.89,1094.61,1096.34,1098.06,1099.78,1101.51,1103.23,1104.95,1106.67,1108.39,1110.11,1111.83,1113.55,1115.26,1116.98,1118.7,1120.41,1122.13,1123.84,1125.56,1127.27,1128.98,1130.7,1132.41,1134.12,1135.83,1137.54,1139.25,1140.96,1142.67,1144.37,1146.08,1147.79,1149.49,1151.2,1152.9,1154.61,1156.31,1158.01,1159.72,1161.42,1163.12,1164.82,1166.52,1168.22,1169.92,1171.62,1173.31,1175.01,1176.71,1178.4,1180.1,1181.79,1183.49,1185.18,1186.88,1188.57,1190.26,1191.95,1193.64,1195.33,1197.02,1198.71,1200.4,1202.09,1203.77,1205.46,1207.15,1208.83,1210.52,1212.2,1213.89,1215.57,1217.25,1218.93,1220.61,1222.3,1223.98,1225.66,1227.33,1229.01,1230.69,1232.37,1234.05,1235.72,1237.4,1239.07,1240.75,1242.42,1244.1,1245.77,1247.44,1249.11,1250.78,1252.45,1254.12,1255.79,1257.46,1259.13,1260.8,1262.47,1264.13,1265.8,1267.46,1269.13,1270.79,1272.46,1274.12,1275.78,1277.45,1279.11,1280.77,1282.43,1284.09,1285.75,1287.41,1289.06,1290.72,1292.38,1294.03,1295.69,1297.35,1299.0,1300.66,1302.31,1303.96,1305.61,1307.27,1308.92,1310.57,1312.22,1313.87,1315.52,1317.17,1318.81,1320.46,1322.11,1323.75,1325.4,1327.05,1328.69,1330.33,1331.98,1333.62,1335.26,1336.9,1338.55,1340.19,1341.83,1343.47,1345.11,1346.74,1348.38,1350.02,1351.66,1353.29,1354.93,1356.56,1358.2,1359.83,1361.47,1363.1,1364.73,1366.36,1367.99,1369.63,1371.26,1372.89,1374.51,1376.14,1377.77,1379.4,1381.02,1382.65,1384.28,1385.9,1387.53,1389.15,1390.77,1392.4,1394.02,1395.64,1397.26,1398.88,1400.5,1402.12,1403.74,1405.36,1406.98,1408.6,1410.21,1411.83,1413.45,1415.06,1416.68,1418.29,1419.91,1421.52,1423.13,1424.74,1426.35,1427.97,1429.58,1431.19,1432.8,1434.4,1436.01,1437.62,1439.23,1440.83,1442.44,1444.05,1445.65,1447.26,1448.86,1450.46,1452.07,1453.67,1455.27,1456.87,1458.47,1460.07,1461.67,1463.27,1464.87,1466.47,1468.06,1469.66,1471.26,1472.85,1474.45,1476.04,1477.64,1479.23,1480.82,1482.42,1484.01,1485.6,1487.19,1488.78,1490.37,1491.96,1493.55,1495.14,1496.73,1498.31,1499.9,1501.49,1503.07,1504.66,1506.24,1507.83,1509.41,1510.99,1512.57,1514.16,1515.74,1517.32,1518.9,1520.48,1522.06,1523.64,1525.22,1526.79,1528.37,1529.95,1531.52,1533.1,1534.67,1536.25,1537.82,1539.4,1540.97,1542.54,1544.11,1545.68,1547.25,1548.82,1550.39,1551.96,1553.53,1555.1,1556.67,1558.24,1559.8,1561.37,1562.93,1564.5,1566.06,1567.63,1569.19,1570.75,1572.32,1573.88,1575.44,1577.0,1578.56,1580.12,1581.68,1583.24,1584.8,1586.35,1587.91,1589.47,1591.02,1592.58,1594.13,1595.69,1597.24,1598.8,1600.35,1601.9,1603.45,1605.01,1606.56,1608.11,1609.66,1611.21,1612.76,1614.3,1615.85,1617.4,1618.95,1620.49,1622.04,1623.58,1625.13,1626.67,1628.22,1629.76,1631.3,1632.84,1634.39,1635.93,1637.47,1639.01,1640.55,1642.09,1643.62,1645.16,1646.7,1648.24,1649.77,1651.31,1652.84,1654.38,1655.91,1657.45,1658.98,1660.51,1662.05,1663.58,1665.11,1666.64,1668.17,1669.7,1671.23,1672.76,1674.29,1675.82,1677.34,1678.87,1680.4,1681.92,1683.45,1684.97,1686.5,1688.02,1689.54,1691.07,1692.59,1694.11,1695.63,1697.15,1698.67,1700.19,1701.71,1703.23,1704.75,1706.26,1707.78,1709.3,1710.81,1712.33,1713.85,1715.36,1716.87,1718.39,1719.9,1721.41,1722.93,1724.44,1725.95,1727.46,1728.97,1730.48,1731.99,1733.5,1735.0,1736.51,1738.02,1739.53,1741.03,1742.54,1744.04,1745.55,1747.05,1748.56,1750.06,1751.56,1753.06,1754.57,1756.07,1757.57,1759.07,1760.57,1762.07,1763.56,1765.06,1766.56,1768.06,1769.55,1771.05,1772.55,1774.04,1775.54,1777.03,1778.52],\"y\":[-3.581268676745017,-1.0302064249497818,0.20289719041632326,0.48208520152478407,0.1714006405470836,-0.0762723766771212,-0.43089867572638796,-0.6407372869109498,-0.7057882102308065,-0.6260514456859585,-0.23599579875999288,-0.4772563213295969,-0.47465162513621995,-0.20440354409291003,-0.3990831297605866,-0.2445398747140487,-0.2674340304939126,-0.18568199742122735,0.0007162245040071291,-0.22848026176979092,0.10759180956795142,-0.4159627985024713,-0.7542505127389081,-0.8717432625901786,-0.7921854621174129,-1.1337232589605142,-1.0194263991754338,-1.0167517792532759,-0.639307773630237,-0.8737227466111397,-1.040267275569492,-0.9203189672200138,-0.5138778215627051,-0.7708136986322295,-0.23807833196532663,-0.09394932062754849,0.15933594304001494,0.6225622129851114,0.2616241165401686,0.583752779414183,0.7010389530529876,0.613482637456582,0.51318519691184,0.5938296844744868,0.9158459057596242,1.1142917046328904,0.8778656423940724,1.1800740697391459,1.029747890338537,0.649415337518197,0.03907641127812579,-0.042440414219512446,-0.07061709324170194,0.058431149982102706,0.22904991663627416,0.5678409231667901,1.0051176206714625,1.2067016985371855,1.1725931567639594,0.9027919953517843,0.39580276036388923,-0.16777883130311189,0.006483279965362831,0.4077676356556682,1.7007983863466305,2.136778623450395,2.1914693578738063,1.8648705896168665,1.1569823186795736,0.07250454314892257,-0.22409123979809392,-0.38815039166827403,0.11190171182538444,0.16818062103633233,-0.11212041402422158,-0.3123354390674744,-0.43246445409342604,-0.47250745910207664,-0.25784604334944716,-0.3477958820320061,-0.4903796355062313,-0.15443161978673325,-0.883253529444671,-1.3417094080968126,-1.3782435535248987,-0.6066093732664282,0.022022295702044448,0.73810215068157,1.1328534066404854,1.7930274058750202,1.369717687526422,0.8776582800516619,0.5156126240570963,0.3079283893512524,0.16100635007848227,0.35949713169507574,0.42014936531915126,0.23571552835074688,-0.04296225938128578,-0.28918953245804097,-0.5029662908795187,-0.6842925346457189,-0.19254004417658466,-0.307321403130057,-0.006761813551507623,-0.20204223073702846,-0.17520941281652957,-0.006563658533705663,-0.11962378103176557,-0.15137365475938747,-0.10181327971657139,-0.4084865286789638,-0.2970131936328996,-0.21450952873487195,0.32234851448406,-0.1507294925131297,-0.7416535936745977,-1.0269049758571351,-1.1219887699179811,-1.0269049758571351,-0.7416535936745977,-0.18132167724666604,0.19046358696263574,-0.05617565981006899,0.06445761360607435,0.15301147215551314,-0.049092162740312056,-0.02321583070110733,0.9927344309657824,1.64895754459788,1.6785842509492637,1.516891756945201,1.8210415712589905,1.6286561954708134,0.6679046889109457,0.7481744619486104,1.503265728078246,1.3000252155984953,0.5264361164022681,0.3308320859867261,0.8435843496893317,0.8394094540090855,0.2677524830948087,0.9299252826836377,0.5909525208075658,-0.12746492958749578,-0.8071231683108419,-0.5501807757564323,-0.5049714074214284,-0.3583131572611501,-0.3463916292151825,0.21387326102053097,0.03221287804329152,0.0,0.0,0.0,0.0,0.0,0.0,0.06623853772604806,-0.044159025150698715,-0.12301442720551785,0.019787804433771122,-0.31284239743082687,-0.523399260915316,-0.6118827860196963,-0.30021162771179577,-0.342131882994553,-1.046765377073656,-1.3355973242111339,-1.2748662621330353,-1.4620779627233556,-1.2001423587840994,-0.27198161404677446,-0.17063786202718306,-0.49033064409860644,-1.047068509218875,-1.1440192971095116,-1.047068509218875,-0.9059020563222447,-0.17167159891026273,0.6851814291519069,0.38490662770786166,0.42054613027340443,0.38490662770786166,0.27798812001123346,0.0997906071835197,-0.5935120347666178,0.29588408266089233,0.8242485159839144,1.1412671759777275,1.246940062642332,0.8484585991091284,1.1313982147707495,1.3579695097982054,-0.2940706750722356,-0.5663541508779537,-1.0862433722538571,-1.2159276524179938,-1.666683721602611,-1.9884700175963779,-0.6757422557143715,0.3443680978767457,-0.2687154788754127,0.208451148480032,0.12401308983903048,1.2930638617332428,1.45384430101591,1.433607157047618,1.918763343315045,1.82170585096847,1.3020588865670595,0.8182130209166577,0.10651929095166879,0.5530162298627566,0.3194742539083471,0.14488122041908616,0.2788868943852571,0.663719801423925,0.1915537250293091,-1.2519830608878135,-1.98261228593186,-2.3980060032077333,-2.3897081982322783,-1.9577188710054947,-1.1020380215273828,0.17733435020205757,0.4274507079154391,0.0,0.16597248593360767,-0.11064832395573848,0.1895045714305555,-1.1070920863035676,-1.3996043388943002,-1.1891735361140015,-0.16886012368443837,0.7483532981212198,1.4634738157299183,1.817847632641993,2.651768251587807,0.27802195399313256,-0.7999590340747772,-1.6183753031085641,-1.3793210913928162,-1.1701849251598337,-0.8094092202303023,-0.16786506601324336,1.0587763291127061,0.6914393657069021,0.6152012837035834,0.41014141889379085,0.4333168582622231,0.3379845391451937,0.12132778328289005,-0.18199167492433502,-0.7591451540297454,0.1367674478331044,1.5172966403405377,2.84339000377278,3.259766371937114,3.140361065763788,2.4687857770845696,1.2450405058994582,-0.27469131303960803,-0.6438641706819626,-0.46874426543914316,-0.6832977468855691,-1.0176772279801933,-1.2688323383223437,-1.348525265323499,-0.908683720944214,-0.243185842055534,-0.15717956644926226,0.2886743666317053,0.17389058261693674,0.2734880112946756,0.06233778660900942,-0.09350667991351409,0.47694390745737997,-0.05727106978665386,-1.154023044003457,-1.814328777338928,-1.7237173741178542,-1.4062413273924907,-0.8619006371628379,0.043251670952516585,0.9750480219601909,0.515964592011753,-0.7766183857772866,-1.3850496256477247,-1.39237912921006,-1.3155257554706998,-1.1449993982595879,-0.3954468986802189,0.463786909896481,0.8263039747046761,0.5142057314031603,-0.4064945576677327,0.14790602103267214,0.4716393097759627,0.46354305132330065,0.9207859980380004,1.4848819849634685,1.0810131164508348,1.4397040107488637,0.33462259884096923,0.6808188224255323,0.3833354202931436,-0.015083193733520295,0.08744479635954394,-0.5074641054734385,-0.9259984041356164,-0.5252601020997514,-1.0383158617048966,-0.736274866002081,-1.1092381456877953,-0.9565398019156421,-0.7355933113802187,-1.3609714390374712,-1.6344843472720487,-1.7500125218978648,-1.1298010813468322,-0.32079093062046654,-0.25327902377297523,0.7123443025687806,1.1188506534100884,1.043994524044244,0.5211542172895454,0.3673757379761091,0.9125588293969162,1.010014484804464,1.0112290406878768,1.2186758078348583,0.6548518630482989,0.8804116341648799,0.6774943380778157,0.658765046207361,1.0052791866848303,1.3178236613916492,0.38258199955879674,-0.5299748725988871,-1.419846955081402,-1.1214631787232252,-1.039476212357597,-0.7507328200360422,-0.04594999493797289,0.471875433918606,-0.5595954484272762,-0.9772028444622388,-1.1851875034364587,-1.183549425349936,-0.97228861020267,-0.5514050579946612,0.0791012312740903,0.47254414718311816,-0.3111568122636914,-0.5780031138403172,-0.2659123489151384,0.3276586670303183,0.02883784297724834,-0.04687354494706608,-0.2359296103970825,-0.2252657935454594,-1.3851637462324615,-1.6360019099948755,-1.2959151109594726,-0.5736069088144891,-0.4172711215306222,-0.01202885238835566,0.5576198527491725,0.9936267649262331,0.7765758580540936,0.18752758138237988,0.2401123566726192,1.3348850949132747,2.002920871695123,1.706266015451748,2.5518408075861134,2.638627344359703,2.1203868522585307,0.9971193312825953,0.8492909772769581,1.0576112087792304,0.0885303541050258,-1.730047891011103,-1.7361389179472497,-2.094206520607923,-2.964893362596861,-3.0244867783327596,-2.568681245136612,-1.8247161527630684,-1.3611258712494576,-1.171513052277858,-0.26771074113457527,0.14275165356591224,-0.038200006178261525,-0.10716123131068189,-0.3113678085938166,-0.3551252607066715,-0.3187406217576907,-0.32834611780735035,-0.17347072213163345,0.32934284967336713,-0.24999726283573712,-1.1683652051677857,-1.6592948253694568,-1.2654471420214137,-0.43549005871137697,0.3918836241510323,0.9310458080911488,2.0291996499861167,1.5860879670545498,1.071455538955854,0.5899289375814158,0.5948881803629625,0.5359555510273344,0.06513378796165221,-0.12239299262283297,0.15012129962821744,0.12570541137788557,0.08998744110083717,0.40742979065343515,-0.25832968010431845,-0.6048978301406922,-1.225017178876022,-0.7653368908061107,-1.6458889774775995,-1.9678186454025568,-1.8235041864366486,-1.2129456005798749,-1.2815961508093772,-0.693093696985157,-0.10860674004014026,0.3266880414489066,-0.3649908185233808,-0.5053719025708349,-0.5020664340431316,-0.5387713447109602,-0.4580321216280157,-0.5243337628626206,-0.03239679401545073,0.18309082911661972,1.3153429604703177,1.7416047554990353,2.593467647594989,2.743541609475688,2.375523572911822,1.2431899701585825,0.8969021832004936,0.3640305446170875,0.8552254352269735,0.517054521468508,1.1507121995573202,1.2611787184848362,0.9947179885796211,0.6799503235643589,0.4904447676684046,-0.7022890600887,-1.0714127289731312,-1.145418128506701,-0.7491923770481759,-0.6617167675478062,0.21976314129219116,0.9089526767946459,1.4823780123248809,0.9139099404216003,1.349193919823399,1.6976857596347135,1.5152875208557377,0.9452878345970681,0.725671745864153,0.5337553087172834,0.5540795565480373,-0.020026065466144383,0.5164994588329652,1.5262574621351308,2.028138779552144,2.0838134864992037,1.6932815829763106,1.5332613172386782,0.8142480663218906,-0.5862948232480344,-0.060116675883227,1.0147854015092252,1.294072052580286,1.3677560065447885,1.0097167569555168,0.9771144061345275,0.7277539098905254,0.03345474320355124,0.24562536836874888,-0.00624522309049258,-0.7495873233671527,-0.03508475287667645,-0.1685261731963394,0.1024746267160288,0.2734520572062614,0.21524929328320763,-0.19413245892162445,-0.46229680520449334,-0.4877881962956711,0.1074878138043574,-0.21438213567867714,-0.8841737986434304,-1.544993946040727,-1.9434612588180675,-0.6385425095204367,0.5815998343410294,1.71696577276633,1.9350986736808757,1.8786180643138417,1.3346355959168275,0.6232017747439368,-0.27739558362835853,0.5343019079537605,0.2056695708134299,-0.8352189460913065,-0.2634092128003327,0.10483939887807234,0.7897610127102725,0.7940153858778043,1.437829907214799,2.069067575679455,1.5917354657720835,0.6686683272167648,1.1409275926633635,0.6141177054203786,0.43571974650742434,-0.05390660276797571,0.5397057152938445,0.7272258297510413,0.7785342959270929,0.1006258426562914,-0.9520281760874532,-1.7928615618490107,-1.7622339959359046,-1.629725850156024,-1.1854515685617628,-0.42941115115312134,0.20610368965501474,0.5374583968849634,-0.23388246491767536,-0.6515297236992386,-0.9021180789681763,-0.9856475307244891,-0.9021180789681763,-0.6515297236992386,-0.23388246491767536,0.3508236973765129,0.0,0.0,0.24705727222574891,-0.16470484815049932,-0.45882064841924813,-0.6352901285804974,-0.6941132886342471,-0.6352901285804974,-0.45882064841924813,-0.16470484815049932,0.24705727222574891,0.0,0.0,0.33065294741153123,-0.22043529827435424,-0.6140697594785582,-0.8502504362010805,-0.9289773284419214,-0.8502504362010805,-0.14708266673486803,-0.13814854934794063,-0.7982523916377982,-1.821629887586375,-1.9730222637739212,-2.798460976510918,-2.6495320272138603,-2.6572518857596545,-1.8521778636823811,-1.639877517239765,-1.5461439285320209,-1.3706381085799872,-0.987736157789092,-0.47308861850577927,0.5714591467916297,0.6832245341891705,0.7000797697538679,0.7056271286635222,0.5046758104231048,-0.3857698516760689,-0.7711660525271589,-0.4053339653879368,0.18307047326596954,0.3087772085614958,0.0902980332066522,0.14697419071720152,0.1040207090748479,-0.5853006611681904,-1.0752737443738432,-1.7092911146447085,-1.107572074247991,0.026863037481018037,0.8462223015848993,1.6083415472580085,1.8437646761277162,1.2220629054036918,0.872826298371535,-0.4043721315929983,-0.9694444662937237,-0.9871017695995268,-1.1877355703160895,-0.40376718604590867,0.3181101394129064,0.9778964060603558,1.5755916138964392,0.9664671624863461,0.8733047693448672,0.504873996419116,0.39105793450324633,0.7577441758895375,0.6935285677633054,0.5008817433846096,0.1798037027534496,-0.2697055541301743,0.0,0.0,-0.7136563178263795,-0.02309350139275157,1.6579379864019148,2.761578665734652,3.2878285366054607,3.2366875990143393,2.608155852961289,1.4022332984463097,-0.38108006453059845,-0.4988643799436714,0.0,0.0,-0.14681464703148342,0.00955449178393264,0.33153706610539574,0.5415498372831097,0.6395928053170747,1.0668074189300578,0.2056750328052453,-0.5573597999286652,-1.2222970792716736,-1.327719343124832,-1.1343637252871166,-0.8192626904851399,0.02969668331649028,0.22528079374609938,-0.6013261102921469,-0.8326053834814341,-0.9096984745445299,-0.8326053834814341,-0.40417545815383515,-0.347294423068876,-0.18623516933206458,-0.22494845422988352,-0.41073274530394893,-0.48254292191908527,-0.4403789840752927,-0.13901964899150404,-0.11094295353163197,-0.5193554871041599,-0.6413715252019445,-0.009983430162635976,-0.5147161602811295,-0.6632902521489131,-0.6417899203887701,-0.4502151650007009,-0.5449757318680587,-0.6822477759483151,0.05114612332253694,0.5632752590926355,0.8654081816257098,1.1540542014288606,1.2172783116645096,1.055080512332657,0.6674608034333025,0.05441918496644621,0.12315454551357999,-0.1847318182703699,0.1728348491485737,0.1146537502502971,-0.14007640020566617,-1.0941161511800257,-1.6972674452347505,-1.9495302823698402,-1.8509046625852956,-1.4013905858811162,-0.6009880522573019,0.007107698104915433,0.3341539273666462,0.05553208931709265,-0.037021392878061776,-0.1031310230174578,-0.1427968011010954,-0.15601872712897463,-0.1427968011010954,-0.1031310230174578,-0.037021392878061776,0.05553208931709265,0.0,0.0,0.0,0.0,0.0,0.0,0.0,0.0,0.0,0.0,0.0,0.04221633009985893,-0.31435220936798314,-0.00757100027211402,0.5029558926375743,0.840165533273516,1.0040579216357108,0.9946330577241591,0.8118909415388608,0.45583157307981553,-0.32496413775710553,-0.22976438085143094,0.5408038787260809,0.5266871228101169,0.45858635634538397,0.3365015793318823,0.16043279176961184,0.037695896098231485,-0.4252007499610079,-0.517798267154807,-0.08163313040199172,-0.3015065830447556,-0.2759551777019797,-0.199300961673652,-0.07154393495977251,0.10731590243965873,0.0,0.1724916727522781,0.32373323481064104,-0.6128268001766233,-1.440848369473025,-1.7209159571650685,-1.4152489924687335,-0.39818773377604016,0.6034565457779473,1.589683846193229,2.018377481676931,1.1431484857206178,0.400173357716598,-0.07564642112349393,-0.4310137910684895,0.13317043913822205,0.37097479474219,0.5136574081045707,0.5612182792253644,0.5136574081045707,0.37097479474219,-0.17406900646551574,-0.23296692691774035,0.7292792520218905,1.2321140527859487,1.4752931340817668,1.4588164959093448,1.1826841382686828,0.6468960611597813,-0.14854773541736044,-0.23803756527956596,0.0,0.0,0.0,0.0,0.0,0.0,0.0,0.0,0.0,0.0,0.0,0.0,0.0,0.0,0.0,0.0,0.0,0.0,0.0,-0.09266120939064161,0.061774139593761095,0.17208510315404876,0.23827168129022133,0.2603338740022789,0.23827168129022133,0.17208510315404876,0.061774139593761095,-0.09266120939064161,0.0,0.0,0.0,0.0,0.0,0.0,0.0]}],                        {\"font\":{\"size\":20},\"template\":{\"data\":{\"bar\":[{\"error_x\":{\"color\":\"#2a3f5f\"},\"error_y\":{\"color\":\"#2a3f5f\"},\"marker\":{\"line\":{\"color\":\"#E5ECF6\",\"width\":0.5},\"pattern\":{\"fillmode\":\"overlay\",\"size\":10,\"solidity\":0.2}},\"type\":\"bar\"}],\"barpolar\":[{\"marker\":{\"line\":{\"color\":\"#E5ECF6\",\"width\":0.5},\"pattern\":{\"fillmode\":\"overlay\",\"size\":10,\"solidity\":0.2}},\"type\":\"barpolar\"}],\"carpet\":[{\"aaxis\":{\"endlinecolor\":\"#2a3f5f\",\"gridcolor\":\"white\",\"linecolor\":\"white\",\"minorgridcolor\":\"white\",\"startlinecolor\":\"#2a3f5f\"},\"baxis\":{\"endlinecolor\":\"#2a3f5f\",\"gridcolor\":\"white\",\"linecolor\":\"white\",\"minorgridcolor\":\"white\",\"startlinecolor\":\"#2a3f5f\"},\"type\":\"carpet\"}],\"choropleth\":[{\"colorbar\":{\"outlinewidth\":0,\"ticks\":\"\"},\"type\":\"choropleth\"}],\"contour\":[{\"colorbar\":{\"outlinewidth\":0,\"ticks\":\"\"},\"colorscale\":[[0.0,\"#0d0887\"],[0.1111111111111111,\"#46039f\"],[0.2222222222222222,\"#7201a8\"],[0.3333333333333333,\"#9c179e\"],[0.4444444444444444,\"#bd3786\"],[0.5555555555555556,\"#d8576b\"],[0.6666666666666666,\"#ed7953\"],[0.7777777777777778,\"#fb9f3a\"],[0.8888888888888888,\"#fdca26\"],[1.0,\"#f0f921\"]],\"type\":\"contour\"}],\"contourcarpet\":[{\"colorbar\":{\"outlinewidth\":0,\"ticks\":\"\"},\"type\":\"contourcarpet\"}],\"heatmap\":[{\"colorbar\":{\"outlinewidth\":0,\"ticks\":\"\"},\"colorscale\":[[0.0,\"#0d0887\"],[0.1111111111111111,\"#46039f\"],[0.2222222222222222,\"#7201a8\"],[0.3333333333333333,\"#9c179e\"],[0.4444444444444444,\"#bd3786\"],[0.5555555555555556,\"#d8576b\"],[0.6666666666666666,\"#ed7953\"],[0.7777777777777778,\"#fb9f3a\"],[0.8888888888888888,\"#fdca26\"],[1.0,\"#f0f921\"]],\"type\":\"heatmap\"}],\"heatmapgl\":[{\"colorbar\":{\"outlinewidth\":0,\"ticks\":\"\"},\"colorscale\":[[0.0,\"#0d0887\"],[0.1111111111111111,\"#46039f\"],[0.2222222222222222,\"#7201a8\"],[0.3333333333333333,\"#9c179e\"],[0.4444444444444444,\"#bd3786\"],[0.5555555555555556,\"#d8576b\"],[0.6666666666666666,\"#ed7953\"],[0.7777777777777778,\"#fb9f3a\"],[0.8888888888888888,\"#fdca26\"],[1.0,\"#f0f921\"]],\"type\":\"heatmapgl\"}],\"histogram\":[{\"marker\":{\"pattern\":{\"fillmode\":\"overlay\",\"size\":10,\"solidity\":0.2}},\"type\":\"histogram\"}],\"histogram2d\":[{\"colorbar\":{\"outlinewidth\":0,\"ticks\":\"\"},\"colorscale\":[[0.0,\"#0d0887\"],[0.1111111111111111,\"#46039f\"],[0.2222222222222222,\"#7201a8\"],[0.3333333333333333,\"#9c179e\"],[0.4444444444444444,\"#bd3786\"],[0.5555555555555556,\"#d8576b\"],[0.6666666666666666,\"#ed7953\"],[0.7777777777777778,\"#fb9f3a\"],[0.8888888888888888,\"#fdca26\"],[1.0,\"#f0f921\"]],\"type\":\"histogram2d\"}],\"histogram2dcontour\":[{\"colorbar\":{\"outlinewidth\":0,\"ticks\":\"\"},\"colorscale\":[[0.0,\"#0d0887\"],[0.1111111111111111,\"#46039f\"],[0.2222222222222222,\"#7201a8\"],[0.3333333333333333,\"#9c179e\"],[0.4444444444444444,\"#bd3786\"],[0.5555555555555556,\"#d8576b\"],[0.6666666666666666,\"#ed7953\"],[0.7777777777777778,\"#fb9f3a\"],[0.8888888888888888,\"#fdca26\"],[1.0,\"#f0f921\"]],\"type\":\"histogram2dcontour\"}],\"mesh3d\":[{\"colorbar\":{\"outlinewidth\":0,\"ticks\":\"\"},\"type\":\"mesh3d\"}],\"parcoords\":[{\"line\":{\"colorbar\":{\"outlinewidth\":0,\"ticks\":\"\"}},\"type\":\"parcoords\"}],\"pie\":[{\"automargin\":true,\"type\":\"pie\"}],\"scatter\":[{\"marker\":{\"colorbar\":{\"outlinewidth\":0,\"ticks\":\"\"}},\"type\":\"scatter\"}],\"scatter3d\":[{\"line\":{\"colorbar\":{\"outlinewidth\":0,\"ticks\":\"\"}},\"marker\":{\"colorbar\":{\"outlinewidth\":0,\"ticks\":\"\"}},\"type\":\"scatter3d\"}],\"scattercarpet\":[{\"marker\":{\"colorbar\":{\"outlinewidth\":0,\"ticks\":\"\"}},\"type\":\"scattercarpet\"}],\"scattergeo\":[{\"marker\":{\"colorbar\":{\"outlinewidth\":0,\"ticks\":\"\"}},\"type\":\"scattergeo\"}],\"scattergl\":[{\"marker\":{\"colorbar\":{\"outlinewidth\":0,\"ticks\":\"\"}},\"type\":\"scattergl\"}],\"scattermapbox\":[{\"marker\":{\"colorbar\":{\"outlinewidth\":0,\"ticks\":\"\"}},\"type\":\"scattermapbox\"}],\"scatterpolar\":[{\"marker\":{\"colorbar\":{\"outlinewidth\":0,\"ticks\":\"\"}},\"type\":\"scatterpolar\"}],\"scatterpolargl\":[{\"marker\":{\"colorbar\":{\"outlinewidth\":0,\"ticks\":\"\"}},\"type\":\"scatterpolargl\"}],\"scatterternary\":[{\"marker\":{\"colorbar\":{\"outlinewidth\":0,\"ticks\":\"\"}},\"type\":\"scatterternary\"}],\"surface\":[{\"colorbar\":{\"outlinewidth\":0,\"ticks\":\"\"},\"colorscale\":[[0.0,\"#0d0887\"],[0.1111111111111111,\"#46039f\"],[0.2222222222222222,\"#7201a8\"],[0.3333333333333333,\"#9c179e\"],[0.4444444444444444,\"#bd3786\"],[0.5555555555555556,\"#d8576b\"],[0.6666666666666666,\"#ed7953\"],[0.7777777777777778,\"#fb9f3a\"],[0.8888888888888888,\"#fdca26\"],[1.0,\"#f0f921\"]],\"type\":\"surface\"}],\"table\":[{\"cells\":{\"fill\":{\"color\":\"#EBF0F8\"},\"line\":{\"color\":\"white\"}},\"header\":{\"fill\":{\"color\":\"#C8D4E3\"},\"line\":{\"color\":\"white\"}},\"type\":\"table\"}]},\"layout\":{\"annotationdefaults\":{\"arrowcolor\":\"#2a3f5f\",\"arrowhead\":0,\"arrowwidth\":1},\"autotypenumbers\":\"strict\",\"coloraxis\":{\"colorbar\":{\"outlinewidth\":0,\"ticks\":\"\"}},\"colorscale\":{\"diverging\":[[0,\"#8e0152\"],[0.1,\"#c51b7d\"],[0.2,\"#de77ae\"],[0.3,\"#f1b6da\"],[0.4,\"#fde0ef\"],[0.5,\"#f7f7f7\"],[0.6,\"#e6f5d0\"],[0.7,\"#b8e186\"],[0.8,\"#7fbc41\"],[0.9,\"#4d9221\"],[1,\"#276419\"]],\"sequential\":[[0.0,\"#0d0887\"],[0.1111111111111111,\"#46039f\"],[0.2222222222222222,\"#7201a8\"],[0.3333333333333333,\"#9c179e\"],[0.4444444444444444,\"#bd3786\"],[0.5555555555555556,\"#d8576b\"],[0.6666666666666666,\"#ed7953\"],[0.7777777777777778,\"#fb9f3a\"],[0.8888888888888888,\"#fdca26\"],[1.0,\"#f0f921\"]],\"sequentialminus\":[[0.0,\"#0d0887\"],[0.1111111111111111,\"#46039f\"],[0.2222222222222222,\"#7201a8\"],[0.3333333333333333,\"#9c179e\"],[0.4444444444444444,\"#bd3786\"],[0.5555555555555556,\"#d8576b\"],[0.6666666666666666,\"#ed7953\"],[0.7777777777777778,\"#fb9f3a\"],[0.8888888888888888,\"#fdca26\"],[1.0,\"#f0f921\"]]},\"colorway\":[\"#636efa\",\"#EF553B\",\"#00cc96\",\"#ab63fa\",\"#FFA15A\",\"#19d3f3\",\"#FF6692\",\"#B6E880\",\"#FF97FF\",\"#FECB52\"],\"font\":{\"color\":\"#2a3f5f\"},\"geo\":{\"bgcolor\":\"white\",\"lakecolor\":\"white\",\"landcolor\":\"#E5ECF6\",\"showlakes\":true,\"showland\":true,\"subunitcolor\":\"white\"},\"hoverlabel\":{\"align\":\"left\"},\"hovermode\":\"closest\",\"mapbox\":{\"style\":\"light\"},\"paper_bgcolor\":\"white\",\"plot_bgcolor\":\"#E5ECF6\",\"polar\":{\"angularaxis\":{\"gridcolor\":\"white\",\"linecolor\":\"white\",\"ticks\":\"\"},\"bgcolor\":\"#E5ECF6\",\"radialaxis\":{\"gridcolor\":\"white\",\"linecolor\":\"white\",\"ticks\":\"\"}},\"scene\":{\"xaxis\":{\"backgroundcolor\":\"#E5ECF6\",\"gridcolor\":\"white\",\"gridwidth\":2,\"linecolor\":\"white\",\"showbackground\":true,\"ticks\":\"\",\"zerolinecolor\":\"white\"},\"yaxis\":{\"backgroundcolor\":\"#E5ECF6\",\"gridcolor\":\"white\",\"gridwidth\":2,\"linecolor\":\"white\",\"showbackground\":true,\"ticks\":\"\",\"zerolinecolor\":\"white\"},\"zaxis\":{\"backgroundcolor\":\"#E5ECF6\",\"gridcolor\":\"white\",\"gridwidth\":2,\"linecolor\":\"white\",\"showbackground\":true,\"ticks\":\"\",\"zerolinecolor\":\"white\"}},\"shapedefaults\":{\"line\":{\"color\":\"#2a3f5f\"}},\"ternary\":{\"aaxis\":{\"gridcolor\":\"white\",\"linecolor\":\"white\",\"ticks\":\"\"},\"baxis\":{\"gridcolor\":\"white\",\"linecolor\":\"white\",\"ticks\":\"\"},\"bgcolor\":\"#E5ECF6\",\"caxis\":{\"gridcolor\":\"white\",\"linecolor\":\"white\",\"ticks\":\"\"}},\"title\":{\"x\":0.05},\"xaxis\":{\"automargin\":true,\"gridcolor\":\"white\",\"linecolor\":\"white\",\"ticks\":\"\",\"title\":{\"standoff\":15},\"zerolinecolor\":\"white\",\"zerolinewidth\":2},\"yaxis\":{\"automargin\":true,\"gridcolor\":\"white\",\"linecolor\":\"white\",\"ticks\":\"\",\"title\":{\"standoff\":15},\"zerolinecolor\":\"white\",\"zerolinewidth\":2}}},\"title\":{\"text\":\"Loadings from model\"},\"xaxis\":{\"title\":{\"text\":\"$$ {Raman shift} \\\\;\\\\; (cm^{-1})  $$\"}},\"yaxis\":{\"title\":{\"text\":\"Loadings\"}}},                        {\"responsive\": true}                    ).then(function(){\n",
       "                            \n",
       "var gd = document.getElementById('c269603d-65e6-4e2d-b267-9f27bd263f41');\n",
       "var x = new MutationObserver(function (mutations, observer) {{\n",
       "        var display = window.getComputedStyle(gd).display;\n",
       "        if (!display || display === 'none') {{\n",
       "            console.log([gd, 'removed!']);\n",
       "            Plotly.purge(gd);\n",
       "            observer.disconnect();\n",
       "        }}\n",
       "}});\n",
       "\n",
       "// Listen for the removal of the full notebook cells\n",
       "var notebookContainer = gd.closest('#notebook-container');\n",
       "if (notebookContainer) {{\n",
       "    x.observe(notebookContainer, {childList: true});\n",
       "}}\n",
       "\n",
       "// Listen for the clearing of the current output cell\n",
       "var outputEl = gd.closest('.output');\n",
       "if (outputEl) {{\n",
       "    x.observe(outputEl, {childList: true});\n",
       "}}\n",
       "\n",
       "                        })                };                });            </script>        </div>"
      ]
     },
     "metadata": {},
     "output_type": "display_data"
    }
   ],
   "source": [
    "las = Lasso(alpha = 0.004).fit(X_train, y_train)\n",
    "wei = np.zeros(804)\n",
    "k = 0\n",
    "for i in np.where(las.coef_!=0)[0]:\n",
    "#     print (i)\n",
    "    wei[i] = clf.coef_[k]\n",
    "    k+=1\n",
    "for i in np.where(las.coef_==0)[0]:\n",
    "    wei[i] = 0\n",
    "\n",
    "\n",
    "fig = go.Figure()\n",
    "\n",
    "k = 50\n",
    "\n",
    "fig.add_trace(go.Scatter(x = x_axis,\n",
    "                                 y= savgol_filter(wei,9,3),\n",
    "                       mode='lines'))\n",
    "\n",
    "\n",
    "\n",
    "\n",
    "fig.update_xaxes(title_text = '$$ {Raman shift} \\;\\; (cm^{-1})  $$')\n",
    "fig.update_yaxes(title_text='Loadings')\n",
    "fig.update_layout( title='Loadings from model' ,  font=dict(\n",
    "        size=20\n",
    "    )\n",
    ")\n",
    "\n",
    "\n",
    "fig.show()"
   ]
  },
  {
   "cell_type": "code",
   "execution_count": null,
   "id": "8288eb22",
   "metadata": {},
   "outputs": [],
   "source": [
    "x_axis"
   ]
  },
  {
   "cell_type": "code",
   "execution_count": null,
   "id": "84869bc5",
   "metadata": {},
   "outputs": [],
   "source": []
  }
 ],
 "metadata": {
  "kernelspec": {
   "display_name": "Python 3",
   "language": "python",
   "name": "python3"
  },
  "language_info": {
   "codemirror_mode": {
    "name": "ipython",
    "version": 3
   },
   "file_extension": ".py",
   "mimetype": "text/x-python",
   "name": "python",
   "nbconvert_exporter": "python",
   "pygments_lexer": "ipython3",
   "version": "3.8.8"
  }
 },
 "nbformat": 4,
 "nbformat_minor": 5
}
